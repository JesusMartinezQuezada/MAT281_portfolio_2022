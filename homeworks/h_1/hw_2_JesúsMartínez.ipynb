{
  "cells": [
    {
      "cell_type": "markdown",
      "metadata": {
        "id": "oGDmSte0_izE"
      },
      "source": [
        "<a href=\"https://colab.research.google.com/github/fralfaro/MAT281_2022/blob/main/homeworks/h2/hw_02.ipynb\n",
        "\" target=\"_parent\"><img src=\"https://colab.research.google.com/assets/colab-badge.svg\" alt=\"Open In Colab\"/></a>\n",
        "\n",
        "\n",
        "# Tarea N°02\n",
        "\n",
        "## Instrucciones\n",
        "\n",
        "1.- Completa tus datos personales (nombre y rol USM) en siguiente celda.\n",
        "\n",
        "\n",
        "* __Nombre__: Jesús Elías Martínez Quezada\n",
        "\n",
        "* __Rol__: 201910511-6\n",
        "\n",
        "2.- Debes _subir_ este archivo con tus cambios a tu repositorio personal del curso, incluyendo datos, imágenes, scripts, etc.\n",
        "\n",
        "3.- Se evaluará:\n",
        "   - Soluciones\n",
        "   - Código\n",
        "   - Al presionar  `Kernel -> Restart Kernel and Run All Cells` deben ejecutarse todas las celdas sin error."
      ]
    },
    {
      "cell_type": "markdown",
      "metadata": {
        "id": "sq5oUmE3_izI"
      },
      "source": [
        "## I.- Clasificación de dígitos\n",
        "\n",
        "\n",
        "En este laboratorio realizaremos el trabajo de reconocer un dígito a partir de una imagen.\n"
      ]
    },
    {
      "cell_type": "markdown",
      "metadata": {
        "id": "f9ojam79_izK"
      },
      "source": [
        "![rgb](https://www.wolfram.com/language/11/neural-networks/assets.en/digit-classification/smallthumb_1.png)"
      ]
    },
    {
      "cell_type": "markdown",
      "metadata": {
        "id": "2_oEp1BI_izK"
      },
      "source": [
        "El objetivo es a partir de los datos, hacer la mejor predicción de cada imagen. Para ellos es necesario realizar los pasos clásicos de un proyecto de _Machine Learning_, como estadística descriptiva, visualización y preprocesamiento. \n",
        "\n",
        "* Se solicita ajustar al menos tres modelos de clasificación:\n",
        " * Regresión logística\n",
        " * K-Nearest Neighbours \n",
        " * Uno o más algoritmos a su elección [link](https://scikit-learn.org/stable/supervised_learning.html#supervised-learning) (es obligación escoger un _estimator_ que tenga por lo menos un hiperparámetro). \n",
        " \n",
        " \n",
        "* En los modelos que posean hiperparámetros es mandatorio buscar el/los mejores con alguna técnica disponible en `scikit-learn` ([ver más](https://scikit-learn.org/stable/modules/grid_search.html#tuning-the-hyper-parameters-of-an-estimator)).\n",
        "* Para cada modelo, se debe realizar _Cross Validation_ con 10 _folds_ utilizando los datos de entrenamiento con tal de determinar un intervalo de confianza para el _score_ del modelo.\n",
        "* Realizar una predicción con cada uno de los tres modelos con los datos _test_ y obtener el _score_. \n",
        "* Analizar sus métricas de error (**accuracy**, **precision**, **recall**, **f-score**)\n",
        "\n"
      ]
    },
    {
      "cell_type": "markdown",
      "metadata": {
        "id": "KP-DwTy9_izL"
      },
      "source": [
        "### Exploración de los datos\n",
        "A continuación se carga el conjunto de datos a utilizar, a través del sub-módulo `datasets` de `sklearn`."
      ]
    },
    {
      "cell_type": "code",
      "execution_count": 1,
      "metadata": {
        "id": "d-mz_Fxj_izM"
      },
      "outputs": [],
      "source": [
        "import numpy as np\n",
        "import pandas as pd\n",
        "from sklearn import datasets\n",
        "import matplotlib.pyplot as plt\n",
        "from sklearn.metrics import accuracy_score, recall_score, precision_score, f1_score\n",
        "import time\n",
        "\n",
        "\n",
        "%matplotlib inline"
      ]
    },
    {
      "cell_type": "code",
      "source": [
        "def mae(targets, predictions) -> float:\n",
        "    \"\"\"\n",
        "    Calculo de la metrica: mean absolute error (MAE)\n",
        "    :param targets: valor real\n",
        "    :param predictions: valor estimado\n",
        "    :return: valor de la metrica\n",
        "    \"\"\"\n",
        "    error = predictions - targets\n",
        "    return round(np.abs(error).mean(), 4)\n",
        "\n",
        "\n",
        "def mse(targets, predictions) -> float:\n",
        "    \"\"\"\n",
        "    Calculo de la metrica: mean squared error (MSE)\n",
        "    :param targets: valor real\n",
        "    :param predictions: valor estimado\n",
        "    :return: valor de la metrica\n",
        "    \"\"\"\n",
        "    error = predictions - targets\n",
        "    return round((error ** 2).mean(), 4)\n",
        "\n",
        "\n",
        "def rmse(targets, predictions) -> float:\n",
        "    \"\"\"\n",
        "    Calculo de la metrica: root mean squared error (RMSE)\n",
        "    :param targets: valor real\n",
        "    :param predictions: valor estimado\n",
        "    :return: valor de la metrica\n",
        "    \"\"\"\n",
        "    error = predictions - targets\n",
        "    return round(np.sqrt((error ** 2).mean()), 4)\n",
        "\n",
        "\n",
        "# b) Percentage errors\n",
        "\n",
        "def mape(targets, predictions) -> float:\n",
        "    \"\"\"\n",
        "    Calculo de la metrica: mean absolute percentage error (MAPE)\n",
        "    :param targets: valor real\n",
        "    :param predictions: valor estimado\n",
        "    :return: valor de la metrica\n",
        "    \"\"\"\n",
        "    error = predictions - targets\n",
        "\n",
        "    if any(x == 0 for x in targets):\n",
        "        return np.inf\n",
        "    else:\n",
        "        return round(np.abs(error / targets).mean(),4)\n",
        "\n",
        "\n",
        "def maape(targets, predictions) -> float:\n",
        "    \"\"\"\n",
        "    Calculo de la metrica:  mean arctangent percentage error  (MAAPE)\n",
        "    :param targets: valor real\n",
        "    :param predictions: valor estimado\n",
        "    :return: valor de la metrica\n",
        "    \"\"\"\n",
        "\n",
        "    error = predictions - targets\n",
        "\n",
        "    if any((x, y) == (0, 0) for x, y in zip(predictions, targets)):\n",
        "        return np.inf\n",
        "\n",
        "    else:\n",
        "        return round(np.arctan(np.abs(error / targets)).mean(),4)\n",
        "\n",
        "\n",
        "def wmape(targets, predictions) -> float:\n",
        "    \"\"\"\n",
        "    Calculo de la metrica:  weighted mean absolute percentage error (WMAPE)\n",
        "    :param targets: valor real\n",
        "    :param predictions: valor estimado\n",
        "    :return: valor de la metrica\n",
        "    \"\"\"\n",
        "    error = predictions - targets\n",
        "    sum_values = np.sum(targets)\n",
        "\n",
        "    if sum_values == 0:\n",
        "        return np.inf\n",
        "    else:\n",
        "        return round(np.abs(error).sum() / sum_values,4)\n",
        "\n",
        "\n",
        "def mmape(targets, predictions) -> float:\n",
        "    \"\"\"\n",
        "    Calculo de la metrica: modified mean absolute percentage error (MMAPE)\n",
        "    :param targets: valor real\n",
        "    :param predictions: valor estimado\n",
        "    :return: valor de la metrica\n",
        "    \"\"\"\n",
        "    error = np.abs(predictions - targets)\n",
        "    denom = 1 + np.abs(targets)\n",
        "\n",
        "    return round(np.mean(error / denom),4)\n",
        "\n",
        "\n",
        "def smape(targets, predictions) -> float:\n",
        "    \"\"\"\n",
        "    Calculo de la metrica: symmetric mean absolute percentage error (SMAPE)\n",
        "    :param targets: valor real\n",
        "    :param predictions: valor estimado\n",
        "    :return: valor de la metrica\n",
        "    \"\"\"\n",
        "    error = predictions - targets\n",
        "    sum_values = np.abs(predictions) + np.abs(targets)\n",
        "\n",
        "    if any(x == 0 for x in sum_values):\n",
        "        return np.inf\n",
        "\n",
        "    else:\n",
        "        return round(2 * np.mean(np.abs(error) / sum_values),4)\n",
        "\n",
        "def summary_metrics(df) -> pd.DataFrame:\n",
        "    \"\"\"\n",
        "    Aplicar las distintas metricas definidas\n",
        "    :param df:  dataframe con las columnas: ['y','yhat']\n",
        "    :return: dataframe con las metricas especificadas\n",
        "    \"\"\"\n",
        "    df_result = pd.DataFrame()\n",
        "\n",
        "    y_true = df['y']\n",
        "    y_pred = df['yhat']\n",
        "\n",
        "    df_result['mae'] = [round(mae(y_true, y_pred), 4)]\n",
        "    df_result['mse'] = [round(mse(y_true, y_pred), 4)]\n",
        "    df_result['rmse'] = [round(rmse(y_true, y_pred), 4)]\n",
        "\n",
        "    df_result['mape'] = [round(mape(y_true, y_pred), 4)]\n",
        "    df_result['maape'] = [round(maape(y_true, y_pred), 4)]\n",
        "    df_result['wmape'] = [round(wmape(y_true, y_pred), 4)]\n",
        "    df_result['mmape'] = [round(mmape(y_true, y_pred), 4)]\n",
        "    df_result['smape'] = [round(smape(y_true, y_pred), 4)]\n",
        "\n",
        "    # nombre del modelo por defecto\n",
        "    #try:\n",
        "    #    model = df['model'][0]\n",
        "    #    df_result['model'] = [model]\n",
        "    #except:\n",
        "    #    df_result['model'] = ['---']\n",
        "\n",
        "    return df_result"
      ],
      "metadata": {
        "id": "ABVSmivFVdHg"
      },
      "execution_count": 2,
      "outputs": []
    },
    {
      "cell_type": "code",
      "source": [
        "def summary_metrics(df) -> pd.DataFrame:\n",
        "    \"\"\"\n",
        "    Aplicar las distintas metricas definidas\n",
        "    :param df:  dataframe con las columnas: ['y','yhat']\n",
        "    :return: dataframe con las metricas especificadas\n",
        "    \"\"\"\n",
        "    df_result = pd.DataFrame()\n",
        "\n",
        "    y_true = df['y']\n",
        "    y_pred = df['yhat']\n",
        "\n",
        "    df_result['accuracy'] = [round(accuracy_score(y_true,y_pred),4)]\n",
        "    df_result['recall'] = [round(recall_score(y_true,y_pred, average=\"macro\"),4)]\n",
        "    df_result['precision'] = [round(precision_score(y_true,y_pred, average=\"macro\"),4)]\n",
        "    df_result['fscore'] = [round(f1_score(y_true,y_pred, average=\"macro\"),4)]\n",
        "\n",
        "\n",
        "    return df_result"
      ],
      "metadata": {
        "id": "7wTWRcjeVX9P"
      },
      "execution_count": 3,
      "outputs": []
    },
    {
      "cell_type": "code",
      "execution_count": 4,
      "metadata": {
        "id": "f-5bDEvR_izN",
        "outputId": "ce8678c1-ed93-4957-80e3-3298ebdd33c1",
        "colab": {
          "base_uri": "https://localhost:8080/"
        }
      },
      "outputs": [
        {
          "output_type": "stream",
          "name": "stdout",
          "text": [
            ".. _digits_dataset:\n",
            "\n",
            "Optical recognition of handwritten digits dataset\n",
            "--------------------------------------------------\n",
            "\n",
            "**Data Set Characteristics:**\n",
            "\n",
            "    :Number of Instances: 1797\n",
            "    :Number of Attributes: 64\n",
            "    :Attribute Information: 8x8 image of integer pixels in the range 0..16.\n",
            "    :Missing Attribute Values: None\n",
            "    :Creator: E. Alpaydin (alpaydin '@' boun.edu.tr)\n",
            "    :Date: July; 1998\n",
            "\n",
            "This is a copy of the test set of the UCI ML hand-written digits datasets\n",
            "https://archive.ics.uci.edu/ml/datasets/Optical+Recognition+of+Handwritten+Digits\n",
            "\n",
            "The data set contains images of hand-written digits: 10 classes where\n",
            "each class refers to a digit.\n",
            "\n",
            "Preprocessing programs made available by NIST were used to extract\n",
            "normalized bitmaps of handwritten digits from a preprinted form. From a\n",
            "total of 43 people, 30 contributed to the training set and different 13\n",
            "to the test set. 32x32 bitmaps are divided into nonoverlapping blocks of\n",
            "4x4 and the number of on pixels are counted in each block. This generates\n",
            "an input matrix of 8x8 where each element is an integer in the range\n",
            "0..16. This reduces dimensionality and gives invariance to small\n",
            "distortions.\n",
            "\n",
            "For info on NIST preprocessing routines, see M. D. Garris, J. L. Blue, G.\n",
            "T. Candela, D. L. Dimmick, J. Geist, P. J. Grother, S. A. Janet, and C.\n",
            "L. Wilson, NIST Form-Based Handprint Recognition System, NISTIR 5469,\n",
            "1994.\n",
            "\n",
            ".. topic:: References\n",
            "\n",
            "  - C. Kaynak (1995) Methods of Combining Multiple Classifiers and Their\n",
            "    Applications to Handwritten Digit Recognition, MSc Thesis, Institute of\n",
            "    Graduate Studies in Science and Engineering, Bogazici University.\n",
            "  - E. Alpaydin, C. Kaynak (1998) Cascading Classifiers, Kybernetika.\n",
            "  - Ken Tang and Ponnuthurai N. Suganthan and Xi Yao and A. Kai Qin.\n",
            "    Linear dimensionalityreduction using relevance weighted LDA. School of\n",
            "    Electrical and Electronic Engineering Nanyang Technological University.\n",
            "    2005.\n",
            "  - Claudio Gentile. A New Approximate Maximal Margin Classification\n",
            "    Algorithm. NIPS. 2000.\n",
            "\n"
          ]
        }
      ],
      "source": [
        "digits_dict = datasets.load_digits()\n",
        "print(digits_dict[\"DESCR\"])"
      ]
    },
    {
      "cell_type": "code",
      "execution_count": 5,
      "metadata": {
        "id": "F7dJ-Qt4_izO",
        "outputId": "45b28d7d-5246-46f2-c02b-191e14c16d67",
        "colab": {
          "base_uri": "https://localhost:8080/"
        }
      },
      "outputs": [
        {
          "output_type": "execute_result",
          "data": {
            "text/plain": [
              "dict_keys(['data', 'target', 'frame', 'feature_names', 'target_names', 'images', 'DESCR'])"
            ]
          },
          "metadata": {},
          "execution_count": 5
        }
      ],
      "source": [
        "digits_dict.keys()"
      ]
    },
    {
      "cell_type": "code",
      "execution_count": 6,
      "metadata": {
        "id": "U3a1AUS-_izP",
        "outputId": "cfaed99c-7fa9-4abb-b7b3-c80b9f2b439f",
        "colab": {
          "base_uri": "https://localhost:8080/"
        }
      },
      "outputs": [
        {
          "output_type": "execute_result",
          "data": {
            "text/plain": [
              "array([0, 1, 2, ..., 8, 9, 8])"
            ]
          },
          "metadata": {},
          "execution_count": 6
        }
      ],
      "source": [
        "digits_dict[\"target\"]"
      ]
    },
    {
      "cell_type": "markdown",
      "metadata": {
        "id": "oUqoxO1d_izQ"
      },
      "source": [
        "A continuación se crea dataframe declarado como `digits` con los datos de `digits_dict` tal que tenga 65 columnas, las 6 primeras a la representación de la imagen en escala de grises (0-blanco, 255-negro) y la última correspondiente al dígito (`target`) con el nombre _target_."
      ]
    },
    {
      "cell_type": "code",
      "execution_count": 7,
      "metadata": {
        "id": "Uulhl2YR_izQ",
        "outputId": "4cad60e3-7361-4818-e587-3e54ba4cd24b",
        "colab": {
          "base_uri": "https://localhost:8080/",
          "height": 235
        }
      },
      "outputs": [
        {
          "output_type": "execute_result",
          "data": {
            "text/plain": [
              "   c00  c01  c02  c03  c04  c05  c06  c07  c08  c09  ...  c55  c56  c57  c58  \\\n",
              "0    0    0    5   13    9    1    0    0    0    0  ...    0    0    0    6   \n",
              "1    0    0    0   12   13    5    0    0    0    0  ...    0    0    0    0   \n",
              "2    0    0    0    4   15   12    0    0    0    0  ...    0    0    0    0   \n",
              "3    0    0    7   15   13    1    0    0    0    8  ...    0    0    0    7   \n",
              "4    0    0    0    1   11    0    0    0    0    0  ...    0    0    0    0   \n",
              "\n",
              "   c59  c60  c61  c62  c63  target  \n",
              "0   13   10    0    0    0       0  \n",
              "1   11   16   10    0    0       1  \n",
              "2    3   11   16    9    0       2  \n",
              "3   13   13    9    0    0       3  \n",
              "4    2   16    4    0    0       4  \n",
              "\n",
              "[5 rows x 65 columns]"
            ],
            "text/html": [
              "\n",
              "  <div id=\"df-58726d5d-6a1f-4efc-8503-e5411dccfb51\">\n",
              "    <div class=\"colab-df-container\">\n",
              "      <div>\n",
              "<style scoped>\n",
              "    .dataframe tbody tr th:only-of-type {\n",
              "        vertical-align: middle;\n",
              "    }\n",
              "\n",
              "    .dataframe tbody tr th {\n",
              "        vertical-align: top;\n",
              "    }\n",
              "\n",
              "    .dataframe thead th {\n",
              "        text-align: right;\n",
              "    }\n",
              "</style>\n",
              "<table border=\"1\" class=\"dataframe\">\n",
              "  <thead>\n",
              "    <tr style=\"text-align: right;\">\n",
              "      <th></th>\n",
              "      <th>c00</th>\n",
              "      <th>c01</th>\n",
              "      <th>c02</th>\n",
              "      <th>c03</th>\n",
              "      <th>c04</th>\n",
              "      <th>c05</th>\n",
              "      <th>c06</th>\n",
              "      <th>c07</th>\n",
              "      <th>c08</th>\n",
              "      <th>c09</th>\n",
              "      <th>...</th>\n",
              "      <th>c55</th>\n",
              "      <th>c56</th>\n",
              "      <th>c57</th>\n",
              "      <th>c58</th>\n",
              "      <th>c59</th>\n",
              "      <th>c60</th>\n",
              "      <th>c61</th>\n",
              "      <th>c62</th>\n",
              "      <th>c63</th>\n",
              "      <th>target</th>\n",
              "    </tr>\n",
              "  </thead>\n",
              "  <tbody>\n",
              "    <tr>\n",
              "      <th>0</th>\n",
              "      <td>0</td>\n",
              "      <td>0</td>\n",
              "      <td>5</td>\n",
              "      <td>13</td>\n",
              "      <td>9</td>\n",
              "      <td>1</td>\n",
              "      <td>0</td>\n",
              "      <td>0</td>\n",
              "      <td>0</td>\n",
              "      <td>0</td>\n",
              "      <td>...</td>\n",
              "      <td>0</td>\n",
              "      <td>0</td>\n",
              "      <td>0</td>\n",
              "      <td>6</td>\n",
              "      <td>13</td>\n",
              "      <td>10</td>\n",
              "      <td>0</td>\n",
              "      <td>0</td>\n",
              "      <td>0</td>\n",
              "      <td>0</td>\n",
              "    </tr>\n",
              "    <tr>\n",
              "      <th>1</th>\n",
              "      <td>0</td>\n",
              "      <td>0</td>\n",
              "      <td>0</td>\n",
              "      <td>12</td>\n",
              "      <td>13</td>\n",
              "      <td>5</td>\n",
              "      <td>0</td>\n",
              "      <td>0</td>\n",
              "      <td>0</td>\n",
              "      <td>0</td>\n",
              "      <td>...</td>\n",
              "      <td>0</td>\n",
              "      <td>0</td>\n",
              "      <td>0</td>\n",
              "      <td>0</td>\n",
              "      <td>11</td>\n",
              "      <td>16</td>\n",
              "      <td>10</td>\n",
              "      <td>0</td>\n",
              "      <td>0</td>\n",
              "      <td>1</td>\n",
              "    </tr>\n",
              "    <tr>\n",
              "      <th>2</th>\n",
              "      <td>0</td>\n",
              "      <td>0</td>\n",
              "      <td>0</td>\n",
              "      <td>4</td>\n",
              "      <td>15</td>\n",
              "      <td>12</td>\n",
              "      <td>0</td>\n",
              "      <td>0</td>\n",
              "      <td>0</td>\n",
              "      <td>0</td>\n",
              "      <td>...</td>\n",
              "      <td>0</td>\n",
              "      <td>0</td>\n",
              "      <td>0</td>\n",
              "      <td>0</td>\n",
              "      <td>3</td>\n",
              "      <td>11</td>\n",
              "      <td>16</td>\n",
              "      <td>9</td>\n",
              "      <td>0</td>\n",
              "      <td>2</td>\n",
              "    </tr>\n",
              "    <tr>\n",
              "      <th>3</th>\n",
              "      <td>0</td>\n",
              "      <td>0</td>\n",
              "      <td>7</td>\n",
              "      <td>15</td>\n",
              "      <td>13</td>\n",
              "      <td>1</td>\n",
              "      <td>0</td>\n",
              "      <td>0</td>\n",
              "      <td>0</td>\n",
              "      <td>8</td>\n",
              "      <td>...</td>\n",
              "      <td>0</td>\n",
              "      <td>0</td>\n",
              "      <td>0</td>\n",
              "      <td>7</td>\n",
              "      <td>13</td>\n",
              "      <td>13</td>\n",
              "      <td>9</td>\n",
              "      <td>0</td>\n",
              "      <td>0</td>\n",
              "      <td>3</td>\n",
              "    </tr>\n",
              "    <tr>\n",
              "      <th>4</th>\n",
              "      <td>0</td>\n",
              "      <td>0</td>\n",
              "      <td>0</td>\n",
              "      <td>1</td>\n",
              "      <td>11</td>\n",
              "      <td>0</td>\n",
              "      <td>0</td>\n",
              "      <td>0</td>\n",
              "      <td>0</td>\n",
              "      <td>0</td>\n",
              "      <td>...</td>\n",
              "      <td>0</td>\n",
              "      <td>0</td>\n",
              "      <td>0</td>\n",
              "      <td>0</td>\n",
              "      <td>2</td>\n",
              "      <td>16</td>\n",
              "      <td>4</td>\n",
              "      <td>0</td>\n",
              "      <td>0</td>\n",
              "      <td>4</td>\n",
              "    </tr>\n",
              "  </tbody>\n",
              "</table>\n",
              "<p>5 rows × 65 columns</p>\n",
              "</div>\n",
              "      <button class=\"colab-df-convert\" onclick=\"convertToInteractive('df-58726d5d-6a1f-4efc-8503-e5411dccfb51')\"\n",
              "              title=\"Convert this dataframe to an interactive table.\"\n",
              "              style=\"display:none;\">\n",
              "        \n",
              "  <svg xmlns=\"http://www.w3.org/2000/svg\" height=\"24px\"viewBox=\"0 0 24 24\"\n",
              "       width=\"24px\">\n",
              "    <path d=\"M0 0h24v24H0V0z\" fill=\"none\"/>\n",
              "    <path d=\"M18.56 5.44l.94 2.06.94-2.06 2.06-.94-2.06-.94-.94-2.06-.94 2.06-2.06.94zm-11 1L8.5 8.5l.94-2.06 2.06-.94-2.06-.94L8.5 2.5l-.94 2.06-2.06.94zm10 10l.94 2.06.94-2.06 2.06-.94-2.06-.94-.94-2.06-.94 2.06-2.06.94z\"/><path d=\"M17.41 7.96l-1.37-1.37c-.4-.4-.92-.59-1.43-.59-.52 0-1.04.2-1.43.59L10.3 9.45l-7.72 7.72c-.78.78-.78 2.05 0 2.83L4 21.41c.39.39.9.59 1.41.59.51 0 1.02-.2 1.41-.59l7.78-7.78 2.81-2.81c.8-.78.8-2.07 0-2.86zM5.41 20L4 18.59l7.72-7.72 1.47 1.35L5.41 20z\"/>\n",
              "  </svg>\n",
              "      </button>\n",
              "      \n",
              "  <style>\n",
              "    .colab-df-container {\n",
              "      display:flex;\n",
              "      flex-wrap:wrap;\n",
              "      gap: 12px;\n",
              "    }\n",
              "\n",
              "    .colab-df-convert {\n",
              "      background-color: #E8F0FE;\n",
              "      border: none;\n",
              "      border-radius: 50%;\n",
              "      cursor: pointer;\n",
              "      display: none;\n",
              "      fill: #1967D2;\n",
              "      height: 32px;\n",
              "      padding: 0 0 0 0;\n",
              "      width: 32px;\n",
              "    }\n",
              "\n",
              "    .colab-df-convert:hover {\n",
              "      background-color: #E2EBFA;\n",
              "      box-shadow: 0px 1px 2px rgba(60, 64, 67, 0.3), 0px 1px 3px 1px rgba(60, 64, 67, 0.15);\n",
              "      fill: #174EA6;\n",
              "    }\n",
              "\n",
              "    [theme=dark] .colab-df-convert {\n",
              "      background-color: #3B4455;\n",
              "      fill: #D2E3FC;\n",
              "    }\n",
              "\n",
              "    [theme=dark] .colab-df-convert:hover {\n",
              "      background-color: #434B5C;\n",
              "      box-shadow: 0px 1px 3px 1px rgba(0, 0, 0, 0.15);\n",
              "      filter: drop-shadow(0px 1px 2px rgba(0, 0, 0, 0.3));\n",
              "      fill: #FFFFFF;\n",
              "    }\n",
              "  </style>\n",
              "\n",
              "      <script>\n",
              "        const buttonEl =\n",
              "          document.querySelector('#df-58726d5d-6a1f-4efc-8503-e5411dccfb51 button.colab-df-convert');\n",
              "        buttonEl.style.display =\n",
              "          google.colab.kernel.accessAllowed ? 'block' : 'none';\n",
              "\n",
              "        async function convertToInteractive(key) {\n",
              "          const element = document.querySelector('#df-58726d5d-6a1f-4efc-8503-e5411dccfb51');\n",
              "          const dataTable =\n",
              "            await google.colab.kernel.invokeFunction('convertToInteractive',\n",
              "                                                     [key], {});\n",
              "          if (!dataTable) return;\n",
              "\n",
              "          const docLinkHtml = 'Like what you see? Visit the ' +\n",
              "            '<a target=\"_blank\" href=https://colab.research.google.com/notebooks/data_table.ipynb>data table notebook</a>'\n",
              "            + ' to learn more about interactive tables.';\n",
              "          element.innerHTML = '';\n",
              "          dataTable['output_type'] = 'display_data';\n",
              "          await google.colab.output.renderOutput(dataTable, element);\n",
              "          const docLink = document.createElement('div');\n",
              "          docLink.innerHTML = docLinkHtml;\n",
              "          element.appendChild(docLink);\n",
              "        }\n",
              "      </script>\n",
              "    </div>\n",
              "  </div>\n",
              "  "
            ]
          },
          "metadata": {},
          "execution_count": 7
        }
      ],
      "source": [
        "digits = (\n",
        "    pd.DataFrame(\n",
        "        digits_dict[\"data\"],\n",
        "    )\n",
        "    .rename(columns=lambda x: f\"c{x:02d}\")\n",
        "    .assign(target=digits_dict[\"target\"])\n",
        "    .astype(int)\n",
        ")\n",
        "\n",
        "digits.head()"
      ]
    },
    {
      "cell_type": "markdown",
      "metadata": {
        "id": "cDe1APQM_izR"
      },
      "source": [
        "### Ejercicio 1\n",
        "**Análisis exploratorio:** Realiza tu análisis exploratorio, no debes olvidar nada! Recuerda, cada análisis debe responder una pregunta.\n",
        "\n",
        "Algunas sugerencias:\n",
        "\n",
        "* ¿Cómo se distribuyen los datos?\n",
        "* ¿Cuánta memoria estoy utilizando?\n",
        "* ¿Qué tipo de datos son?\n",
        "* ¿Cuántos registros por clase hay?\n",
        "* ¿Hay registros que no se correspondan con tu conocimiento previo de los datos?"
      ]
    },
    {
      "cell_type": "code",
      "execution_count": 8,
      "metadata": {
        "id": "BhdVFTE9_izR",
        "outputId": "a1a83245-836e-4d08-8372-8f110e0788c3",
        "colab": {
          "base_uri": "https://localhost:8080/",
          "height": 393
        }
      },
      "outputs": [
        {
          "output_type": "execute_result",
          "data": {
            "text/plain": [
              "          c00          c01          c02          c03          c04  \\\n",
              "count  1797.0  1797.000000  1797.000000  1797.000000  1797.000000   \n",
              "mean      0.0     0.303840     5.204786    11.835838    11.848080   \n",
              "std       0.0     0.907192     4.754826     4.248842     4.287388   \n",
              "min       0.0     0.000000     0.000000     0.000000     0.000000   \n",
              "25%       0.0     0.000000     1.000000    10.000000    10.000000   \n",
              "50%       0.0     0.000000     4.000000    13.000000    13.000000   \n",
              "75%       0.0     0.000000     9.000000    15.000000    15.000000   \n",
              "max       0.0     8.000000    16.000000    16.000000    16.000000   \n",
              "\n",
              "               c05          c06          c07          c08          c09  ...  \\\n",
              "count  1797.000000  1797.000000  1797.000000  1797.000000  1797.000000  ...   \n",
              "mean      5.781859     1.362270     0.129661     0.005565     1.993879  ...   \n",
              "std       5.666418     3.325775     1.037383     0.094222     3.196160  ...   \n",
              "min       0.000000     0.000000     0.000000     0.000000     0.000000  ...   \n",
              "25%       0.000000     0.000000     0.000000     0.000000     0.000000  ...   \n",
              "50%       4.000000     0.000000     0.000000     0.000000     0.000000  ...   \n",
              "75%      11.000000     0.000000     0.000000     0.000000     3.000000  ...   \n",
              "max      16.000000    16.000000    15.000000     2.000000    16.000000  ...   \n",
              "\n",
              "               c55          c56          c57          c58          c59  \\\n",
              "count  1797.000000  1797.000000  1797.000000  1797.000000  1797.000000   \n",
              "mean      0.206455     0.000556     0.279354     5.557596    12.089037   \n",
              "std       0.984401     0.023590     0.934302     5.103019     4.374694   \n",
              "min       0.000000     0.000000     0.000000     0.000000     0.000000   \n",
              "25%       0.000000     0.000000     0.000000     1.000000    11.000000   \n",
              "50%       0.000000     0.000000     0.000000     4.000000    13.000000   \n",
              "75%       0.000000     0.000000     0.000000    10.000000    16.000000   \n",
              "max      13.000000     1.000000     9.000000    16.000000    16.000000   \n",
              "\n",
              "               c60          c61          c62          c63       target  \n",
              "count  1797.000000  1797.000000  1797.000000  1797.000000  1797.000000  \n",
              "mean     11.809126     6.764051     2.067891     0.364496     4.490818  \n",
              "std       4.933947     5.900623     4.090548     1.860122     2.865304  \n",
              "min       0.000000     0.000000     0.000000     0.000000     0.000000  \n",
              "25%      10.000000     0.000000     0.000000     0.000000     2.000000  \n",
              "50%      14.000000     6.000000     0.000000     0.000000     4.000000  \n",
              "75%      16.000000    12.000000     2.000000     0.000000     7.000000  \n",
              "max      16.000000    16.000000    16.000000    16.000000     9.000000  \n",
              "\n",
              "[8 rows x 65 columns]"
            ],
            "text/html": [
              "\n",
              "  <div id=\"df-22cb744b-0f3c-4887-81a4-e0cf2e984643\">\n",
              "    <div class=\"colab-df-container\">\n",
              "      <div>\n",
              "<style scoped>\n",
              "    .dataframe tbody tr th:only-of-type {\n",
              "        vertical-align: middle;\n",
              "    }\n",
              "\n",
              "    .dataframe tbody tr th {\n",
              "        vertical-align: top;\n",
              "    }\n",
              "\n",
              "    .dataframe thead th {\n",
              "        text-align: right;\n",
              "    }\n",
              "</style>\n",
              "<table border=\"1\" class=\"dataframe\">\n",
              "  <thead>\n",
              "    <tr style=\"text-align: right;\">\n",
              "      <th></th>\n",
              "      <th>c00</th>\n",
              "      <th>c01</th>\n",
              "      <th>c02</th>\n",
              "      <th>c03</th>\n",
              "      <th>c04</th>\n",
              "      <th>c05</th>\n",
              "      <th>c06</th>\n",
              "      <th>c07</th>\n",
              "      <th>c08</th>\n",
              "      <th>c09</th>\n",
              "      <th>...</th>\n",
              "      <th>c55</th>\n",
              "      <th>c56</th>\n",
              "      <th>c57</th>\n",
              "      <th>c58</th>\n",
              "      <th>c59</th>\n",
              "      <th>c60</th>\n",
              "      <th>c61</th>\n",
              "      <th>c62</th>\n",
              "      <th>c63</th>\n",
              "      <th>target</th>\n",
              "    </tr>\n",
              "  </thead>\n",
              "  <tbody>\n",
              "    <tr>\n",
              "      <th>count</th>\n",
              "      <td>1797.0</td>\n",
              "      <td>1797.000000</td>\n",
              "      <td>1797.000000</td>\n",
              "      <td>1797.000000</td>\n",
              "      <td>1797.000000</td>\n",
              "      <td>1797.000000</td>\n",
              "      <td>1797.000000</td>\n",
              "      <td>1797.000000</td>\n",
              "      <td>1797.000000</td>\n",
              "      <td>1797.000000</td>\n",
              "      <td>...</td>\n",
              "      <td>1797.000000</td>\n",
              "      <td>1797.000000</td>\n",
              "      <td>1797.000000</td>\n",
              "      <td>1797.000000</td>\n",
              "      <td>1797.000000</td>\n",
              "      <td>1797.000000</td>\n",
              "      <td>1797.000000</td>\n",
              "      <td>1797.000000</td>\n",
              "      <td>1797.000000</td>\n",
              "      <td>1797.000000</td>\n",
              "    </tr>\n",
              "    <tr>\n",
              "      <th>mean</th>\n",
              "      <td>0.0</td>\n",
              "      <td>0.303840</td>\n",
              "      <td>5.204786</td>\n",
              "      <td>11.835838</td>\n",
              "      <td>11.848080</td>\n",
              "      <td>5.781859</td>\n",
              "      <td>1.362270</td>\n",
              "      <td>0.129661</td>\n",
              "      <td>0.005565</td>\n",
              "      <td>1.993879</td>\n",
              "      <td>...</td>\n",
              "      <td>0.206455</td>\n",
              "      <td>0.000556</td>\n",
              "      <td>0.279354</td>\n",
              "      <td>5.557596</td>\n",
              "      <td>12.089037</td>\n",
              "      <td>11.809126</td>\n",
              "      <td>6.764051</td>\n",
              "      <td>2.067891</td>\n",
              "      <td>0.364496</td>\n",
              "      <td>4.490818</td>\n",
              "    </tr>\n",
              "    <tr>\n",
              "      <th>std</th>\n",
              "      <td>0.0</td>\n",
              "      <td>0.907192</td>\n",
              "      <td>4.754826</td>\n",
              "      <td>4.248842</td>\n",
              "      <td>4.287388</td>\n",
              "      <td>5.666418</td>\n",
              "      <td>3.325775</td>\n",
              "      <td>1.037383</td>\n",
              "      <td>0.094222</td>\n",
              "      <td>3.196160</td>\n",
              "      <td>...</td>\n",
              "      <td>0.984401</td>\n",
              "      <td>0.023590</td>\n",
              "      <td>0.934302</td>\n",
              "      <td>5.103019</td>\n",
              "      <td>4.374694</td>\n",
              "      <td>4.933947</td>\n",
              "      <td>5.900623</td>\n",
              "      <td>4.090548</td>\n",
              "      <td>1.860122</td>\n",
              "      <td>2.865304</td>\n",
              "    </tr>\n",
              "    <tr>\n",
              "      <th>min</th>\n",
              "      <td>0.0</td>\n",
              "      <td>0.000000</td>\n",
              "      <td>0.000000</td>\n",
              "      <td>0.000000</td>\n",
              "      <td>0.000000</td>\n",
              "      <td>0.000000</td>\n",
              "      <td>0.000000</td>\n",
              "      <td>0.000000</td>\n",
              "      <td>0.000000</td>\n",
              "      <td>0.000000</td>\n",
              "      <td>...</td>\n",
              "      <td>0.000000</td>\n",
              "      <td>0.000000</td>\n",
              "      <td>0.000000</td>\n",
              "      <td>0.000000</td>\n",
              "      <td>0.000000</td>\n",
              "      <td>0.000000</td>\n",
              "      <td>0.000000</td>\n",
              "      <td>0.000000</td>\n",
              "      <td>0.000000</td>\n",
              "      <td>0.000000</td>\n",
              "    </tr>\n",
              "    <tr>\n",
              "      <th>25%</th>\n",
              "      <td>0.0</td>\n",
              "      <td>0.000000</td>\n",
              "      <td>1.000000</td>\n",
              "      <td>10.000000</td>\n",
              "      <td>10.000000</td>\n",
              "      <td>0.000000</td>\n",
              "      <td>0.000000</td>\n",
              "      <td>0.000000</td>\n",
              "      <td>0.000000</td>\n",
              "      <td>0.000000</td>\n",
              "      <td>...</td>\n",
              "      <td>0.000000</td>\n",
              "      <td>0.000000</td>\n",
              "      <td>0.000000</td>\n",
              "      <td>1.000000</td>\n",
              "      <td>11.000000</td>\n",
              "      <td>10.000000</td>\n",
              "      <td>0.000000</td>\n",
              "      <td>0.000000</td>\n",
              "      <td>0.000000</td>\n",
              "      <td>2.000000</td>\n",
              "    </tr>\n",
              "    <tr>\n",
              "      <th>50%</th>\n",
              "      <td>0.0</td>\n",
              "      <td>0.000000</td>\n",
              "      <td>4.000000</td>\n",
              "      <td>13.000000</td>\n",
              "      <td>13.000000</td>\n",
              "      <td>4.000000</td>\n",
              "      <td>0.000000</td>\n",
              "      <td>0.000000</td>\n",
              "      <td>0.000000</td>\n",
              "      <td>0.000000</td>\n",
              "      <td>...</td>\n",
              "      <td>0.000000</td>\n",
              "      <td>0.000000</td>\n",
              "      <td>0.000000</td>\n",
              "      <td>4.000000</td>\n",
              "      <td>13.000000</td>\n",
              "      <td>14.000000</td>\n",
              "      <td>6.000000</td>\n",
              "      <td>0.000000</td>\n",
              "      <td>0.000000</td>\n",
              "      <td>4.000000</td>\n",
              "    </tr>\n",
              "    <tr>\n",
              "      <th>75%</th>\n",
              "      <td>0.0</td>\n",
              "      <td>0.000000</td>\n",
              "      <td>9.000000</td>\n",
              "      <td>15.000000</td>\n",
              "      <td>15.000000</td>\n",
              "      <td>11.000000</td>\n",
              "      <td>0.000000</td>\n",
              "      <td>0.000000</td>\n",
              "      <td>0.000000</td>\n",
              "      <td>3.000000</td>\n",
              "      <td>...</td>\n",
              "      <td>0.000000</td>\n",
              "      <td>0.000000</td>\n",
              "      <td>0.000000</td>\n",
              "      <td>10.000000</td>\n",
              "      <td>16.000000</td>\n",
              "      <td>16.000000</td>\n",
              "      <td>12.000000</td>\n",
              "      <td>2.000000</td>\n",
              "      <td>0.000000</td>\n",
              "      <td>7.000000</td>\n",
              "    </tr>\n",
              "    <tr>\n",
              "      <th>max</th>\n",
              "      <td>0.0</td>\n",
              "      <td>8.000000</td>\n",
              "      <td>16.000000</td>\n",
              "      <td>16.000000</td>\n",
              "      <td>16.000000</td>\n",
              "      <td>16.000000</td>\n",
              "      <td>16.000000</td>\n",
              "      <td>15.000000</td>\n",
              "      <td>2.000000</td>\n",
              "      <td>16.000000</td>\n",
              "      <td>...</td>\n",
              "      <td>13.000000</td>\n",
              "      <td>1.000000</td>\n",
              "      <td>9.000000</td>\n",
              "      <td>16.000000</td>\n",
              "      <td>16.000000</td>\n",
              "      <td>16.000000</td>\n",
              "      <td>16.000000</td>\n",
              "      <td>16.000000</td>\n",
              "      <td>16.000000</td>\n",
              "      <td>9.000000</td>\n",
              "    </tr>\n",
              "  </tbody>\n",
              "</table>\n",
              "<p>8 rows × 65 columns</p>\n",
              "</div>\n",
              "      <button class=\"colab-df-convert\" onclick=\"convertToInteractive('df-22cb744b-0f3c-4887-81a4-e0cf2e984643')\"\n",
              "              title=\"Convert this dataframe to an interactive table.\"\n",
              "              style=\"display:none;\">\n",
              "        \n",
              "  <svg xmlns=\"http://www.w3.org/2000/svg\" height=\"24px\"viewBox=\"0 0 24 24\"\n",
              "       width=\"24px\">\n",
              "    <path d=\"M0 0h24v24H0V0z\" fill=\"none\"/>\n",
              "    <path d=\"M18.56 5.44l.94 2.06.94-2.06 2.06-.94-2.06-.94-.94-2.06-.94 2.06-2.06.94zm-11 1L8.5 8.5l.94-2.06 2.06-.94-2.06-.94L8.5 2.5l-.94 2.06-2.06.94zm10 10l.94 2.06.94-2.06 2.06-.94-2.06-.94-.94-2.06-.94 2.06-2.06.94z\"/><path d=\"M17.41 7.96l-1.37-1.37c-.4-.4-.92-.59-1.43-.59-.52 0-1.04.2-1.43.59L10.3 9.45l-7.72 7.72c-.78.78-.78 2.05 0 2.83L4 21.41c.39.39.9.59 1.41.59.51 0 1.02-.2 1.41-.59l7.78-7.78 2.81-2.81c.8-.78.8-2.07 0-2.86zM5.41 20L4 18.59l7.72-7.72 1.47 1.35L5.41 20z\"/>\n",
              "  </svg>\n",
              "      </button>\n",
              "      \n",
              "  <style>\n",
              "    .colab-df-container {\n",
              "      display:flex;\n",
              "      flex-wrap:wrap;\n",
              "      gap: 12px;\n",
              "    }\n",
              "\n",
              "    .colab-df-convert {\n",
              "      background-color: #E8F0FE;\n",
              "      border: none;\n",
              "      border-radius: 50%;\n",
              "      cursor: pointer;\n",
              "      display: none;\n",
              "      fill: #1967D2;\n",
              "      height: 32px;\n",
              "      padding: 0 0 0 0;\n",
              "      width: 32px;\n",
              "    }\n",
              "\n",
              "    .colab-df-convert:hover {\n",
              "      background-color: #E2EBFA;\n",
              "      box-shadow: 0px 1px 2px rgba(60, 64, 67, 0.3), 0px 1px 3px 1px rgba(60, 64, 67, 0.15);\n",
              "      fill: #174EA6;\n",
              "    }\n",
              "\n",
              "    [theme=dark] .colab-df-convert {\n",
              "      background-color: #3B4455;\n",
              "      fill: #D2E3FC;\n",
              "    }\n",
              "\n",
              "    [theme=dark] .colab-df-convert:hover {\n",
              "      background-color: #434B5C;\n",
              "      box-shadow: 0px 1px 3px 1px rgba(0, 0, 0, 0.15);\n",
              "      filter: drop-shadow(0px 1px 2px rgba(0, 0, 0, 0.3));\n",
              "      fill: #FFFFFF;\n",
              "    }\n",
              "  </style>\n",
              "\n",
              "      <script>\n",
              "        const buttonEl =\n",
              "          document.querySelector('#df-22cb744b-0f3c-4887-81a4-e0cf2e984643 button.colab-df-convert');\n",
              "        buttonEl.style.display =\n",
              "          google.colab.kernel.accessAllowed ? 'block' : 'none';\n",
              "\n",
              "        async function convertToInteractive(key) {\n",
              "          const element = document.querySelector('#df-22cb744b-0f3c-4887-81a4-e0cf2e984643');\n",
              "          const dataTable =\n",
              "            await google.colab.kernel.invokeFunction('convertToInteractive',\n",
              "                                                     [key], {});\n",
              "          if (!dataTable) return;\n",
              "\n",
              "          const docLinkHtml = 'Like what you see? Visit the ' +\n",
              "            '<a target=\"_blank\" href=https://colab.research.google.com/notebooks/data_table.ipynb>data table notebook</a>'\n",
              "            + ' to learn more about interactive tables.';\n",
              "          element.innerHTML = '';\n",
              "          dataTable['output_type'] = 'display_data';\n",
              "          await google.colab.output.renderOutput(dataTable, element);\n",
              "          const docLink = document.createElement('div');\n",
              "          docLink.innerHTML = docLinkHtml;\n",
              "          element.appendChild(docLink);\n",
              "        }\n",
              "      </script>\n",
              "    </div>\n",
              "  </div>\n",
              "  "
            ]
          },
          "metadata": {},
          "execution_count": 8
        }
      ],
      "source": [
        "digits.describe() #Un describe de los datos y ver que el comportamiento es similar en todos, ademas hay 1797 registros por clase"
      ]
    },
    {
      "cell_type": "code",
      "source": [
        "digits.isnull().sum() #No hay datos nulos"
      ],
      "metadata": {
        "id": "1wetU_29AQGA",
        "outputId": "a60abed3-586c-4cc3-e37a-9381d325a8ec",
        "colab": {
          "base_uri": "https://localhost:8080/"
        }
      },
      "execution_count": 9,
      "outputs": [
        {
          "output_type": "execute_result",
          "data": {
            "text/plain": [
              "c00       0\n",
              "c01       0\n",
              "c02       0\n",
              "c03       0\n",
              "c04       0\n",
              "         ..\n",
              "c60       0\n",
              "c61       0\n",
              "c62       0\n",
              "c63       0\n",
              "target    0\n",
              "Length: 65, dtype: int64"
            ]
          },
          "metadata": {},
          "execution_count": 9
        }
      ]
    },
    {
      "cell_type": "code",
      "source": [
        "digits.dtypes #el tipo de datos son int64"
      ],
      "metadata": {
        "id": "GU3VgGFOAfJH",
        "outputId": "fa922afb-5d7a-49fa-868d-896106e1546b",
        "colab": {
          "base_uri": "https://localhost:8080/"
        }
      },
      "execution_count": 10,
      "outputs": [
        {
          "output_type": "execute_result",
          "data": {
            "text/plain": [
              "c00       int64\n",
              "c01       int64\n",
              "c02       int64\n",
              "c03       int64\n",
              "c04       int64\n",
              "          ...  \n",
              "c60       int64\n",
              "c61       int64\n",
              "c62       int64\n",
              "c63       int64\n",
              "target    int64\n",
              "Length: 65, dtype: object"
            ]
          },
          "metadata": {},
          "execution_count": 10
        }
      ]
    },
    {
      "cell_type": "code",
      "source": [
        "digits.info() #Se usan 912.7 KB"
      ],
      "metadata": {
        "id": "4MKznlzyA9SL",
        "outputId": "bdfc5b33-4ad4-4de8-f91a-cdf8900abc19",
        "colab": {
          "base_uri": "https://localhost:8080/"
        }
      },
      "execution_count": 11,
      "outputs": [
        {
          "output_type": "stream",
          "name": "stdout",
          "text": [
            "<class 'pandas.core.frame.DataFrame'>\n",
            "RangeIndex: 1797 entries, 0 to 1796\n",
            "Data columns (total 65 columns):\n",
            " #   Column  Non-Null Count  Dtype\n",
            "---  ------  --------------  -----\n",
            " 0   c00     1797 non-null   int64\n",
            " 1   c01     1797 non-null   int64\n",
            " 2   c02     1797 non-null   int64\n",
            " 3   c03     1797 non-null   int64\n",
            " 4   c04     1797 non-null   int64\n",
            " 5   c05     1797 non-null   int64\n",
            " 6   c06     1797 non-null   int64\n",
            " 7   c07     1797 non-null   int64\n",
            " 8   c08     1797 non-null   int64\n",
            " 9   c09     1797 non-null   int64\n",
            " 10  c10     1797 non-null   int64\n",
            " 11  c11     1797 non-null   int64\n",
            " 12  c12     1797 non-null   int64\n",
            " 13  c13     1797 non-null   int64\n",
            " 14  c14     1797 non-null   int64\n",
            " 15  c15     1797 non-null   int64\n",
            " 16  c16     1797 non-null   int64\n",
            " 17  c17     1797 non-null   int64\n",
            " 18  c18     1797 non-null   int64\n",
            " 19  c19     1797 non-null   int64\n",
            " 20  c20     1797 non-null   int64\n",
            " 21  c21     1797 non-null   int64\n",
            " 22  c22     1797 non-null   int64\n",
            " 23  c23     1797 non-null   int64\n",
            " 24  c24     1797 non-null   int64\n",
            " 25  c25     1797 non-null   int64\n",
            " 26  c26     1797 non-null   int64\n",
            " 27  c27     1797 non-null   int64\n",
            " 28  c28     1797 non-null   int64\n",
            " 29  c29     1797 non-null   int64\n",
            " 30  c30     1797 non-null   int64\n",
            " 31  c31     1797 non-null   int64\n",
            " 32  c32     1797 non-null   int64\n",
            " 33  c33     1797 non-null   int64\n",
            " 34  c34     1797 non-null   int64\n",
            " 35  c35     1797 non-null   int64\n",
            " 36  c36     1797 non-null   int64\n",
            " 37  c37     1797 non-null   int64\n",
            " 38  c38     1797 non-null   int64\n",
            " 39  c39     1797 non-null   int64\n",
            " 40  c40     1797 non-null   int64\n",
            " 41  c41     1797 non-null   int64\n",
            " 42  c42     1797 non-null   int64\n",
            " 43  c43     1797 non-null   int64\n",
            " 44  c44     1797 non-null   int64\n",
            " 45  c45     1797 non-null   int64\n",
            " 46  c46     1797 non-null   int64\n",
            " 47  c47     1797 non-null   int64\n",
            " 48  c48     1797 non-null   int64\n",
            " 49  c49     1797 non-null   int64\n",
            " 50  c50     1797 non-null   int64\n",
            " 51  c51     1797 non-null   int64\n",
            " 52  c52     1797 non-null   int64\n",
            " 53  c53     1797 non-null   int64\n",
            " 54  c54     1797 non-null   int64\n",
            " 55  c55     1797 non-null   int64\n",
            " 56  c56     1797 non-null   int64\n",
            " 57  c57     1797 non-null   int64\n",
            " 58  c58     1797 non-null   int64\n",
            " 59  c59     1797 non-null   int64\n",
            " 60  c60     1797 non-null   int64\n",
            " 61  c61     1797 non-null   int64\n",
            " 62  c62     1797 non-null   int64\n",
            " 63  c63     1797 non-null   int64\n",
            " 64  target  1797 non-null   int64\n",
            "dtypes: int64(65)\n",
            "memory usage: 912.7 KB\n"
          ]
        }
      ]
    },
    {
      "cell_type": "markdown",
      "metadata": {
        "id": "MHjKTI0B_izR"
      },
      "source": [
        "### Ejercicio 2\n",
        "**Visualización:** Para visualizar los datos utilizaremos el método `imshow` de `matplotlib`. Resulta necesario convertir el arreglo desde las dimensiones (1,64)  a (8,8) para que la imagen sea cuadrada y pueda distinguirse el dígito. Superpondremos además el label correspondiente al dígito, mediante el método `text`. Esto nos permitirá comparar la imagen generada con la etiqueta asociada a los valores. Realizaremos lo anterior para los primeros 25 datos del archivo."
      ]
    },
    {
      "cell_type": "code",
      "execution_count": 12,
      "metadata": {
        "id": "WzBhjfv4_izS",
        "outputId": "ffad1e68-c8a6-4012-b1cb-4a9c7d152451",
        "colab": {
          "base_uri": "https://localhost:8080/"
        }
      },
      "outputs": [
        {
          "output_type": "execute_result",
          "data": {
            "text/plain": [
              "array([[ 0.,  0.,  5., 13.,  9.,  1.,  0.,  0.],\n",
              "       [ 0.,  0., 13., 15., 10., 15.,  5.,  0.],\n",
              "       [ 0.,  3., 15.,  2.,  0., 11.,  8.,  0.],\n",
              "       [ 0.,  4., 12.,  0.,  0.,  8.,  8.,  0.],\n",
              "       [ 0.,  5.,  8.,  0.,  0.,  9.,  8.,  0.],\n",
              "       [ 0.,  4., 11.,  0.,  1., 12.,  7.,  0.],\n",
              "       [ 0.,  2., 14.,  5., 10., 12.,  0.,  0.],\n",
              "       [ 0.,  0.,  6., 13., 10.,  0.,  0.,  0.]])"
            ]
          },
          "metadata": {},
          "execution_count": 12
        }
      ],
      "source": [
        "digits_dict[\"images\"][0]"
      ]
    },
    {
      "cell_type": "markdown",
      "metadata": {
        "id": "G66Wq7XQ_izS"
      },
      "source": [
        "Visualiza imágenes de los dígitos utilizando la llave `images` de `digits_dict`. \n",
        "\n",
        "> **Sugerencia**: Utiliza `plt.subplots` y el método `imshow`. Puedes hacer una grilla de varias imágenes al mismo tiempo!"
      ]
    },
    {
      "cell_type": "code",
      "execution_count": 13,
      "metadata": {
        "id": "UcyJ0buW_izS",
        "outputId": "93d226ed-9b8b-4188-d734-af04b790ed2a",
        "colab": {
          "base_uri": "https://localhost:8080/",
          "height": 700
        }
      },
      "outputs": [
        {
          "output_type": "display_data",
          "data": {
            "text/plain": [
              "<Figure size 864x864 with 25 Axes>"
            ],
            "image/png": "[encoded data removed]"
          },
          "metadata": {
            "needs_background": "light"
          }
        }
      ],
      "source": [
        "nx, ny = 5, 5\n",
        "fig, axs = plt.subplots(nx, ny, figsize=(12, 12))\n",
        "\n",
        "for i in range(25): #se usan 25 pues es 5*5\n",
        "    axs[i//5,i%5].imshow(digits_dict[\"images\"][i]) #se usa la llave \"images\""
      ]
    },
    {
      "cell_type": "markdown",
      "metadata": {
        "id": "d2CQ5p3m_izS"
      },
      "source": [
        "### Ejercicio 3\n",
        "\n",
        "**Machine Learning**: En esta parte usted debe entrenar los distintos modelos escogidos desde la librería de `skelearn`. Para cada modelo, debe realizar los siguientes pasos:\n",
        "\n",
        "* **train-test** \n",
        " * Crear conjunto de entrenamiento y testeo (usted determine las proporciones adecuadas).\n",
        " * Imprimir por pantalla el largo del conjunto de entrenamiento y de testeo.\n",
        " \n",
        " \n",
        "* **modelo**:\n",
        " * Instanciar el modelo objetivo desde la librería sklearn.\n",
        " * *Hiper-parámetros*: Utiliza `sklearn.model_selection.GridSearchCV` para obtener la mejor estimación de los parámetros del modelo objetivo.\n",
        "\n",
        "\n",
        "\n",
        "\n",
        "* **Métricas**:\n",
        " * Graficar matriz de confusión.\n",
        " * Analizar métricas de error.\n",
        "\n",
        "\n",
        "\n",
        "__Preguntas a responder:__\n",
        "\n",
        "* ¿Cuál modelo es mejor basado en sus métricas?\n",
        "* ¿Cuál modelo demora menos tiempo en ajustarse?\n",
        "* ¿Qué modelo escoges?\n"
      ]
    },
    {
      "cell_type": "code",
      "source": [
        "#Librerías\n",
        "from sklearn import datasets\n",
        "from sklearn.model_selection import train_test_split\n",
        "from sklearn.metrics import confusion_matrix,accuracy_score,recall_score,precision_score,f1_score\n",
        "from sklearn.dummy import DummyClassifier\n",
        "from sklearn.linear_model import LogisticRegression\n",
        "from sklearn.ensemble import RandomForestClassifier\n",
        "from sklearn.neighbors import KNeighborsClassifier\n",
        "from sklearn import neighbors\n",
        "from sklearn import preprocessing"
      ],
      "metadata": {
        "id": "gM5IYyWzaGQr"
      },
      "execution_count": 14,
      "outputs": []
    },
    {
      "cell_type": "code",
      "execution_count": 15,
      "metadata": {
        "id": "OAy56mkz_izT"
      },
      "outputs": [],
      "source": [
        "X = digits.drop(columns=\"target\").values\n",
        "y = digits[\"target\"].values"
      ]
    },
    {
      "cell_type": "code",
      "source": [
        "# split dataset\n",
        "X_train, X_test, y_train, y_test = train_test_split(X, y, test_size=0.15, random_state=150)"
      ],
      "metadata": {
        "id": "Xho-8rfVcHEX"
      },
      "execution_count": 16,
      "outputs": []
    },
    {
      "cell_type": "code",
      "source": [
        "print(\"Largo Grupo entrenamiento:\\n\", len(X_train))\n",
        "print(\"Largo Grupo de testeo:\\n\", len(X_test))"
      ],
      "metadata": {
        "colab": {
          "base_uri": "https://localhost:8080/"
        },
        "id": "qaKiugrjh2fu",
        "outputId": "f3937be1-7cbe-4856-af6c-b526967d20a1"
      },
      "execution_count": 17,
      "outputs": [
        {
          "output_type": "stream",
          "name": "stdout",
          "text": [
            "Largo Grupo entrenamiento:\n",
            " 1527\n",
            "Largo Grupo de testeo:\n",
            " 270\n"
          ]
        }
      ]
    },
    {
      "cell_type": "markdown",
      "source": [
        "Regresión Logística"
      ],
      "metadata": {
        "id": "ZJozTriIZlvO"
      }
    },
    {
      "cell_type": "code",
      "source": [
        "#MODELO DE REGRESION LOGISTICA\n",
        "lr = LogisticRegression(solver='liblinear').fit(X_train, y_train)\n",
        "\n",
        "# predecir\n",
        "lr_pred = lr.predict(X_test)\n",
        "y_true = y_test\n",
        "\n",
        "#Guardamos los datos para la comparativa final\n",
        "accuracy1=accuracy_score(y_test, lr_pred)\n",
        "recall1=recall_score(y_test, lr_pred,average='weighted')\n",
        "precision1=precision_score(y_test, lr_pred,average='weighted' )\n",
        "fscore1=f1_score(y_test, lr_pred,average='weighted')\n",
        "\n",
        "print('\\nMatriz de confusion:\\n ')\n",
        "print(confusion_matrix(y_true,lr_pred))\n",
        "\n",
        "print('\\nMetricas:\\n ')\n",
        "print('accuracy:   ',accuracy1)\n",
        "print('recall:     ',recall1)\n",
        "print('precision:  ',precision1)\n",
        "print('f-score:    ',fscore1)\n",
        "print(\"\")"
      ],
      "metadata": {
        "colab": {
          "base_uri": "https://localhost:8080/"
        },
        "id": "w_SdgfD3Zso-",
        "outputId": "3007fc81-3316-4323-bd5c-8d4c2220a63d"
      },
      "execution_count": 18,
      "outputs": [
        {
          "output_type": "stream",
          "name": "stdout",
          "text": [
            "\n",
            "Matriz de confusion:\n",
            " \n",
            "[[27  0  0  0  0  1  0  0  0  0]\n",
            " [ 0 29  0  0  0  0  1  0  4  0]\n",
            " [ 0  0 32  0  0  0  0  0  0  0]\n",
            " [ 0  0  0 23  0  0  0  0  1  0]\n",
            " [ 0  1  0  0 20  0  0  0  0  0]\n",
            " [ 0  1  0  0  0 20  0  0  0  0]\n",
            " [ 0  0  0  0  0  0 30  0  0  0]\n",
            " [ 0  0  0  0  0  0  0 25  0  1]\n",
            " [ 0  1  0  0  0  0  0  0 22  0]\n",
            " [ 0  0  0  1  0  0  0  0  1 29]]\n",
            "\n",
            "Metricas:\n",
            " \n",
            "accuracy:    0.9518518518518518\n",
            "recall:      0.9518518518518518\n",
            "precision:   0.9551216788985606\n",
            "f-score:     0.9524979323646522\n",
            "\n"
          ]
        }
      ]
    },
    {
      "cell_type": "code",
      "source": [
        "from sklearn.svm import SVC \n",
        "from sklearn.model_selection import GridSearchCV\n",
        "from sklearn.model_selection import train_test_split \n",
        "import time\n",
        "\n",
        "#Diccionario de Hiperparámetros\n",
        "dicc_rlog = {\n",
        "          'penalty' : ['l1', 'l2'],\n",
        "          'C' : [100, 10 , 1, 0.1, 0.01, 0.001],\n",
        "          'class_weight' : ['balanced', None],\n",
        "          'solver' : ['liblinear'],\n",
        "          }\n",
        "grid_lr = GridSearchCV(estimator = lr, param_grid = dicc_rlog, refit = True, n_jobs=-1) \n",
        "\n",
        "start_time = time.time() #Tiempo de inicio \n",
        "\n",
        "grid_result_lr = grid_lr.fit(X_train, y_train)\n",
        "grid_result_lr\n",
        "print(\"Tuned Hyperparameters :\", grid_result_lr.best_params_)\n",
        "print(\"Accuracy :\",grid_result_lr.best_score_)\n",
        "print(\"Este modelo se ajustó en\",(time.time() - start_time),\"segundos.\") "
      ],
      "metadata": {
        "colab": {
          "base_uri": "https://localhost:8080/"
        },
        "id": "4Y0RiLzzafuk",
        "outputId": "266ae9a7-a1a0-482b-829a-fd9f8cc6f42f"
      },
      "execution_count": 19,
      "outputs": [
        {
          "output_type": "stream",
          "name": "stdout",
          "text": [
            "Tuned Hyperparameters : {'C': 0.01, 'class_weight': 'balanced', 'penalty': 'l2', 'solver': 'liblinear'}\n",
            "Accuracy : 0.9679031393978356\n",
            "Este modelo se ajustó en 22.91735577583313 segundos.\n"
          ]
        }
      ]
    },
    {
      "cell_type": "code",
      "source": [
        "#MODELO REGRESION LOGISTICA HIPERPARAMETROS\n",
        "lrg = LogisticRegression(C=0.01, class_weight='balanced', penalty='l2', solver = 'liblinear').fit(X_train, y_train)\n",
        "\n",
        "# predecir\n",
        "lr_pred = lrg.predict(X_test)\n",
        "y_true = y_test\n",
        "\n",
        "#Guardamos los datos para la comparativa final\n",
        "accuracy2=accuracy_score(y_test, lr_pred)\n",
        "recall2=recall_score(y_test, lr_pred,average='weighted')\n",
        "precision2=precision_score(y_test, lr_pred,average='weighted' )\n",
        "fscore2=f1_score(y_test, lr_pred,average='weighted')\n",
        "\n",
        "print('\\nMatriz de confusion:\\n ')\n",
        "print(confusion_matrix(y_true,lr_pred))\n",
        "\n",
        "print('\\nMetricas:\\n ')\n",
        "print('accuracy:   ',accuracy2)\n",
        "print('recall:     ',recall2)\n",
        "print('precision:  ',precision2)\n",
        "print('f-score:    ',fscore2)\n",
        "print(\"\")"
      ],
      "metadata": {
        "colab": {
          "base_uri": "https://localhost:8080/"
        },
        "id": "K-0dMXs8mk1J",
        "outputId": "fc06e685-471a-4a14-e3de-4b9c926633d2"
      },
      "execution_count": 20,
      "outputs": [
        {
          "output_type": "stream",
          "name": "stdout",
          "text": [
            "\n",
            "Matriz de confusion:\n",
            " \n",
            "[[27  0  0  0  0  1  0  0  0  0]\n",
            " [ 0 30  0  0  0  0  1  0  3  0]\n",
            " [ 0  0 32  0  0  0  0  0  0  0]\n",
            " [ 0  0  0 23  0  0  0  0  1  0]\n",
            " [ 0  0  0  0 21  0  0  0  0  0]\n",
            " [ 0  0  0  0  0 20  1  0  0  0]\n",
            " [ 0  0  0  0  0  0 30  0  0  0]\n",
            " [ 0  0  0  0  0  0  0 25  0  1]\n",
            " [ 0  1  0  0  0  0  1  0 21  0]\n",
            " [ 0  0  0  0  0  0  0  0  1 30]]\n",
            "\n",
            "Metricas:\n",
            " \n",
            "accuracy:    0.9592592592592593\n",
            "recall:      0.9592592592592593\n",
            "precision:   0.9620476894670442\n",
            "f-score:     0.9597807279325844\n",
            "\n"
          ]
        }
      ]
    },
    {
      "cell_type": "markdown",
      "source": [
        "Podemos ver que el modelo con los hiperparámetros ajustados solo mejora un poco al modelo de regresión logística sin hiperparámetros ajustados."
      ],
      "metadata": {
        "id": "qWfAIY98s6Cb"
      }
    },
    {
      "cell_type": "markdown",
      "source": [
        "KNN"
      ],
      "metadata": {
        "id": "EQfxrAyrZn9S"
      }
    },
    {
      "cell_type": "code",
      "source": [
        "#MODELO KNN\n",
        "knn = neighbors.KNeighborsClassifier().fit(X_train, y_train)\n",
        "\n",
        "# predecir\n",
        "knn_pred = knn.predict(X_test)\n",
        "y_true = y_test\n",
        "\n",
        "#Guardamos los datos para la comparativa final\n",
        "accuracy3=accuracy_score(y_test, knn_pred)\n",
        "recall3=recall_score(y_test, knn_pred,average='weighted')\n",
        "precision3=precision_score(y_test, knn_pred,average='weighted' )\n",
        "fscore3=f1_score(y_test, knn_pred,average='weighted')\n",
        "\n",
        "print('\\nMatriz de confusion:\\n ')\n",
        "print(confusion_matrix(y_true,knn_pred))\n",
        "\n",
        "print('\\nMetricas:\\n ')\n",
        "print('accuracy:   ',accuracy3)\n",
        "print('recall:     ',recall3)\n",
        "print('precision:  ',precision3)\n",
        "print('f-score:    ',fscore3)\n",
        "print(\"\")"
      ],
      "metadata": {
        "colab": {
          "base_uri": "https://localhost:8080/"
        },
        "id": "-gZ7sktNbUNz",
        "outputId": "51996c49-7d67-4136-989d-70b489fff2c8"
      },
      "execution_count": 21,
      "outputs": [
        {
          "output_type": "stream",
          "name": "stdout",
          "text": [
            "\n",
            "Matriz de confusion:\n",
            " \n",
            "[[28  0  0  0  0  0  0  0  0  0]\n",
            " [ 0 34  0  0  0  0  0  0  0  0]\n",
            " [ 0  0 32  0  0  0  0  0  0  0]\n",
            " [ 0  0  0 24  0  0  0  0  0  0]\n",
            " [ 0  0  0  0 21  0  0  0  0  0]\n",
            " [ 0  0  0  0  0 20  1  0  0  0]\n",
            " [ 0  0  0  0  0  0 30  0  0  0]\n",
            " [ 0  0  0  0  0  0  0 26  0  0]\n",
            " [ 0  1  0  0  0  0  0  0 22  0]\n",
            " [ 0  0  0  0  1  0  0  0  0 30]]\n",
            "\n",
            "Metricas:\n",
            " \n",
            "accuracy:    0.9888888888888889\n",
            "recall:      0.9888888888888889\n",
            "precision:   0.9892825334760817\n",
            "f-score:     0.988872474261948\n",
            "\n"
          ]
        }
      ]
    },
    {
      "cell_type": "code",
      "source": [
        "#Diccionario de Hiperparámetros\n",
        "dicc_knn = {\n",
        "          'n_neighbors' : [1,2,3,4,5, 6, 10, 15,30],\n",
        "          'weights' : ['uniform', 'distance'],\n",
        "          'metric' : ['euclidean', 'minkowski'],\n",
        "          'algorithm' : ['auto','brute', 'kd_tree']\n",
        "          }\n",
        "\n",
        "\n",
        "grid_knn = GridSearchCV(estimator = knn, param_grid = dicc_knn, cv = 20) \n",
        "\n",
        "start_time = time.time() #Tiempo de inicio \n",
        "\n",
        "grid_result_knn = grid_knn.fit(X_train, y_train)\n",
        "print(\"Tuned Hyperparameters :\", grid_knn.best_params_)\n",
        "print(\"Accuracy :\",grid_knn.best_score_)\n",
        "print(\"Este modelo se ajustó en\",(time.time() - start_time),\"segundos.\") "
      ],
      "metadata": {
        "colab": {
          "base_uri": "https://localhost:8080/"
        },
        "id": "sjFOFqwsvHyh",
        "outputId": "2fe9bbd3-3856-4de0-b7c3-8f1b6c855df8"
      },
      "execution_count": 22,
      "outputs": [
        {
          "output_type": "stream",
          "name": "stdout",
          "text": [
            "Tuned Hyperparameters : {'algorithm': 'kd_tree', 'metric': 'euclidean', 'n_neighbors': 3, 'weights': 'uniform'}\n",
            "Accuracy : 0.9882347915242653\n",
            "Este modelo se ajustó en 23.95357584953308 segundos.\n"
          ]
        }
      ]
    },
    {
      "cell_type": "code",
      "source": [
        "#MODELO KNN HIPERPARAMETROS\n",
        "knng = neighbors.KNeighborsClassifier(algorithm = 'kd_tree', metric= 'euclidean', n_neighbors=3, weights='uniform').fit(X_train, y_train)\n",
        "\n",
        "# predecir\n",
        "knng_pred = knng.predict(X_test)\n",
        "y_true = y_test\n",
        "\n",
        "#Guardamos los datos para la comparativa final\n",
        "accuracy4=accuracy_score(y_test, knng_pred)\n",
        "recall4=recall_score(y_test, knng_pred,average='weighted')\n",
        "precision4=precision_score(y_test, knng_pred,average='weighted' )\n",
        "fscore4=f1_score(y_test, knng_pred,average='weighted')\n",
        "\n",
        "print('\\nMatriz de confusion:\\n ')\n",
        "print(confusion_matrix(y_true,knng_pred))\n",
        "\n",
        "print('\\nMetricas:\\n ')\n",
        "print('accuracy:   ',accuracy4)\n",
        "print('recall:     ',recall4)\n",
        "print('precision:  ',precision4)\n",
        "print('f-score:    ',fscore4)\n",
        "print(\"\")"
      ],
      "metadata": {
        "colab": {
          "base_uri": "https://localhost:8080/"
        },
        "id": "tK1bXCWbvK6L",
        "outputId": "c8f2aec0-c037-41fc-bb8b-b3b07f4a7dd1"
      },
      "execution_count": 23,
      "outputs": [
        {
          "output_type": "stream",
          "name": "stdout",
          "text": [
            "\n",
            "Matriz de confusion:\n",
            " \n",
            "[[28  0  0  0  0  0  0  0  0  0]\n",
            " [ 0 34  0  0  0  0  0  0  0  0]\n",
            " [ 0  0 32  0  0  0  0  0  0  0]\n",
            " [ 0  0  0 24  0  0  0  0  0  0]\n",
            " [ 0  0  0  0 21  0  0  0  0  0]\n",
            " [ 0  0  0  0  0 20  1  0  0  0]\n",
            " [ 0  0  0  0  0  0 30  0  0  0]\n",
            " [ 0  0  0  0  0  0  0 25  0  1]\n",
            " [ 0  1  0  0  0  0  0  0 22  0]\n",
            " [ 0  0  0  0  1  0  0  0  0 30]]\n",
            "\n",
            "Metricas:\n",
            " \n",
            "accuracy:    0.9851851851851852\n",
            "recall:      0.9851851851851852\n",
            "precision:   0.9855788297723781\n",
            "f-score:     0.9851628179646994\n",
            "\n"
          ]
        }
      ]
    },
    {
      "cell_type": "markdown",
      "source": [
        "Notemos ninguna métrica mejoró.\n",
        "\n"
      ],
      "metadata": {
        "id": "wsOR0zm-x1lF"
      }
    },
    {
      "cell_type": "markdown",
      "source": [
        "Random Forest"
      ],
      "metadata": {
        "id": "SC1JK1dmZo1I"
      }
    },
    {
      "cell_type": "code",
      "source": [
        "#MODELO RANDOMFOREST\n",
        "rfc =  RandomForestClassifier(n_estimators=100)\n",
        "rfc.fit(X_train,y_train)\n",
        "\n",
        "#predecir\n",
        "y_true =  y_test\n",
        "rfc_pred = rfc.predict(X_test)\n",
        "\n",
        "#Guardamos los datos para la comparativa final\n",
        "accuracy5=accuracy_score(y_true, rfc_pred)\n",
        "recall5=recall_score(y_true, rfc_pred,average='weighted')\n",
        "precision5=precision_score(y_true, rfc_pred,average='weighted')\n",
        "fscore5=f1_score(y_true, rfc_pred,average='weighted')\n",
        "\n",
        "print('\\nMatriz de confusion:\\n ')\n",
        "print(confusion_matrix(y_true,knn_pred))\n",
        "\n",
        "print('\\nMetricas:\\n ')\n",
        "print('accuracy:   ',accuracy5)\n",
        "print('recall:     ',recall5)\n",
        "print('precision:  ',precision5)\n",
        "print('f-score:    ',fscore5)\n",
        "print(\"\")"
      ],
      "metadata": {
        "colab": {
          "base_uri": "https://localhost:8080/"
        },
        "id": "GeAMrRYDx7MR",
        "outputId": "c96e809c-af6d-46be-98fd-af785ee7a8b7"
      },
      "execution_count": 24,
      "outputs": [
        {
          "output_type": "stream",
          "name": "stdout",
          "text": [
            "\n",
            "Matriz de confusion:\n",
            " \n",
            "[[28  0  0  0  0  0  0  0  0  0]\n",
            " [ 0 34  0  0  0  0  0  0  0  0]\n",
            " [ 0  0 32  0  0  0  0  0  0  0]\n",
            " [ 0  0  0 24  0  0  0  0  0  0]\n",
            " [ 0  0  0  0 21  0  0  0  0  0]\n",
            " [ 0  0  0  0  0 20  1  0  0  0]\n",
            " [ 0  0  0  0  0  0 30  0  0  0]\n",
            " [ 0  0  0  0  0  0  0 26  0  0]\n",
            " [ 0  1  0  0  0  0  0  0 22  0]\n",
            " [ 0  0  0  0  1  0  0  0  0 30]]\n",
            "\n",
            "Metricas:\n",
            " \n",
            "accuracy:    0.9777777777777777\n",
            "recall:      0.9777777777777777\n",
            "precision:   0.9785831231470419\n",
            "f-score:     0.9775860138960497\n",
            "\n"
          ]
        }
      ]
    },
    {
      "cell_type": "code",
      "source": [
        "from sklearn.model_selection import RandomizedSearchCV\n",
        "# Number of trees in random forest\n",
        "n_estimators = [int(x) for x in np.linspace(start = 100, stop = 300, num = 10)]\n",
        "# Number of features to consider at every split\n",
        "max_features = ['auto', 'sqrt']\n",
        "# Maximum number of levels in tree\n",
        "max_depth = [int(x) for x in np.linspace(10, 110, num = 11)]\n",
        "max_depth.append(None)\n",
        "# Minimum number of samples required to split a node\n",
        "min_samples_split = [2, 5, 10]\n",
        "# Minimum number of samples required at each leaf node\n",
        "min_samples_leaf = [1, 2, 4]\n",
        "# Method of selecting samples for training each tree\n",
        "bootstrap = [True, False]\n",
        "# Create the random grid\n",
        "random_grid = {'n_estimators': n_estimators,\n",
        "               'max_features': max_features,\n",
        "               'max_depth': max_depth,\n",
        "               'min_samples_split': min_samples_split,\n",
        "               'min_samples_leaf': min_samples_leaf,\n",
        "               'bootstrap': bootstrap}\n",
        "# Use the random grid to search for best hyperparameters\n",
        " \n",
        "\n",
        "rfc_random = RandomizedSearchCV(estimator = rfc, param_distributions = random_grid, n_iter = 20, cv = 3, verbose=2, random_state=42, n_jobs = -1)\n",
        "# Fit the random search model\n",
        "\n",
        "start_time = time.time() #Tiempo de inicio \n",
        "rfc_random.fit(X_train, y_train)\n",
        "print(\"Este modelo se ajustó en\",(time.time() - start_time),\"segundos.\") \n",
        "print(rfc_random.best_params_)"
      ],
      "metadata": {
        "colab": {
          "base_uri": "https://localhost:8080/"
        },
        "id": "O_Vs8OjZ26xg",
        "outputId": "23e123d5-a4d3-4f8d-d099-395bb5bd4ed5"
      },
      "execution_count": 25,
      "outputs": [
        {
          "output_type": "stream",
          "name": "stdout",
          "text": [
            "Fitting 3 folds for each of 20 candidates, totalling 60 fits\n",
            "Este modelo se ajustó en 19.57900857925415 segundos.\n",
            "{'n_estimators': 166, 'min_samples_split': 2, 'min_samples_leaf': 1, 'max_features': 'sqrt', 'max_depth': 20, 'bootstrap': False}\n"
          ]
        }
      ]
    },
    {
      "cell_type": "code",
      "source": [
        "#MODELO RANDOMFOREST HIPERPARAMETROS\n",
        "rfcg =  RandomForestClassifier(n_estimators=144,min_samples_split=2,min_samples_leaf=2,max_features='auto',max_depth=60, bootstrap=False).fit(X_train,y_train)\n",
        "\n",
        "#predecir\n",
        "y_true =  y_test\n",
        "rfcg_pred = rfcg.predict(X_test)\n",
        "\n",
        "#Guardamos los datos para la comparativa final\n",
        "accuracy6=accuracy_score(y_true, rfcg_pred)\n",
        "recall6=recall_score(y_true, rfcg_pred,average='weighted')\n",
        "precision6=precision_score(y_true, rfcg_pred,average='weighted')\n",
        "fscore6=f1_score(y_true, rfcg_pred,average='weighted')\n",
        "\n",
        "print('\\nMatriz de confusion:\\n ')\n",
        "print(confusion_matrix(y_true,knn_pred))\n",
        "\n",
        "print('\\nMetricas:\\n ')\n",
        "print('accuracy:   ',accuracy6)\n",
        "print('recall:     ',recall6)\n",
        "print('precision:  ',precision6)\n",
        "print('f-score:    ',fscore6)\n",
        "print(\"\")"
      ],
      "metadata": {
        "colab": {
          "base_uri": "https://localhost:8080/"
        },
        "id": "3kBbm6zG6-XI",
        "outputId": "5270cfc7-31e5-49f4-fcee-47a3c572a419"
      },
      "execution_count": 26,
      "outputs": [
        {
          "output_type": "stream",
          "name": "stdout",
          "text": [
            "\n",
            "Matriz de confusion:\n",
            " \n",
            "[[28  0  0  0  0  0  0  0  0  0]\n",
            " [ 0 34  0  0  0  0  0  0  0  0]\n",
            " [ 0  0 32  0  0  0  0  0  0  0]\n",
            " [ 0  0  0 24  0  0  0  0  0  0]\n",
            " [ 0  0  0  0 21  0  0  0  0  0]\n",
            " [ 0  0  0  0  0 20  1  0  0  0]\n",
            " [ 0  0  0  0  0  0 30  0  0  0]\n",
            " [ 0  0  0  0  0  0  0 26  0  0]\n",
            " [ 0  1  0  0  0  0  0  0 22  0]\n",
            " [ 0  0  0  0  1  0  0  0  0 30]]\n",
            "\n",
            "Metricas:\n",
            " \n",
            "accuracy:    0.9814814814814815\n",
            "recall:      0.9814814814814815\n",
            "precision:   0.9818344898211417\n",
            "f-score:     0.9814554529146251\n",
            "\n"
          ]
        }
      ]
    },
    {
      "cell_type": "markdown",
      "source": [
        "Mejoró bastante todas las métricas."
      ],
      "metadata": {
        "id": "rCmI_lWt7fTN"
      }
    },
    {
      "cell_type": "markdown",
      "source": [
        "Podemos ver que el modelo que más tardó en ajustarse fue el de Regresió Logística, y el que menos tardó en ajustarse fue KNN."
      ],
      "metadata": {
        "id": "T5NhWSHw70X0"
      }
    },
    {
      "cell_type": "markdown",
      "source": [
        "El mejor modelo al observar las métricas resulta ser el KNN."
      ],
      "metadata": {
        "id": "2D-De_sZ8BvL"
      }
    },
    {
      "cell_type": "markdown",
      "source": [
        "Como KNN resulta tener las mejores métricas, y además no tardó mucho en ajustarse, se elegirá este para el procedimiento."
      ],
      "metadata": {
        "id": "GiNf8U-i8NiD"
      }
    },
    {
      "cell_type": "markdown",
      "metadata": {
        "id": "QJcJBqy-_izT"
      },
      "source": [
        "### Ejercicio 4\n",
        "\n",
        "__Comprensión del modelo:__ Tomando en cuenta el mejor modelo entontrado en el `Ejercicio 3`, debe comprender e interpretar minuciosamente los resultados y gráficos asocados al modelo en estudio, para ello debe resolver los siguientes puntos:\n",
        "\n",
        "\n",
        "\n",
        " * **Cross validation**: usando **cv** (con n_fold = 10), sacar una especie de \"intervalo de confianza\" sobre alguna de las métricas estudiadas en clases: \n",
        "  * $\\mu \\pm \\sigma$ = promedio $\\pm$ desviación estandar\n",
        " * **Curva de Validación**: Replica el ejemplo del siguiente [link](https://scikit-learn.org/stable/auto_examples/model_selection/plot_validation_curve.html#sphx-glr-auto-examples-model-selection-plot-validation-curve-py) pero con el modelo, parámetros y métrica adecuada. Saque conclusiones del gráfico.\n",
        " * **Curva AUC–ROC**: Replica el ejemplo del siguiente  [link](https://scikit-learn.org/stable/auto_examples/model_selection/plot_roc.html#sphx-glr-auto-examples-model-selection-plot-roc-py) pero con el modelo, parámetros y métrica adecuada. Saque conclusiones del gráfico."
      ]
    },
    {
      "cell_type": "code",
      "execution_count": 27,
      "metadata": {
        "id": "SwVWtcZR_izT",
        "colab": {
          "base_uri": "https://localhost:8080/"
        },
        "outputId": "f7537ba6-85d6-4ed6-8aa1-8678e79d6551"
      },
      "outputs": [
        {
          "output_type": "stream",
          "name": "stdout",
          "text": [
            "[0.97385621 0.99346405 0.98039216 0.99346405 0.9869281  0.9869281\n",
            " 0.97385621 0.98026316 1.         0.99342105]\n",
            "El intervalo de confianza es:\n",
            " 0.9862573099415204 ± 0.017004227966044103\n"
          ]
        }
      ],
      "source": [
        "#Cross validation\n",
        "from sklearn.model_selection import cross_val_score\n",
        "\n",
        "scores = cross_val_score(estimator = knn, X = X_train, y = y_train, cv = 10)\n",
        "\n",
        "print(scores)\n",
        "#Podemos ver que en la 9na iteración saca 100% de accuracy.\n",
        "m=scores.mean()\n",
        "#La media es un accuracy de 98%\n",
        "s=scores.std()*2\n",
        "#Tendremos que el error será:\n",
        "print('El intervalo de confianza es:\\n', m ,\"±\",s)"
      ]
    },
    {
      "cell_type": "markdown",
      "source": [
        "Curva de Validación"
      ],
      "metadata": {
        "id": "0mpyWF41GNN3"
      }
    },
    {
      "cell_type": "code",
      "source": [
        "from sklearn.datasets import load_digits\n",
        "from sklearn.svm import SVC\n",
        "from sklearn.model_selection import validation_curve\n",
        "\n",
        "param_range = np.array([i for i in range (1,10)])\n",
        "train_scores, test_scores = validation_curve(\n",
        "    KNeighborsClassifier(algorithm = 'kd_tree', metric= 'euclidean', n_neighbors=3, weights='uniform').fit(X_train, y_train),\n",
        "    X_train,\n",
        "    y_train,\n",
        "    param_name=\"n_neighbors\",\n",
        "    param_range=param_range,\n",
        "    scoring=\"accuracy\",\n",
        "    n_jobs=1,\n",
        ")\n",
        "train_scores_mean = np.mean(train_scores, axis=1)\n",
        "train_scores_std = np.std(train_scores, axis=1)\n",
        "test_scores_mean = np.mean(test_scores, axis=1)\n",
        "test_scores_std = np.std(test_scores, axis=1)\n",
        "\n",
        "plt.title(\"Validation Curve with SVM\")\n",
        "plt.xlabel(r\"$\\gamma$\")\n",
        "plt.ylabel(\"Score\")\n",
        "plt.ylim(0.97, 1.01)\n",
        "lw = 2\n",
        "plt.semilogx(\n",
        "    param_range, train_scores_mean, label=\"Training score\", color=\"darkorange\", lw=lw\n",
        ")\n",
        "plt.fill_between(\n",
        "    param_range,\n",
        "    train_scores_mean - train_scores_std,\n",
        "    train_scores_mean + train_scores_std,\n",
        "    alpha=0.2,\n",
        "    color=\"darkorange\",\n",
        "    lw=lw,\n",
        ")\n",
        "plt.semilogx(\n",
        "    param_range, test_scores_mean, label=\"Cross-validation score\", color=\"navy\", lw=lw\n",
        ")\n",
        "plt.fill_between(\n",
        "    param_range,\n",
        "    test_scores_mean - test_scores_std,\n",
        "    test_scores_mean + test_scores_std,\n",
        "    alpha=0.2,\n",
        "    color=\"navy\",\n",
        "    lw=lw,\n",
        ")\n",
        "plt.legend(loc=\"best\")\n",
        "plt.show()"
      ],
      "metadata": {
        "colab": {
          "base_uri": "https://localhost:8080/",
          "height": 301
        },
        "id": "s1SKpF_f9LYT",
        "outputId": "8d370e45-2a42-4aa2-a1a6-f6914ac3da5b"
      },
      "execution_count": 28,
      "outputs": [
        {
          "output_type": "display_data",
          "data": {
            "text/plain": [
              "<Figure size 432x288 with 1 Axes>"
            ],
            "image/png": "[encoded data removed]"
          },
          "metadata": {
            "needs_background": "light"
          }
        }
      ]
    },
    {
      "cell_type": "markdown",
      "source": [
        "Curva AUC–ROC"
      ],
      "metadata": {
        "id": "z7CSy62FGb6q"
      }
    },
    {
      "cell_type": "code",
      "source": [
        "import numpy as np\n",
        "import matplotlib.pyplot as plt\n",
        "from itertools import cycle\n",
        "\n",
        "from sklearn import svm, datasets\n",
        "from sklearn.metrics import roc_curve, auc\n",
        "from sklearn.model_selection import train_test_split\n",
        "from sklearn.preprocessing import label_binarize\n",
        "from sklearn.multiclass import OneVsRestClassifier\n",
        "from sklearn.metrics import roc_auc_score\n",
        "\n",
        "\n",
        "# Binarize the output\n",
        "ry = label_binarize(y, classes=digits[\"target\"].unique())\n",
        "n_classes = y_test.shape[0]\n",
        "\n",
        "n_samples, n_features = X.shape\n",
        "\n",
        "# shuffle and split training and test sets\n",
        "X_train, X_test, y_train, y_test = train_test_split(X, ry,\n",
        "                                                    test_size=0.3,\n",
        "                                                    train_size = 0.7)\n",
        "                                                    \n",
        "\n",
        "# Learn to predict each class against the other\n",
        "classifier = OneVsRestClassifier(KNeighborsClassifier())\n",
        "y_score = classifier.fit(X_train, y_train).predict(X_test)\n",
        "\n",
        "# Compute ROC curve and ROC area for each class\n",
        "fpr = dict()\n",
        "tpr = dict()\n",
        "roc_auc = dict()\n",
        "for i in range(n_classes):\n",
        "    fpr[i], tpr[i], _ = roc_curve(y_test[i], y_score[i])\n",
        "    roc_auc[i] = auc(fpr[i], tpr[i])\n",
        "\n",
        "# Compute micro-average ROC curve and ROC area\n",
        "fpr[\"micro\"], tpr[\"micro\"], _ = roc_curve(y_test.ravel(), y_score.ravel())\n",
        "roc_auc[\"micro\"] = auc(fpr[\"micro\"], tpr[\"micro\"])"
      ],
      "metadata": {
        "id": "VqmkLV7jGLyQ"
      },
      "execution_count": 29,
      "outputs": []
    },
    {
      "cell_type": "code",
      "source": [
        "plt.figure()\n",
        "lw = 2\n",
        "plt.plot(\n",
        "    fpr[2],\n",
        "    tpr[2],\n",
        "    color=\"darkorange\",\n",
        "    lw=lw,\n",
        "    label=\"ROC curve (area = %0.2f)\" % roc_auc[2],\n",
        ")\n",
        "plt.plot([0, 1], [0, 1], color=\"navy\", lw=lw, linestyle=\"--\")\n",
        "plt.xlim([0.0, 1.0])\n",
        "plt.ylim([0.0, 1.05])\n",
        "plt.xlabel(\"False Positive Rate\")\n",
        "plt.ylabel(\"True Positive Rate\")\n",
        "plt.title(\"Receiver operating characteristic example\")\n",
        "plt.legend(loc=\"lower right\")\n",
        "plt.show()"
      ],
      "metadata": {
        "id": "YIiuo97gPjDj",
        "colab": {
          "base_uri": "https://localhost:8080/",
          "height": 295
        },
        "outputId": "52978f7b-0071-4903-8c77-6d5ec7eef9cc"
      },
      "execution_count": 30,
      "outputs": [
        {
          "output_type": "display_data",
          "data": {
            "text/plain": [
              "<Figure size 432x288 with 1 Axes>"
            ],
            "image/png": "[encoded data removed]"
          },
          "metadata": {
            "needs_background": "light"
          }
        }
      ]
    },
    {
      "cell_type": "markdown",
      "metadata": {
        "id": "S4IIFXmF_izT"
      },
      "source": [
        "### Ejercicio 5\n",
        "__Reducción de la dimensión:__ Tomando en cuenta el mejor modelo encontrado en el `Ejercicio 3`, debe realizar una redcción de dimensionalidad del conjunto de datos. Para ello debe abordar el problema ocupando los dos criterios visto en clases:  \n",
        "\n",
        "* **Selección de atributos**\n",
        "* **Extracción de atributos**\n",
        "\n",
        "__Preguntas a responder:__\n",
        "\n",
        "Una vez realizado la reducción de dimensionalidad, debe sacar algunas estadísticas y gráficas comparativas entre el conjunto de datos original y el nuevo conjunto de datos (tamaño del dataset, tiempo de ejecución del modelo, etc.)\n"
      ]
    },
    {
      "cell_type": "code",
      "execution_count": 31,
      "metadata": {
        "id": "cH5Iz3-4_izT"
      },
      "outputs": [],
      "source": [
        "from sklearn.preprocessing import StandardScaler\n",
        "from sklearn.decomposition import PCA\n",
        "from sklearn.pipeline import make_pipeline\n",
        "\n",
        "from sklearn.feature_selection import SelectKBest\n",
        "from sklearn.feature_selection import f_classif\n",
        "\n",
        "import matplotlib.pyplot as plt\n",
        "import seaborn as sns "
      ]
    },
    {
      "cell_type": "markdown",
      "source": [
        "Selección de Atributos"
      ],
      "metadata": {
        "id": "WCOH5nOwCcTW"
      }
    },
    {
      "cell_type": "code",
      "source": [
        "k = 20 # número de atributos a seleccionar\n",
        "x_training = digits.drop([\"c00\",\"c32\",\"c39\",\"target\"], axis = 1) #se sacan pues saltaba un warning donde mencionaba que eran consantes\n",
        "y_training = digits[\"target\"]\n",
        "\n",
        "columnas = list(x_training.columns.values)\n",
        "seleccionadas = SelectKBest(f_classif, k=k).fit(x_training, y_training)"
      ],
      "metadata": {
        "id": "H-6ue49-Cdow"
      },
      "execution_count": 32,
      "outputs": []
    },
    {
      "cell_type": "code",
      "source": [
        "catrib = seleccionadas.get_support()\n",
        "atributos = [columnas[i] for i in list(catrib.nonzero()[0])]\n",
        "atri=list(atributos)\n",
        "print(atri)"
      ],
      "metadata": {
        "colab": {
          "base_uri": "https://localhost:8080/"
        },
        "id": "bJSb8ax1DAVv",
        "outputId": "f630be62-2fee-4d14-9dfb-74b6ae514f50"
      },
      "execution_count": 33,
      "outputs": [
        {
          "output_type": "stream",
          "name": "stdout",
          "text": [
            "['c02', 'c10', 'c13', 'c20', 'c21', 'c26', 'c28', 'c30', 'c33', 'c34', 'c36', 'c38', 'c42', 'c43', 'c44', 'c46', 'c54', 'c58', 'c60', 'c61']\n"
          ]
        }
      ]
    },
    {
      "cell_type": "code",
      "source": [
        "import time\n",
        "\n",
        "start_time = time.time()\n",
        "\n",
        "# Creando el modelo\n",
        "Xr = digits.drop(columns=\"target\").values\n",
        "yr = digits[\"target\"].values\n",
        "Xr_train, Xr_test, yr_train, yr_test = train_test_split(Xr, yr, test_size=0.15, random_state=150)\n",
        "\n",
        "\n",
        "knn0 = KNeighborsClassifier()\n",
        "knn0.fit(Xr_train, yr_train) # ajustando el modelo\n",
        "\n",
        "predicciones = knn0.predict(Xr_test)\n",
        "\n",
        "time = time.time() - start_time\n",
        "print(\"El tiempo de ejecución es;\", time)\n",
        "\n",
        "df_pred = pd.DataFrame({\n",
        "    'y':yr_test,\n",
        "    'yhat':predicciones\n",
        "})\n",
        "\n",
        "df_s1 = summary_metrics(df_pred).assign(name = 'Todas las variables')"
      ],
      "metadata": {
        "colab": {
          "base_uri": "https://localhost:8080/"
        },
        "id": "UKmaYUidEDd5",
        "outputId": "fcac65af-b33b-4f29-95ed-848bc046aaca"
      },
      "execution_count": 34,
      "outputs": [
        {
          "output_type": "stream",
          "name": "stdout",
          "text": [
            "El tiempo de ejecución es; 0.029663801193237305\n"
          ]
        }
      ]
    },
    {
      "cell_type": "code",
      "source": [
        "import time\n",
        "\n",
        "start_time = time.time()\n",
        "# Entrenamiento con las variables seleccionadas\n",
        "Xc = digits[atributos]\n",
        "y = digits['target']\n",
        "\n",
        "\n",
        "# split dataset\n",
        "Xc_train, X_test, yc_train, y_test = train_test_split(Xc, y, test_size=0.15, random_state = 150) \n",
        "\n",
        "# Creando el modelo\n",
        "knn1 = KNeighborsClassifier()\n",
        "knn1.fit(Xc_train, yc_train) # ajustando el modelo\n",
        "\n",
        "prediccionesb = knn1.predict(X_test)\n",
        "\n",
        "time = time.time() - start_time\n",
        "print(\"El tiempo de ejecución es:\", time)\n",
        "\n",
        "df_pred = pd.DataFrame({\n",
        "    'y':y_test,\n",
        "    'yhat':prediccionesb\n",
        "})\n",
        "\n",
        "df_s2 = summary_metrics(df_pred).assign(name = 'Variables Seleccionadas')"
      ],
      "metadata": {
        "colab": {
          "base_uri": "https://localhost:8080/"
        },
        "id": "xwdwqVjJFCJZ",
        "outputId": "149e8e32-0367-46bd-da12-ee7664e33737"
      },
      "execution_count": 35,
      "outputs": [
        {
          "output_type": "stream",
          "name": "stdout",
          "text": [
            "El tiempo de ejecución es: 0.024771690368652344\n"
          ]
        }
      ]
    },
    {
      "cell_type": "code",
      "source": [
        "# juntar resultados en formato dataframe\n",
        "pd.concat([df_s1,df_s2])"
      ],
      "metadata": {
        "colab": {
          "base_uri": "https://localhost:8080/",
          "height": 112
        },
        "id": "P63KNrBUFarh",
        "outputId": "b24f1709-7cff-4008-e56e-f35441d0413b"
      },
      "execution_count": 36,
      "outputs": [
        {
          "output_type": "execute_result",
          "data": {
            "text/plain": [
              "   accuracy  recall  precision  fscore                     name\n",
              "0    0.9889  0.9877     0.9894  0.9883      Todas las variables\n",
              "0    0.9481  0.9446     0.9467  0.9454  Variables Seleccionadas"
            ],
            "text/html": [
              "\n",
              "  <div id=\"df-7106e0bd-2854-4278-98a8-5d5fad3b57d2\">\n",
              "    <div class=\"colab-df-container\">\n",
              "      <div>\n",
              "<style scoped>\n",
              "    .dataframe tbody tr th:only-of-type {\n",
              "        vertical-align: middle;\n",
              "    }\n",
              "\n",
              "    .dataframe tbody tr th {\n",
              "        vertical-align: top;\n",
              "    }\n",
              "\n",
              "    .dataframe thead th {\n",
              "        text-align: right;\n",
              "    }\n",
              "</style>\n",
              "<table border=\"1\" class=\"dataframe\">\n",
              "  <thead>\n",
              "    <tr style=\"text-align: right;\">\n",
              "      <th></th>\n",
              "      <th>accuracy</th>\n",
              "      <th>recall</th>\n",
              "      <th>precision</th>\n",
              "      <th>fscore</th>\n",
              "      <th>name</th>\n",
              "    </tr>\n",
              "  </thead>\n",
              "  <tbody>\n",
              "    <tr>\n",
              "      <th>0</th>\n",
              "      <td>0.9889</td>\n",
              "      <td>0.9877</td>\n",
              "      <td>0.9894</td>\n",
              "      <td>0.9883</td>\n",
              "      <td>Todas las variables</td>\n",
              "    </tr>\n",
              "    <tr>\n",
              "      <th>0</th>\n",
              "      <td>0.9481</td>\n",
              "      <td>0.9446</td>\n",
              "      <td>0.9467</td>\n",
              "      <td>0.9454</td>\n",
              "      <td>Variables Seleccionadas</td>\n",
              "    </tr>\n",
              "  </tbody>\n",
              "</table>\n",
              "</div>\n",
              "      <button class=\"colab-df-convert\" onclick=\"convertToInteractive('df-7106e0bd-2854-4278-98a8-5d5fad3b57d2')\"\n",
              "              title=\"Convert this dataframe to an interactive table.\"\n",
              "              style=\"display:none;\">\n",
              "        \n",
              "  <svg xmlns=\"http://www.w3.org/2000/svg\" height=\"24px\"viewBox=\"0 0 24 24\"\n",
              "       width=\"24px\">\n",
              "    <path d=\"M0 0h24v24H0V0z\" fill=\"none\"/>\n",
              "    <path d=\"M18.56 5.44l.94 2.06.94-2.06 2.06-.94-2.06-.94-.94-2.06-.94 2.06-2.06.94zm-11 1L8.5 8.5l.94-2.06 2.06-.94-2.06-.94L8.5 2.5l-.94 2.06-2.06.94zm10 10l.94 2.06.94-2.06 2.06-.94-2.06-.94-.94-2.06-.94 2.06-2.06.94z\"/><path d=\"M17.41 7.96l-1.37-1.37c-.4-.4-.92-.59-1.43-.59-.52 0-1.04.2-1.43.59L10.3 9.45l-7.72 7.72c-.78.78-.78 2.05 0 2.83L4 21.41c.39.39.9.59 1.41.59.51 0 1.02-.2 1.41-.59l7.78-7.78 2.81-2.81c.8-.78.8-2.07 0-2.86zM5.41 20L4 18.59l7.72-7.72 1.47 1.35L5.41 20z\"/>\n",
              "  </svg>\n",
              "      </button>\n",
              "      \n",
              "  <style>\n",
              "    .colab-df-container {\n",
              "      display:flex;\n",
              "      flex-wrap:wrap;\n",
              "      gap: 12px;\n",
              "    }\n",
              "\n",
              "    .colab-df-convert {\n",
              "      background-color: #E8F0FE;\n",
              "      border: none;\n",
              "      border-radius: 50%;\n",
              "      cursor: pointer;\n",
              "      display: none;\n",
              "      fill: #1967D2;\n",
              "      height: 32px;\n",
              "      padding: 0 0 0 0;\n",
              "      width: 32px;\n",
              "    }\n",
              "\n",
              "    .colab-df-convert:hover {\n",
              "      background-color: #E2EBFA;\n",
              "      box-shadow: 0px 1px 2px rgba(60, 64, 67, 0.3), 0px 1px 3px 1px rgba(60, 64, 67, 0.15);\n",
              "      fill: #174EA6;\n",
              "    }\n",
              "\n",
              "    [theme=dark] .colab-df-convert {\n",
              "      background-color: #3B4455;\n",
              "      fill: #D2E3FC;\n",
              "    }\n",
              "\n",
              "    [theme=dark] .colab-df-convert:hover {\n",
              "      background-color: #434B5C;\n",
              "      box-shadow: 0px 1px 3px 1px rgba(0, 0, 0, 0.15);\n",
              "      filter: drop-shadow(0px 1px 2px rgba(0, 0, 0, 0.3));\n",
              "      fill: #FFFFFF;\n",
              "    }\n",
              "  </style>\n",
              "\n",
              "      <script>\n",
              "        const buttonEl =\n",
              "          document.querySelector('#df-7106e0bd-2854-4278-98a8-5d5fad3b57d2 button.colab-df-convert');\n",
              "        buttonEl.style.display =\n",
              "          google.colab.kernel.accessAllowed ? 'block' : 'none';\n",
              "\n",
              "        async function convertToInteractive(key) {\n",
              "          const element = document.querySelector('#df-7106e0bd-2854-4278-98a8-5d5fad3b57d2');\n",
              "          const dataTable =\n",
              "            await google.colab.kernel.invokeFunction('convertToInteractive',\n",
              "                                                     [key], {});\n",
              "          if (!dataTable) return;\n",
              "\n",
              "          const docLinkHtml = 'Like what you see? Visit the ' +\n",
              "            '<a target=\"_blank\" href=https://colab.research.google.com/notebooks/data_table.ipynb>data table notebook</a>'\n",
              "            + ' to learn more about interactive tables.';\n",
              "          element.innerHTML = '';\n",
              "          dataTable['output_type'] = 'display_data';\n",
              "          await google.colab.output.renderOutput(dataTable, element);\n",
              "          const docLink = document.createElement('div');\n",
              "          docLink.innerHTML = docLinkHtml;\n",
              "          element.appendChild(docLink);\n",
              "        }\n",
              "      </script>\n",
              "    </div>\n",
              "  </div>\n",
              "  "
            ]
          },
          "metadata": {},
          "execution_count": 36
        }
      ]
    },
    {
      "cell_type": "markdown",
      "source": [
        "Podemos ver que el código tarda menos en ejecutarse con menos variables, y que los atributos empeoran un poco. Sin embargo, que empeoren solo un poco significa que no basta con utilizar todas las variables, sino que basta solo con 15."
      ],
      "metadata": {
        "id": "gSdVRkdHIx87"
      }
    },
    {
      "cell_type": "markdown",
      "source": [
        "Reducción de Atributos"
      ],
      "metadata": {
        "id": "Wkv-dVy2Ca8p"
      }
    },
    {
      "cell_type": "code",
      "source": [
        "#Creamos una copia de los datos\n",
        "scaled_features = digits.copy()\n",
        "#Creamos el nombre de las columnas target\n",
        "col_names = digits.columns.drop(['target'])\n",
        "#creamos las caracteristicas con col_names\n",
        "features = scaled_features[col_names]\n",
        "#Definimos StandardScaler y aplicamos los métodos\n",
        "scaler = StandardScaler()\n",
        "scaler_fit = StandardScaler().fit(features.values)\n",
        "features = scaler_fit.transform(features.values)\n",
        "scaled_features[col_names] = features\n",
        "scaled_features.head()"
      ],
      "metadata": {
        "id": "g4rYxm0D832r",
        "colab": {
          "base_uri": "https://localhost:8080/",
          "height": 299
        },
        "outputId": "38bfe327-2b95-482b-981b-ed9adb3918d7"
      },
      "execution_count": 37,
      "outputs": [
        {
          "output_type": "execute_result",
          "data": {
            "text/plain": [
              "   c00       c01       c02       c03       c04       c05       c06       c07  \\\n",
              "0  0.0 -0.335016 -0.043081  0.274072 -0.664478 -0.844129 -0.409724 -0.125023   \n",
              "1  0.0 -0.335016 -1.094937  0.038648  0.268751 -0.138020 -0.409724 -0.125023   \n",
              "2  0.0 -0.335016 -1.094937 -1.844742  0.735366  1.097673 -0.409724 -0.125023   \n",
              "3  0.0 -0.335016  0.377661  0.744919  0.268751 -0.844129 -0.409724 -0.125023   \n",
              "4  0.0 -0.335016 -1.094937 -2.551014 -0.197863 -1.020657 -0.409724 -0.125023   \n",
              "\n",
              "        c08       c09  ...       c55       c56       c57       c58       c59  \\\n",
              "0 -0.059078 -0.624009  ... -0.209785 -0.023596 -0.299081  0.086719  0.208293   \n",
              "1 -0.059078 -0.624009  ... -0.209785 -0.023596 -0.299081 -1.089383 -0.249010   \n",
              "2 -0.059078 -0.624009  ... -0.209785 -0.023596 -0.299081 -1.089383 -2.078218   \n",
              "3 -0.059078  1.879691  ... -0.209785 -0.023596 -0.299081  0.282736  0.208293   \n",
              "4 -0.059078 -0.624009  ... -0.209785 -0.023596 -0.299081 -1.089383 -2.306869   \n",
              "\n",
              "        c60       c61       c62       c63  target  \n",
              "0 -0.366771 -1.146647 -0.505670 -0.196008       0  \n",
              "1  0.849632  0.548561 -0.505670 -0.196008       1  \n",
              "2 -0.164037  1.565686  1.695137 -0.196008       2  \n",
              "3  0.241430  0.379040 -0.505670 -0.196008       3  \n",
              "4  0.849632 -0.468564 -0.505670 -0.196008       4  \n",
              "\n",
              "[5 rows x 65 columns]"
            ],
            "text/html": [
              "\n",
              "  <div id=\"df-fe598d9a-24cb-4428-84ac-2a54776125a7\">\n",
              "    <div class=\"colab-df-container\">\n",
              "      <div>\n",
              "<style scoped>\n",
              "    .dataframe tbody tr th:only-of-type {\n",
              "        vertical-align: middle;\n",
              "    }\n",
              "\n",
              "    .dataframe tbody tr th {\n",
              "        vertical-align: top;\n",
              "    }\n",
              "\n",
              "    .dataframe thead th {\n",
              "        text-align: right;\n",
              "    }\n",
              "</style>\n",
              "<table border=\"1\" class=\"dataframe\">\n",
              "  <thead>\n",
              "    <tr style=\"text-align: right;\">\n",
              "      <th></th>\n",
              "      <th>c00</th>\n",
              "      <th>c01</th>\n",
              "      <th>c02</th>\n",
              "      <th>c03</th>\n",
              "      <th>c04</th>\n",
              "      <th>c05</th>\n",
              "      <th>c06</th>\n",
              "      <th>c07</th>\n",
              "      <th>c08</th>\n",
              "      <th>c09</th>\n",
              "      <th>...</th>\n",
              "      <th>c55</th>\n",
              "      <th>c56</th>\n",
              "      <th>c57</th>\n",
              "      <th>c58</th>\n",
              "      <th>c59</th>\n",
              "      <th>c60</th>\n",
              "      <th>c61</th>\n",
              "      <th>c62</th>\n",
              "      <th>c63</th>\n",
              "      <th>target</th>\n",
              "    </tr>\n",
              "  </thead>\n",
              "  <tbody>\n",
              "    <tr>\n",
              "      <th>0</th>\n",
              "      <td>0.0</td>\n",
              "      <td>-0.335016</td>\n",
              "      <td>-0.043081</td>\n",
              "      <td>0.274072</td>\n",
              "      <td>-0.664478</td>\n",
              "      <td>-0.844129</td>\n",
              "      <td>-0.409724</td>\n",
              "      <td>-0.125023</td>\n",
              "      <td>-0.059078</td>\n",
              "      <td>-0.624009</td>\n",
              "      <td>...</td>\n",
              "      <td>-0.209785</td>\n",
              "      <td>-0.023596</td>\n",
              "      <td>-0.299081</td>\n",
              "      <td>0.086719</td>\n",
              "      <td>0.208293</td>\n",
              "      <td>-0.366771</td>\n",
              "      <td>-1.146647</td>\n",
              "      <td>-0.505670</td>\n",
              "      <td>-0.196008</td>\n",
              "      <td>0</td>\n",
              "    </tr>\n",
              "    <tr>\n",
              "      <th>1</th>\n",
              "      <td>0.0</td>\n",
              "      <td>-0.335016</td>\n",
              "      <td>-1.094937</td>\n",
              "      <td>0.038648</td>\n",
              "      <td>0.268751</td>\n",
              "      <td>-0.138020</td>\n",
              "      <td>-0.409724</td>\n",
              "      <td>-0.125023</td>\n",
              "      <td>-0.059078</td>\n",
              "      <td>-0.624009</td>\n",
              "      <td>...</td>\n",
              "      <td>-0.209785</td>\n",
              "      <td>-0.023596</td>\n",
              "      <td>-0.299081</td>\n",
              "      <td>-1.089383</td>\n",
              "      <td>-0.249010</td>\n",
              "      <td>0.849632</td>\n",
              "      <td>0.548561</td>\n",
              "      <td>-0.505670</td>\n",
              "      <td>-0.196008</td>\n",
              "      <td>1</td>\n",
              "    </tr>\n",
              "    <tr>\n",
              "      <th>2</th>\n",
              "      <td>0.0</td>\n",
              "      <td>-0.335016</td>\n",
              "      <td>-1.094937</td>\n",
              "      <td>-1.844742</td>\n",
              "      <td>0.735366</td>\n",
              "      <td>1.097673</td>\n",
              "      <td>-0.409724</td>\n",
              "      <td>-0.125023</td>\n",
              "      <td>-0.059078</td>\n",
              "      <td>-0.624009</td>\n",
              "      <td>...</td>\n",
              "      <td>-0.209785</td>\n",
              "      <td>-0.023596</td>\n",
              "      <td>-0.299081</td>\n",
              "      <td>-1.089383</td>\n",
              "      <td>-2.078218</td>\n",
              "      <td>-0.164037</td>\n",
              "      <td>1.565686</td>\n",
              "      <td>1.695137</td>\n",
              "      <td>-0.196008</td>\n",
              "      <td>2</td>\n",
              "    </tr>\n",
              "    <tr>\n",
              "      <th>3</th>\n",
              "      <td>0.0</td>\n",
              "      <td>-0.335016</td>\n",
              "      <td>0.377661</td>\n",
              "      <td>0.744919</td>\n",
              "      <td>0.268751</td>\n",
              "      <td>-0.844129</td>\n",
              "      <td>-0.409724</td>\n",
              "      <td>-0.125023</td>\n",
              "      <td>-0.059078</td>\n",
              "      <td>1.879691</td>\n",
              "      <td>...</td>\n",
              "      <td>-0.209785</td>\n",
              "      <td>-0.023596</td>\n",
              "      <td>-0.299081</td>\n",
              "      <td>0.282736</td>\n",
              "      <td>0.208293</td>\n",
              "      <td>0.241430</td>\n",
              "      <td>0.379040</td>\n",
              "      <td>-0.505670</td>\n",
              "      <td>-0.196008</td>\n",
              "      <td>3</td>\n",
              "    </tr>\n",
              "    <tr>\n",
              "      <th>4</th>\n",
              "      <td>0.0</td>\n",
              "      <td>-0.335016</td>\n",
              "      <td>-1.094937</td>\n",
              "      <td>-2.551014</td>\n",
              "      <td>-0.197863</td>\n",
              "      <td>-1.020657</td>\n",
              "      <td>-0.409724</td>\n",
              "      <td>-0.125023</td>\n",
              "      <td>-0.059078</td>\n",
              "      <td>-0.624009</td>\n",
              "      <td>...</td>\n",
              "      <td>-0.209785</td>\n",
              "      <td>-0.023596</td>\n",
              "      <td>-0.299081</td>\n",
              "      <td>-1.089383</td>\n",
              "      <td>-2.306869</td>\n",
              "      <td>0.849632</td>\n",
              "      <td>-0.468564</td>\n",
              "      <td>-0.505670</td>\n",
              "      <td>-0.196008</td>\n",
              "      <td>4</td>\n",
              "    </tr>\n",
              "  </tbody>\n",
              "</table>\n",
              "<p>5 rows × 65 columns</p>\n",
              "</div>\n",
              "      <button class=\"colab-df-convert\" onclick=\"convertToInteractive('df-fe598d9a-24cb-4428-84ac-2a54776125a7')\"\n",
              "              title=\"Convert this dataframe to an interactive table.\"\n",
              "              style=\"display:none;\">\n",
              "        \n",
              "  <svg xmlns=\"http://www.w3.org/2000/svg\" height=\"24px\"viewBox=\"0 0 24 24\"\n",
              "       width=\"24px\">\n",
              "    <path d=\"M0 0h24v24H0V0z\" fill=\"none\"/>\n",
              "    <path d=\"M18.56 5.44l.94 2.06.94-2.06 2.06-.94-2.06-.94-.94-2.06-.94 2.06-2.06.94zm-11 1L8.5 8.5l.94-2.06 2.06-.94-2.06-.94L8.5 2.5l-.94 2.06-2.06.94zm10 10l.94 2.06.94-2.06 2.06-.94-2.06-.94-.94-2.06-.94 2.06-2.06.94z\"/><path d=\"M17.41 7.96l-1.37-1.37c-.4-.4-.92-.59-1.43-.59-.52 0-1.04.2-1.43.59L10.3 9.45l-7.72 7.72c-.78.78-.78 2.05 0 2.83L4 21.41c.39.39.9.59 1.41.59.51 0 1.02-.2 1.41-.59l7.78-7.78 2.81-2.81c.8-.78.8-2.07 0-2.86zM5.41 20L4 18.59l7.72-7.72 1.47 1.35L5.41 20z\"/>\n",
              "  </svg>\n",
              "      </button>\n",
              "      \n",
              "  <style>\n",
              "    .colab-df-container {\n",
              "      display:flex;\n",
              "      flex-wrap:wrap;\n",
              "      gap: 12px;\n",
              "    }\n",
              "\n",
              "    .colab-df-convert {\n",
              "      background-color: #E8F0FE;\n",
              "      border: none;\n",
              "      border-radius: 50%;\n",
              "      cursor: pointer;\n",
              "      display: none;\n",
              "      fill: #1967D2;\n",
              "      height: 32px;\n",
              "      padding: 0 0 0 0;\n",
              "      width: 32px;\n",
              "    }\n",
              "\n",
              "    .colab-df-convert:hover {\n",
              "      background-color: #E2EBFA;\n",
              "      box-shadow: 0px 1px 2px rgba(60, 64, 67, 0.3), 0px 1px 3px 1px rgba(60, 64, 67, 0.15);\n",
              "      fill: #174EA6;\n",
              "    }\n",
              "\n",
              "    [theme=dark] .colab-df-convert {\n",
              "      background-color: #3B4455;\n",
              "      fill: #D2E3FC;\n",
              "    }\n",
              "\n",
              "    [theme=dark] .colab-df-convert:hover {\n",
              "      background-color: #434B5C;\n",
              "      box-shadow: 0px 1px 3px 1px rgba(0, 0, 0, 0.15);\n",
              "      filter: drop-shadow(0px 1px 2px rgba(0, 0, 0, 0.3));\n",
              "      fill: #FFFFFF;\n",
              "    }\n",
              "  </style>\n",
              "\n",
              "      <script>\n",
              "        const buttonEl =\n",
              "          document.querySelector('#df-fe598d9a-24cb-4428-84ac-2a54776125a7 button.colab-df-convert');\n",
              "        buttonEl.style.display =\n",
              "          google.colab.kernel.accessAllowed ? 'block' : 'none';\n",
              "\n",
              "        async function convertToInteractive(key) {\n",
              "          const element = document.querySelector('#df-fe598d9a-24cb-4428-84ac-2a54776125a7');\n",
              "          const dataTable =\n",
              "            await google.colab.kernel.invokeFunction('convertToInteractive',\n",
              "                                                     [key], {});\n",
              "          if (!dataTable) return;\n",
              "\n",
              "          const docLinkHtml = 'Like what you see? Visit the ' +\n",
              "            '<a target=\"_blank\" href=https://colab.research.google.com/notebooks/data_table.ipynb>data table notebook</a>'\n",
              "            + ' to learn more about interactive tables.';\n",
              "          element.innerHTML = '';\n",
              "          dataTable['output_type'] = 'display_data';\n",
              "          await google.colab.output.renderOutput(dataTable, element);\n",
              "          const docLink = document.createElement('div');\n",
              "          docLink.innerHTML = docLinkHtml;\n",
              "          element.appendChild(docLink);\n",
              "        }\n",
              "      </script>\n",
              "    </div>\n",
              "  </div>\n",
              "  "
            ]
          },
          "metadata": {},
          "execution_count": 37
        }
      ]
    },
    {
      "cell_type": "code",
      "source": [
        "df_scaled_aux=scaled_features.drop(['target'],axis=1)\n",
        "df_scaled_aux.head()"
      ],
      "metadata": {
        "colab": {
          "base_uri": "https://localhost:8080/",
          "height": 299
        },
        "id": "t6RwamR_Qvlz",
        "outputId": "5722a8f8-9143-434b-8c27-fc9753d263f6"
      },
      "execution_count": 38,
      "outputs": [
        {
          "output_type": "execute_result",
          "data": {
            "text/plain": [
              "   c00       c01       c02       c03       c04       c05       c06       c07  \\\n",
              "0  0.0 -0.335016 -0.043081  0.274072 -0.664478 -0.844129 -0.409724 -0.125023   \n",
              "1  0.0 -0.335016 -1.094937  0.038648  0.268751 -0.138020 -0.409724 -0.125023   \n",
              "2  0.0 -0.335016 -1.094937 -1.844742  0.735366  1.097673 -0.409724 -0.125023   \n",
              "3  0.0 -0.335016  0.377661  0.744919  0.268751 -0.844129 -0.409724 -0.125023   \n",
              "4  0.0 -0.335016 -1.094937 -2.551014 -0.197863 -1.020657 -0.409724 -0.125023   \n",
              "\n",
              "        c08       c09  ...       c54       c55       c56       c57       c58  \\\n",
              "0 -0.059078 -0.624009  ... -0.757436 -0.209785 -0.023596 -0.299081  0.086719   \n",
              "1 -0.059078 -0.624009  ... -0.757436 -0.209785 -0.023596 -0.299081 -1.089383   \n",
              "2 -0.059078 -0.624009  ...  0.259230 -0.209785 -0.023596 -0.299081 -1.089383   \n",
              "3 -0.059078  1.879691  ...  1.072563 -0.209785 -0.023596 -0.299081  0.282736   \n",
              "4 -0.059078 -0.624009  ... -0.757436 -0.209785 -0.023596 -0.299081 -1.089383   \n",
              "\n",
              "        c59       c60       c61       c62       c63  \n",
              "0  0.208293 -0.366771 -1.146647 -0.505670 -0.196008  \n",
              "1 -0.249010  0.849632  0.548561 -0.505670 -0.196008  \n",
              "2 -2.078218 -0.164037  1.565686  1.695137 -0.196008  \n",
              "3  0.208293  0.241430  0.379040 -0.505670 -0.196008  \n",
              "4 -2.306869  0.849632 -0.468564 -0.505670 -0.196008  \n",
              "\n",
              "[5 rows x 64 columns]"
            ],
            "text/html": [
              "\n",
              "  <div id=\"df-fffbb14a-694e-4bd4-a0ca-035b6408761b\">\n",
              "    <div class=\"colab-df-container\">\n",
              "      <div>\n",
              "<style scoped>\n",
              "    .dataframe tbody tr th:only-of-type {\n",
              "        vertical-align: middle;\n",
              "    }\n",
              "\n",
              "    .dataframe tbody tr th {\n",
              "        vertical-align: top;\n",
              "    }\n",
              "\n",
              "    .dataframe thead th {\n",
              "        text-align: right;\n",
              "    }\n",
              "</style>\n",
              "<table border=\"1\" class=\"dataframe\">\n",
              "  <thead>\n",
              "    <tr style=\"text-align: right;\">\n",
              "      <th></th>\n",
              "      <th>c00</th>\n",
              "      <th>c01</th>\n",
              "      <th>c02</th>\n",
              "      <th>c03</th>\n",
              "      <th>c04</th>\n",
              "      <th>c05</th>\n",
              "      <th>c06</th>\n",
              "      <th>c07</th>\n",
              "      <th>c08</th>\n",
              "      <th>c09</th>\n",
              "      <th>...</th>\n",
              "      <th>c54</th>\n",
              "      <th>c55</th>\n",
              "      <th>c56</th>\n",
              "      <th>c57</th>\n",
              "      <th>c58</th>\n",
              "      <th>c59</th>\n",
              "      <th>c60</th>\n",
              "      <th>c61</th>\n",
              "      <th>c62</th>\n",
              "      <th>c63</th>\n",
              "    </tr>\n",
              "  </thead>\n",
              "  <tbody>\n",
              "    <tr>\n",
              "      <th>0</th>\n",
              "      <td>0.0</td>\n",
              "      <td>-0.335016</td>\n",
              "      <td>-0.043081</td>\n",
              "      <td>0.274072</td>\n",
              "      <td>-0.664478</td>\n",
              "      <td>-0.844129</td>\n",
              "      <td>-0.409724</td>\n",
              "      <td>-0.125023</td>\n",
              "      <td>-0.059078</td>\n",
              "      <td>-0.624009</td>\n",
              "      <td>...</td>\n",
              "      <td>-0.757436</td>\n",
              "      <td>-0.209785</td>\n",
              "      <td>-0.023596</td>\n",
              "      <td>-0.299081</td>\n",
              "      <td>0.086719</td>\n",
              "      <td>0.208293</td>\n",
              "      <td>-0.366771</td>\n",
              "      <td>-1.146647</td>\n",
              "      <td>-0.505670</td>\n",
              "      <td>-0.196008</td>\n",
              "    </tr>\n",
              "    <tr>\n",
              "      <th>1</th>\n",
              "      <td>0.0</td>\n",
              "      <td>-0.335016</td>\n",
              "      <td>-1.094937</td>\n",
              "      <td>0.038648</td>\n",
              "      <td>0.268751</td>\n",
              "      <td>-0.138020</td>\n",
              "      <td>-0.409724</td>\n",
              "      <td>-0.125023</td>\n",
              "      <td>-0.059078</td>\n",
              "      <td>-0.624009</td>\n",
              "      <td>...</td>\n",
              "      <td>-0.757436</td>\n",
              "      <td>-0.209785</td>\n",
              "      <td>-0.023596</td>\n",
              "      <td>-0.299081</td>\n",
              "      <td>-1.089383</td>\n",
              "      <td>-0.249010</td>\n",
              "      <td>0.849632</td>\n",
              "      <td>0.548561</td>\n",
              "      <td>-0.505670</td>\n",
              "      <td>-0.196008</td>\n",
              "    </tr>\n",
              "    <tr>\n",
              "      <th>2</th>\n",
              "      <td>0.0</td>\n",
              "      <td>-0.335016</td>\n",
              "      <td>-1.094937</td>\n",
              "      <td>-1.844742</td>\n",
              "      <td>0.735366</td>\n",
              "      <td>1.097673</td>\n",
              "      <td>-0.409724</td>\n",
              "      <td>-0.125023</td>\n",
              "      <td>-0.059078</td>\n",
              "      <td>-0.624009</td>\n",
              "      <td>...</td>\n",
              "      <td>0.259230</td>\n",
              "      <td>-0.209785</td>\n",
              "      <td>-0.023596</td>\n",
              "      <td>-0.299081</td>\n",
              "      <td>-1.089383</td>\n",
              "      <td>-2.078218</td>\n",
              "      <td>-0.164037</td>\n",
              "      <td>1.565686</td>\n",
              "      <td>1.695137</td>\n",
              "      <td>-0.196008</td>\n",
              "    </tr>\n",
              "    <tr>\n",
              "      <th>3</th>\n",
              "      <td>0.0</td>\n",
              "      <td>-0.335016</td>\n",
              "      <td>0.377661</td>\n",
              "      <td>0.744919</td>\n",
              "      <td>0.268751</td>\n",
              "      <td>-0.844129</td>\n",
              "      <td>-0.409724</td>\n",
              "      <td>-0.125023</td>\n",
              "      <td>-0.059078</td>\n",
              "      <td>1.879691</td>\n",
              "      <td>...</td>\n",
              "      <td>1.072563</td>\n",
              "      <td>-0.209785</td>\n",
              "      <td>-0.023596</td>\n",
              "      <td>-0.299081</td>\n",
              "      <td>0.282736</td>\n",
              "      <td>0.208293</td>\n",
              "      <td>0.241430</td>\n",
              "      <td>0.379040</td>\n",
              "      <td>-0.505670</td>\n",
              "      <td>-0.196008</td>\n",
              "    </tr>\n",
              "    <tr>\n",
              "      <th>4</th>\n",
              "      <td>0.0</td>\n",
              "      <td>-0.335016</td>\n",
              "      <td>-1.094937</td>\n",
              "      <td>-2.551014</td>\n",
              "      <td>-0.197863</td>\n",
              "      <td>-1.020657</td>\n",
              "      <td>-0.409724</td>\n",
              "      <td>-0.125023</td>\n",
              "      <td>-0.059078</td>\n",
              "      <td>-0.624009</td>\n",
              "      <td>...</td>\n",
              "      <td>-0.757436</td>\n",
              "      <td>-0.209785</td>\n",
              "      <td>-0.023596</td>\n",
              "      <td>-0.299081</td>\n",
              "      <td>-1.089383</td>\n",
              "      <td>-2.306869</td>\n",
              "      <td>0.849632</td>\n",
              "      <td>-0.468564</td>\n",
              "      <td>-0.505670</td>\n",
              "      <td>-0.196008</td>\n",
              "    </tr>\n",
              "  </tbody>\n",
              "</table>\n",
              "<p>5 rows × 64 columns</p>\n",
              "</div>\n",
              "      <button class=\"colab-df-convert\" onclick=\"convertToInteractive('df-fffbb14a-694e-4bd4-a0ca-035b6408761b')\"\n",
              "              title=\"Convert this dataframe to an interactive table.\"\n",
              "              style=\"display:none;\">\n",
              "        \n",
              "  <svg xmlns=\"http://www.w3.org/2000/svg\" height=\"24px\"viewBox=\"0 0 24 24\"\n",
              "       width=\"24px\">\n",
              "    <path d=\"M0 0h24v24H0V0z\" fill=\"none\"/>\n",
              "    <path d=\"M18.56 5.44l.94 2.06.94-2.06 2.06-.94-2.06-.94-.94-2.06-.94 2.06-2.06.94zm-11 1L8.5 8.5l.94-2.06 2.06-.94-2.06-.94L8.5 2.5l-.94 2.06-2.06.94zm10 10l.94 2.06.94-2.06 2.06-.94-2.06-.94-.94-2.06-.94 2.06-2.06.94z\"/><path d=\"M17.41 7.96l-1.37-1.37c-.4-.4-.92-.59-1.43-.59-.52 0-1.04.2-1.43.59L10.3 9.45l-7.72 7.72c-.78.78-.78 2.05 0 2.83L4 21.41c.39.39.9.59 1.41.59.51 0 1.02-.2 1.41-.59l7.78-7.78 2.81-2.81c.8-.78.8-2.07 0-2.86zM5.41 20L4 18.59l7.72-7.72 1.47 1.35L5.41 20z\"/>\n",
              "  </svg>\n",
              "      </button>\n",
              "      \n",
              "  <style>\n",
              "    .colab-df-container {\n",
              "      display:flex;\n",
              "      flex-wrap:wrap;\n",
              "      gap: 12px;\n",
              "    }\n",
              "\n",
              "    .colab-df-convert {\n",
              "      background-color: #E8F0FE;\n",
              "      border: none;\n",
              "      border-radius: 50%;\n",
              "      cursor: pointer;\n",
              "      display: none;\n",
              "      fill: #1967D2;\n",
              "      height: 32px;\n",
              "      padding: 0 0 0 0;\n",
              "      width: 32px;\n",
              "    }\n",
              "\n",
              "    .colab-df-convert:hover {\n",
              "      background-color: #E2EBFA;\n",
              "      box-shadow: 0px 1px 2px rgba(60, 64, 67, 0.3), 0px 1px 3px 1px rgba(60, 64, 67, 0.15);\n",
              "      fill: #174EA6;\n",
              "    }\n",
              "\n",
              "    [theme=dark] .colab-df-convert {\n",
              "      background-color: #3B4455;\n",
              "      fill: #D2E3FC;\n",
              "    }\n",
              "\n",
              "    [theme=dark] .colab-df-convert:hover {\n",
              "      background-color: #434B5C;\n",
              "      box-shadow: 0px 1px 3px 1px rgba(0, 0, 0, 0.15);\n",
              "      filter: drop-shadow(0px 1px 2px rgba(0, 0, 0, 0.3));\n",
              "      fill: #FFFFFF;\n",
              "    }\n",
              "  </style>\n",
              "\n",
              "      <script>\n",
              "        const buttonEl =\n",
              "          document.querySelector('#df-fffbb14a-694e-4bd4-a0ca-035b6408761b button.colab-df-convert');\n",
              "        buttonEl.style.display =\n",
              "          google.colab.kernel.accessAllowed ? 'block' : 'none';\n",
              "\n",
              "        async function convertToInteractive(key) {\n",
              "          const element = document.querySelector('#df-fffbb14a-694e-4bd4-a0ca-035b6408761b');\n",
              "          const dataTable =\n",
              "            await google.colab.kernel.invokeFunction('convertToInteractive',\n",
              "                                                     [key], {});\n",
              "          if (!dataTable) return;\n",
              "\n",
              "          const docLinkHtml = 'Like what you see? Visit the ' +\n",
              "            '<a target=\"_blank\" href=https://colab.research.google.com/notebooks/data_table.ipynb>data table notebook</a>'\n",
              "            + ' to learn more about interactive tables.';\n",
              "          element.innerHTML = '';\n",
              "          dataTable['output_type'] = 'display_data';\n",
              "          await google.colab.output.renderOutput(dataTable, element);\n",
              "          const docLink = document.createElement('div');\n",
              "          docLink.innerHTML = docLinkHtml;\n",
              "          element.appendChild(docLink);\n",
              "        }\n",
              "      </script>\n",
              "    </div>\n",
              "  </div>\n",
              "  "
            ]
          },
          "metadata": {},
          "execution_count": 38
        }
      ]
    },
    {
      "cell_type": "code",
      "source": [
        "#Ahora, podemos verificar usando la regla del codo, cuántas variables realmente aportan en el modelo para delimitar mejor el problema\n",
        "#Perform PCA (w/o limits on n_components)\n",
        "pca = PCA()\n",
        "_ = pca.fit_transform(df_scaled_aux)\n",
        "PC_components = np.arange(pca.n_components_)+1\n",
        "recta = sns.lineplot(x=PC_components-1, y=np.cumsum(pca.explained_variance_ratio_), color='black', linestyle='-', linewidth=2, marker='o', markersize=8)\n",
        "plt.title('Scree Plot')\n",
        "plt.xlabel('N-th Principal Component')\n",
        "plt.ylabel('Variance Explained')\n",
        "plt.ylim(0, 1.3)\n",
        "plt.show()\n",
        "#Notemos que entre los 20 primeros componentes se tiene que el gráfico se comprota de forma asintótica."
      ],
      "metadata": {
        "colab": {
          "base_uri": "https://localhost:8080/",
          "height": 295
        },
        "id": "3iMLf60zLKcI",
        "outputId": "03381090-db2c-4efb-f7ab-eff1ee185e69"
      },
      "execution_count": 39,
      "outputs": [
        {
          "output_type": "display_data",
          "data": {
            "text/plain": [
              "<Figure size 432x288 with 1 Axes>"
            ],
            "image/png": "[encoded data removed]"
          },
          "metadata": {
            "needs_background": "light"
          }
        }
      ]
    },
    {
      "cell_type": "code",
      "source": [
        "df_scaled_aux.columns #Vemos las columnas de nuestro df_scaled (que recordemos, no tiene ni el id ni el diagnosis)"
      ],
      "metadata": {
        "colab": {
          "base_uri": "https://localhost:8080/"
        },
        "id": "HucCMOfJ9ief",
        "outputId": "c6b41dd7-ba1a-4a6a-e109-afdda02842e3"
      },
      "execution_count": 40,
      "outputs": [
        {
          "output_type": "execute_result",
          "data": {
            "text/plain": [
              "Index(['c00', 'c01', 'c02', 'c03', 'c04', 'c05', 'c06', 'c07', 'c08', 'c09',\n",
              "       'c10', 'c11', 'c12', 'c13', 'c14', 'c15', 'c16', 'c17', 'c18', 'c19',\n",
              "       'c20', 'c21', 'c22', 'c23', 'c24', 'c25', 'c26', 'c27', 'c28', 'c29',\n",
              "       'c30', 'c31', 'c32', 'c33', 'c34', 'c35', 'c36', 'c37', 'c38', 'c39',\n",
              "       'c40', 'c41', 'c42', 'c43', 'c44', 'c45', 'c46', 'c47', 'c48', 'c49',\n",
              "       'c50', 'c51', 'c52', 'c53', 'c54', 'c55', 'c56', 'c57', 'c58', 'c59',\n",
              "       'c60', 'c61', 'c62', 'c63'],\n",
              "      dtype='object')"
            ]
          },
          "metadata": {},
          "execution_count": 40
        }
      ]
    },
    {
      "cell_type": "code",
      "source": [
        "#Finalmente, creamos el df_scaled definitivo\n",
        "df_scaled=scaled_features.drop(['c20', 'c21', 'c22', 'c23', 'c24', 'c25', 'c26', 'c27', 'c28', 'c29',\n",
        "       'c30', 'c31', 'c32', 'c33', 'c34', 'c35', 'c36', 'c37', 'c38', 'c39',\n",
        "       'c40', 'c41', 'c42', 'c43', 'c44', 'c45', 'c46', 'c47', 'c48', 'c49',\n",
        "       'c50', 'c51', 'c52', 'c53', 'c54', 'c55', 'c56', 'c57', 'c58', 'c59',\n",
        "       'c60', 'c61', 'c62', 'c63','target'],axis=1)\n",
        "df_scaled.head()"
      ],
      "metadata": {
        "colab": {
          "base_uri": "https://localhost:8080/",
          "height": 270
        },
        "id": "jfl-yuTASlf1",
        "outputId": "5ae74ba2-5693-4ffa-be1f-e83e14a4f7ae"
      },
      "execution_count": 41,
      "outputs": [
        {
          "output_type": "execute_result",
          "data": {
            "text/plain": [
              "   c00       c01       c02       c03       c04       c05       c06       c07  \\\n",
              "0  0.0 -0.335016 -0.043081  0.274072 -0.664478 -0.844129 -0.409724 -0.125023   \n",
              "1  0.0 -0.335016 -1.094937  0.038648  0.268751 -0.138020 -0.409724 -0.125023   \n",
              "2  0.0 -0.335016 -1.094937 -1.844742  0.735366  1.097673 -0.409724 -0.125023   \n",
              "3  0.0 -0.335016  0.377661  0.744919  0.268751 -0.844129 -0.409724 -0.125023   \n",
              "4  0.0 -0.335016 -1.094937 -2.551014 -0.197863 -1.020657 -0.409724 -0.125023   \n",
              "\n",
              "        c08       c09       c10       c11       c12       c13       c14  \\\n",
              "0 -0.059078 -0.624009  0.482974  0.759622 -0.058426  1.127721  0.879583   \n",
              "1 -0.059078 -0.624009 -1.915573 -0.246304  1.196450  0.136195 -0.514991   \n",
              "2 -0.059078 -0.624009 -1.362062  1.011104  0.987304  0.962467 -0.514991   \n",
              "3 -0.059078  1.879691  0.482974 -1.503711  0.987304 -0.690077 -0.514991   \n",
              "4 -0.059078 -0.624009 -1.915573 -1.252229 -0.476718 -1.351095 -0.514991   \n",
              "\n",
              "        c15       c16       c17       c18       c19  \n",
              "0 -0.130433 -0.044625  0.111443  0.895880 -0.860666  \n",
              "1 -0.130433 -0.044625 -0.727646 -1.213385  1.380308  \n",
              "2 -0.130433 -0.044625 -0.727646 -0.334525  1.035543  \n",
              "3 -0.130433 -0.044625 -0.168254 -1.564930  1.035543  \n",
              "4 -0.130433 -0.044625 -0.727646 -1.564930  1.035543  "
            ],
            "text/html": [
              "\n",
              "  <div id=\"df-8fc55511-c888-43ee-8821-919e7058f13c\">\n",
              "    <div class=\"colab-df-container\">\n",
              "      <div>\n",
              "<style scoped>\n",
              "    .dataframe tbody tr th:only-of-type {\n",
              "        vertical-align: middle;\n",
              "    }\n",
              "\n",
              "    .dataframe tbody tr th {\n",
              "        vertical-align: top;\n",
              "    }\n",
              "\n",
              "    .dataframe thead th {\n",
              "        text-align: right;\n",
              "    }\n",
              "</style>\n",
              "<table border=\"1\" class=\"dataframe\">\n",
              "  <thead>\n",
              "    <tr style=\"text-align: right;\">\n",
              "      <th></th>\n",
              "      <th>c00</th>\n",
              "      <th>c01</th>\n",
              "      <th>c02</th>\n",
              "      <th>c03</th>\n",
              "      <th>c04</th>\n",
              "      <th>c05</th>\n",
              "      <th>c06</th>\n",
              "      <th>c07</th>\n",
              "      <th>c08</th>\n",
              "      <th>c09</th>\n",
              "      <th>c10</th>\n",
              "      <th>c11</th>\n",
              "      <th>c12</th>\n",
              "      <th>c13</th>\n",
              "      <th>c14</th>\n",
              "      <th>c15</th>\n",
              "      <th>c16</th>\n",
              "      <th>c17</th>\n",
              "      <th>c18</th>\n",
              "      <th>c19</th>\n",
              "    </tr>\n",
              "  </thead>\n",
              "  <tbody>\n",
              "    <tr>\n",
              "      <th>0</th>\n",
              "      <td>0.0</td>\n",
              "      <td>-0.335016</td>\n",
              "      <td>-0.043081</td>\n",
              "      <td>0.274072</td>\n",
              "      <td>-0.664478</td>\n",
              "      <td>-0.844129</td>\n",
              "      <td>-0.409724</td>\n",
              "      <td>-0.125023</td>\n",
              "      <td>-0.059078</td>\n",
              "      <td>-0.624009</td>\n",
              "      <td>0.482974</td>\n",
              "      <td>0.759622</td>\n",
              "      <td>-0.058426</td>\n",
              "      <td>1.127721</td>\n",
              "      <td>0.879583</td>\n",
              "      <td>-0.130433</td>\n",
              "      <td>-0.044625</td>\n",
              "      <td>0.111443</td>\n",
              "      <td>0.895880</td>\n",
              "      <td>-0.860666</td>\n",
              "    </tr>\n",
              "    <tr>\n",
              "      <th>1</th>\n",
              "      <td>0.0</td>\n",
              "      <td>-0.335016</td>\n",
              "      <td>-1.094937</td>\n",
              "      <td>0.038648</td>\n",
              "      <td>0.268751</td>\n",
              "      <td>-0.138020</td>\n",
              "      <td>-0.409724</td>\n",
              "      <td>-0.125023</td>\n",
              "      <td>-0.059078</td>\n",
              "      <td>-0.624009</td>\n",
              "      <td>-1.915573</td>\n",
              "      <td>-0.246304</td>\n",
              "      <td>1.196450</td>\n",
              "      <td>0.136195</td>\n",
              "      <td>-0.514991</td>\n",
              "      <td>-0.130433</td>\n",
              "      <td>-0.044625</td>\n",
              "      <td>-0.727646</td>\n",
              "      <td>-1.213385</td>\n",
              "      <td>1.380308</td>\n",
              "    </tr>\n",
              "    <tr>\n",
              "      <th>2</th>\n",
              "      <td>0.0</td>\n",
              "      <td>-0.335016</td>\n",
              "      <td>-1.094937</td>\n",
              "      <td>-1.844742</td>\n",
              "      <td>0.735366</td>\n",
              "      <td>1.097673</td>\n",
              "      <td>-0.409724</td>\n",
              "      <td>-0.125023</td>\n",
              "      <td>-0.059078</td>\n",
              "      <td>-0.624009</td>\n",
              "      <td>-1.362062</td>\n",
              "      <td>1.011104</td>\n",
              "      <td>0.987304</td>\n",
              "      <td>0.962467</td>\n",
              "      <td>-0.514991</td>\n",
              "      <td>-0.130433</td>\n",
              "      <td>-0.044625</td>\n",
              "      <td>-0.727646</td>\n",
              "      <td>-0.334525</td>\n",
              "      <td>1.035543</td>\n",
              "    </tr>\n",
              "    <tr>\n",
              "      <th>3</th>\n",
              "      <td>0.0</td>\n",
              "      <td>-0.335016</td>\n",
              "      <td>0.377661</td>\n",
              "      <td>0.744919</td>\n",
              "      <td>0.268751</td>\n",
              "      <td>-0.844129</td>\n",
              "      <td>-0.409724</td>\n",
              "      <td>-0.125023</td>\n",
              "      <td>-0.059078</td>\n",
              "      <td>1.879691</td>\n",
              "      <td>0.482974</td>\n",
              "      <td>-1.503711</td>\n",
              "      <td>0.987304</td>\n",
              "      <td>-0.690077</td>\n",
              "      <td>-0.514991</td>\n",
              "      <td>-0.130433</td>\n",
              "      <td>-0.044625</td>\n",
              "      <td>-0.168254</td>\n",
              "      <td>-1.564930</td>\n",
              "      <td>1.035543</td>\n",
              "    </tr>\n",
              "    <tr>\n",
              "      <th>4</th>\n",
              "      <td>0.0</td>\n",
              "      <td>-0.335016</td>\n",
              "      <td>-1.094937</td>\n",
              "      <td>-2.551014</td>\n",
              "      <td>-0.197863</td>\n",
              "      <td>-1.020657</td>\n",
              "      <td>-0.409724</td>\n",
              "      <td>-0.125023</td>\n",
              "      <td>-0.059078</td>\n",
              "      <td>-0.624009</td>\n",
              "      <td>-1.915573</td>\n",
              "      <td>-1.252229</td>\n",
              "      <td>-0.476718</td>\n",
              "      <td>-1.351095</td>\n",
              "      <td>-0.514991</td>\n",
              "      <td>-0.130433</td>\n",
              "      <td>-0.044625</td>\n",
              "      <td>-0.727646</td>\n",
              "      <td>-1.564930</td>\n",
              "      <td>1.035543</td>\n",
              "    </tr>\n",
              "  </tbody>\n",
              "</table>\n",
              "</div>\n",
              "      <button class=\"colab-df-convert\" onclick=\"convertToInteractive('df-8fc55511-c888-43ee-8821-919e7058f13c')\"\n",
              "              title=\"Convert this dataframe to an interactive table.\"\n",
              "              style=\"display:none;\">\n",
              "        \n",
              "  <svg xmlns=\"http://www.w3.org/2000/svg\" height=\"24px\"viewBox=\"0 0 24 24\"\n",
              "       width=\"24px\">\n",
              "    <path d=\"M0 0h24v24H0V0z\" fill=\"none\"/>\n",
              "    <path d=\"M18.56 5.44l.94 2.06.94-2.06 2.06-.94-2.06-.94-.94-2.06-.94 2.06-2.06.94zm-11 1L8.5 8.5l.94-2.06 2.06-.94-2.06-.94L8.5 2.5l-.94 2.06-2.06.94zm10 10l.94 2.06.94-2.06 2.06-.94-2.06-.94-.94-2.06-.94 2.06-2.06.94z\"/><path d=\"M17.41 7.96l-1.37-1.37c-.4-.4-.92-.59-1.43-.59-.52 0-1.04.2-1.43.59L10.3 9.45l-7.72 7.72c-.78.78-.78 2.05 0 2.83L4 21.41c.39.39.9.59 1.41.59.51 0 1.02-.2 1.41-.59l7.78-7.78 2.81-2.81c.8-.78.8-2.07 0-2.86zM5.41 20L4 18.59l7.72-7.72 1.47 1.35L5.41 20z\"/>\n",
              "  </svg>\n",
              "      </button>\n",
              "      \n",
              "  <style>\n",
              "    .colab-df-container {\n",
              "      display:flex;\n",
              "      flex-wrap:wrap;\n",
              "      gap: 12px;\n",
              "    }\n",
              "\n",
              "    .colab-df-convert {\n",
              "      background-color: #E8F0FE;\n",
              "      border: none;\n",
              "      border-radius: 50%;\n",
              "      cursor: pointer;\n",
              "      display: none;\n",
              "      fill: #1967D2;\n",
              "      height: 32px;\n",
              "      padding: 0 0 0 0;\n",
              "      width: 32px;\n",
              "    }\n",
              "\n",
              "    .colab-df-convert:hover {\n",
              "      background-color: #E2EBFA;\n",
              "      box-shadow: 0px 1px 2px rgba(60, 64, 67, 0.3), 0px 1px 3px 1px rgba(60, 64, 67, 0.15);\n",
              "      fill: #174EA6;\n",
              "    }\n",
              "\n",
              "    [theme=dark] .colab-df-convert {\n",
              "      background-color: #3B4455;\n",
              "      fill: #D2E3FC;\n",
              "    }\n",
              "\n",
              "    [theme=dark] .colab-df-convert:hover {\n",
              "      background-color: #434B5C;\n",
              "      box-shadow: 0px 1px 3px 1px rgba(0, 0, 0, 0.15);\n",
              "      filter: drop-shadow(0px 1px 2px rgba(0, 0, 0, 0.3));\n",
              "      fill: #FFFFFF;\n",
              "    }\n",
              "  </style>\n",
              "\n",
              "      <script>\n",
              "        const buttonEl =\n",
              "          document.querySelector('#df-8fc55511-c888-43ee-8821-919e7058f13c button.colab-df-convert');\n",
              "        buttonEl.style.display =\n",
              "          google.colab.kernel.accessAllowed ? 'block' : 'none';\n",
              "\n",
              "        async function convertToInteractive(key) {\n",
              "          const element = document.querySelector('#df-8fc55511-c888-43ee-8821-919e7058f13c');\n",
              "          const dataTable =\n",
              "            await google.colab.kernel.invokeFunction('convertToInteractive',\n",
              "                                                     [key], {});\n",
              "          if (!dataTable) return;\n",
              "\n",
              "          const docLinkHtml = 'Like what you see? Visit the ' +\n",
              "            '<a target=\"_blank\" href=https://colab.research.google.com/notebooks/data_table.ipynb>data table notebook</a>'\n",
              "            + ' to learn more about interactive tables.';\n",
              "          element.innerHTML = '';\n",
              "          dataTable['output_type'] = 'display_data';\n",
              "          await google.colab.output.renderOutput(dataTable, element);\n",
              "          const docLink = document.createElement('div');\n",
              "          docLink.innerHTML = docLinkHtml;\n",
              "          element.appendChild(docLink);\n",
              "        }\n",
              "      </script>\n",
              "    </div>\n",
              "  </div>\n",
              "  "
            ]
          },
          "metadata": {},
          "execution_count": 41
        }
      ]
    },
    {
      "cell_type": "code",
      "source": [
        "# Entrenamiento modelo PCA con escalado de los datos\n",
        "# ==============================================================================\n",
        "pca_pipe = make_pipeline(StandardScaler(), PCA())\n",
        "pca_pipe.fit(df_scaled)\n",
        "\n",
        "# Se extrae el modelo entrenado del pipeline\n",
        "modelo_pca = pca_pipe.named_steps['pca']"
      ],
      "metadata": {
        "id": "7AN3Aca1OZgM"
      },
      "execution_count": 42,
      "outputs": []
    },
    {
      "cell_type": "code",
      "source": [
        "# Se combierte el array a dataframe para añadir nombres a los ejes.\n",
        "pd.DataFrame(\n",
        "    data    = modelo_pca.components_,\n",
        "    columns = df_scaled.columns,\n",
        "    index   = ['PC1', 'PC2', 'PC3', 'PC4',\n",
        "              'PC5','PC6','PC7','PC8','PC9','PC10',\n",
        "               'PC11','PC12','PC13','PC14','PC15',\n",
        "               'PC16','PC17','PC18','PC19','PC20'\n",
        "              ]\n",
        ")"
      ],
      "metadata": {
        "colab": {
          "base_uri": "https://localhost:8080/",
          "height": 740
        },
        "id": "EWoks2hdSz0h",
        "outputId": "00a2353c-508b-42ba-8653-46d32d6ea1b1"
      },
      "execution_count": 43,
      "outputs": [
        {
          "output_type": "execute_result",
          "data": {
            "text/plain": [
              "      c00       c01       c02       c03       c04       c05       c06  \\\n",
              "PC1  -0.0  0.278163  0.414398  0.331607  0.042468  0.041060 -0.050999   \n",
              "PC2  -0.0  0.010320  0.006391 -0.071565  0.238265  0.443473  0.448471   \n",
              "PC3  -0.0  0.066589  0.067909  0.130262 -0.366025 -0.205265  0.184859   \n",
              "PC4   0.0  0.412970  0.233221 -0.032241 -0.107837 -0.142626  0.020807   \n",
              "PC5   0.0 -0.055526 -0.197380 -0.175253  0.159311  0.059675 -0.000958   \n",
              "PC6   0.0 -0.133433 -0.085234 -0.107889 -0.219952 -0.091207 -0.055960   \n",
              "PC7  -0.0 -0.415838 -0.013983  0.433549  0.114413 -0.274818 -0.212702   \n",
              "PC8  -0.0  0.125316  0.210199  0.369393 -0.088127  0.122129  0.243723   \n",
              "PC9  -0.0 -0.132208  0.111771 -0.217525 -0.629141 -0.097752  0.093262   \n",
              "PC10  0.0  0.119950 -0.038267  0.061988  0.333816  0.054018 -0.036052   \n",
              "PC11  0.0  0.156664  0.274776 -0.100099  0.081001  0.082415 -0.226705   \n",
              "PC12 -0.0  0.540703 -0.225941 -0.165442 -0.083875 -0.123160 -0.352085   \n",
              "PC13  0.0  0.211124  0.001142 -0.208397  0.115527 -0.044495  0.252667   \n",
              "PC14 -0.0 -0.058049  0.039488  0.071528  0.206426 -0.261447 -0.121790   \n",
              "PC15  0.0 -0.242538  0.331203 -0.388972 -0.082874  0.396525 -0.159522   \n",
              "PC16  0.0 -0.146752 -0.107702 -0.317659  0.164337 -0.237589 -0.056729   \n",
              "PC17  0.0  0.055929  0.345952 -0.235481  0.205541 -0.170951 -0.272737   \n",
              "PC18  0.0 -0.213679  0.535098 -0.150859  0.160340 -0.309034  0.198250   \n",
              "PC19  0.0 -0.110300  0.096174  0.180627 -0.150235  0.440084 -0.497501   \n",
              "PC20  1.0  0.000000  0.000000  0.000000  0.000000  0.000000  0.000000   \n",
              "\n",
              "           c07       c08       c09       c10       c11       c12       c13  \\\n",
              "PC1  -0.096682  0.082154  0.410888  0.421194 -0.189131 -0.024248  0.097415   \n",
              "PC2   0.317675 -0.001800  0.004771  0.035115 -0.126992 -0.018910  0.312387   \n",
              "PC3   0.382683 -0.018218  0.045253  0.161883  0.304235 -0.243148 -0.363314   \n",
              "PC4   0.209360  0.110341  0.241610 -0.248131 -0.087500  0.313761 -0.175970   \n",
              "PC5  -0.001368  0.555382  0.172899 -0.045469  0.179675  0.210689  0.023935   \n",
              "PC6   0.023582  0.294973 -0.023147 -0.133756 -0.508478 -0.569859 -0.140233   \n",
              "PC7   0.288867  0.101852 -0.189098  0.174636  0.039024  0.267608  0.200096   \n",
              "PC8  -0.211869  0.204865 -0.226356  0.062346  0.299023 -0.171792  0.008031   \n",
              "PC9  -0.077466 -0.289121 -0.071245  0.111236 -0.168670  0.354436  0.274283   \n",
              "PC10  0.038488 -0.644888 -0.030661 -0.067527 -0.008242 -0.119995 -0.212960   \n",
              "PC11  0.140548  0.056849 -0.154915  0.117218 -0.381212 -0.080852  0.248374   \n",
              "PC12 -0.068149  0.011706 -0.060777 -0.047237  0.321163 -0.123006  0.393999   \n",
              "PC13  0.011265  0.131732 -0.246267  0.076421 -0.166679  0.390188 -0.399457   \n",
              "PC14 -0.554039  0.003893  0.045066  0.046218 -0.168619  0.096901 -0.196145   \n",
              "PC15 -0.233322  0.022960 -0.017094  0.290121  0.299565 -0.051703 -0.166455   \n",
              "PC16  0.230767 -0.078796  0.515719  0.363648  0.076627 -0.077601 -0.021451   \n",
              "PC17  0.287295  0.073417 -0.473633  0.116240  0.067455 -0.052951 -0.106810   \n",
              "PC18 -0.046333 -0.021198  0.163341 -0.524749  0.180954 -0.104556  0.220152   \n",
              "PC19  0.198045 -0.012410  0.199112 -0.364803  0.003318  0.159603 -0.214552   \n",
              "PC20  0.000000  0.000000  0.000000  0.000000  0.000000  0.000000  0.000000   \n",
              "\n",
              "           c14       c15       c16       c17       c18       c19  \n",
              "PC1  -0.088758 -0.123931  0.046506  0.323215  0.032716 -0.309403  \n",
              "PC2   0.458570  0.286199 -0.017880 -0.001327 -0.061613 -0.166147  \n",
              "PC3   0.107454  0.375027  0.026734  0.137046  0.359911  0.061421  \n",
              "PC4  -0.004967  0.230452  0.037762 -0.174191 -0.548420  0.207206  \n",
              "PC5  -0.026801  0.022470  0.566695  0.332357  0.137277  0.170208  \n",
              "PC6   0.027007  0.036341  0.254920 -0.065509 -0.201864 -0.287124  \n",
              "PC7  -0.108674  0.270421  0.148701 -0.195194 -0.159238 -0.247597  \n",
              "PC8   0.197829 -0.309762  0.318049 -0.448738 -0.077625  0.130263  \n",
              "PC9   0.201717 -0.110674  0.332633  0.087666  0.024673 -0.020406  \n",
              "PC10 -0.108495  0.063974  0.596765  0.058742 -0.071560 -0.037563  \n",
              "PC11 -0.205200  0.194387  0.103728 -0.286026  0.423531  0.446173  \n",
              "PC12  0.104078  0.180499  0.055721 -0.124966  0.059422 -0.364925  \n",
              "PC13 -0.141298 -0.091514  0.022076 -0.259889  0.305822 -0.468369  \n",
              "PC14  0.562350  0.370974 -0.012187 -0.034967  0.118712  0.085999  \n",
              "PC15 -0.195722  0.340119  0.021936 -0.111139 -0.223035 -0.120498  \n",
              "PC16  0.194842 -0.293054  0.039479 -0.426305  0.005368  0.045760  \n",
              "PC17  0.338222 -0.286833 -0.035890  0.324996 -0.162987  0.034735  \n",
              "PC18 -0.084758  0.006543  0.031178 -0.031020  0.201764 -0.195162  \n",
              "PC19  0.280034 -0.146595  0.020267 -0.119101  0.246071 -0.153402  \n",
              "PC20  0.000000  0.000000  0.000000  0.000000  0.000000  0.000000  "
            ],
            "text/html": [
              "\n",
              "  <div id=\"df-e768ab9b-088d-42c8-b2dd-63b7f67efb44\">\n",
              "    <div class=\"colab-df-container\">\n",
              "      <div>\n",
              "<style scoped>\n",
              "    .dataframe tbody tr th:only-of-type {\n",
              "        vertical-align: middle;\n",
              "    }\n",
              "\n",
              "    .dataframe tbody tr th {\n",
              "        vertical-align: top;\n",
              "    }\n",
              "\n",
              "    .dataframe thead th {\n",
              "        text-align: right;\n",
              "    }\n",
              "</style>\n",
              "<table border=\"1\" class=\"dataframe\">\n",
              "  <thead>\n",
              "    <tr style=\"text-align: right;\">\n",
              "      <th></th>\n",
              "      <th>c00</th>\n",
              "      <th>c01</th>\n",
              "      <th>c02</th>\n",
              "      <th>c03</th>\n",
              "      <th>c04</th>\n",
              "      <th>c05</th>\n",
              "      <th>c06</th>\n",
              "      <th>c07</th>\n",
              "      <th>c08</th>\n",
              "      <th>c09</th>\n",
              "      <th>c10</th>\n",
              "      <th>c11</th>\n",
              "      <th>c12</th>\n",
              "      <th>c13</th>\n",
              "      <th>c14</th>\n",
              "      <th>c15</th>\n",
              "      <th>c16</th>\n",
              "      <th>c17</th>\n",
              "      <th>c18</th>\n",
              "      <th>c19</th>\n",
              "    </tr>\n",
              "  </thead>\n",
              "  <tbody>\n",
              "    <tr>\n",
              "      <th>PC1</th>\n",
              "      <td>-0.0</td>\n",
              "      <td>0.278163</td>\n",
              "      <td>0.414398</td>\n",
              "      <td>0.331607</td>\n",
              "      <td>0.042468</td>\n",
              "      <td>0.041060</td>\n",
              "      <td>-0.050999</td>\n",
              "      <td>-0.096682</td>\n",
              "      <td>0.082154</td>\n",
              "      <td>0.410888</td>\n",
              "      <td>0.421194</td>\n",
              "      <td>-0.189131</td>\n",
              "      <td>-0.024248</td>\n",
              "      <td>0.097415</td>\n",
              "      <td>-0.088758</td>\n",
              "      <td>-0.123931</td>\n",
              "      <td>0.046506</td>\n",
              "      <td>0.323215</td>\n",
              "      <td>0.032716</td>\n",
              "      <td>-0.309403</td>\n",
              "    </tr>\n",
              "    <tr>\n",
              "      <th>PC2</th>\n",
              "      <td>-0.0</td>\n",
              "      <td>0.010320</td>\n",
              "      <td>0.006391</td>\n",
              "      <td>-0.071565</td>\n",
              "      <td>0.238265</td>\n",
              "      <td>0.443473</td>\n",
              "      <td>0.448471</td>\n",
              "      <td>0.317675</td>\n",
              "      <td>-0.001800</td>\n",
              "      <td>0.004771</td>\n",
              "      <td>0.035115</td>\n",
              "      <td>-0.126992</td>\n",
              "      <td>-0.018910</td>\n",
              "      <td>0.312387</td>\n",
              "      <td>0.458570</td>\n",
              "      <td>0.286199</td>\n",
              "      <td>-0.017880</td>\n",
              "      <td>-0.001327</td>\n",
              "      <td>-0.061613</td>\n",
              "      <td>-0.166147</td>\n",
              "    </tr>\n",
              "    <tr>\n",
              "      <th>PC3</th>\n",
              "      <td>-0.0</td>\n",
              "      <td>0.066589</td>\n",
              "      <td>0.067909</td>\n",
              "      <td>0.130262</td>\n",
              "      <td>-0.366025</td>\n",
              "      <td>-0.205265</td>\n",
              "      <td>0.184859</td>\n",
              "      <td>0.382683</td>\n",
              "      <td>-0.018218</td>\n",
              "      <td>0.045253</td>\n",
              "      <td>0.161883</td>\n",
              "      <td>0.304235</td>\n",
              "      <td>-0.243148</td>\n",
              "      <td>-0.363314</td>\n",
              "      <td>0.107454</td>\n",
              "      <td>0.375027</td>\n",
              "      <td>0.026734</td>\n",
              "      <td>0.137046</td>\n",
              "      <td>0.359911</td>\n",
              "      <td>0.061421</td>\n",
              "    </tr>\n",
              "    <tr>\n",
              "      <th>PC4</th>\n",
              "      <td>0.0</td>\n",
              "      <td>0.412970</td>\n",
              "      <td>0.233221</td>\n",
              "      <td>-0.032241</td>\n",
              "      <td>-0.107837</td>\n",
              "      <td>-0.142626</td>\n",
              "      <td>0.020807</td>\n",
              "      <td>0.209360</td>\n",
              "      <td>0.110341</td>\n",
              "      <td>0.241610</td>\n",
              "      <td>-0.248131</td>\n",
              "      <td>-0.087500</td>\n",
              "      <td>0.313761</td>\n",
              "      <td>-0.175970</td>\n",
              "      <td>-0.004967</td>\n",
              "      <td>0.230452</td>\n",
              "      <td>0.037762</td>\n",
              "      <td>-0.174191</td>\n",
              "      <td>-0.548420</td>\n",
              "      <td>0.207206</td>\n",
              "    </tr>\n",
              "    <tr>\n",
              "      <th>PC5</th>\n",
              "      <td>0.0</td>\n",
              "      <td>-0.055526</td>\n",
              "      <td>-0.197380</td>\n",
              "      <td>-0.175253</td>\n",
              "      <td>0.159311</td>\n",
              "      <td>0.059675</td>\n",
              "      <td>-0.000958</td>\n",
              "      <td>-0.001368</td>\n",
              "      <td>0.555382</td>\n",
              "      <td>0.172899</td>\n",
              "      <td>-0.045469</td>\n",
              "      <td>0.179675</td>\n",
              "      <td>0.210689</td>\n",
              "      <td>0.023935</td>\n",
              "      <td>-0.026801</td>\n",
              "      <td>0.022470</td>\n",
              "      <td>0.566695</td>\n",
              "      <td>0.332357</td>\n",
              "      <td>0.137277</td>\n",
              "      <td>0.170208</td>\n",
              "    </tr>\n",
              "    <tr>\n",
              "      <th>PC6</th>\n",
              "      <td>0.0</td>\n",
              "      <td>-0.133433</td>\n",
              "      <td>-0.085234</td>\n",
              "      <td>-0.107889</td>\n",
              "      <td>-0.219952</td>\n",
              "      <td>-0.091207</td>\n",
              "      <td>-0.055960</td>\n",
              "      <td>0.023582</td>\n",
              "      <td>0.294973</td>\n",
              "      <td>-0.023147</td>\n",
              "      <td>-0.133756</td>\n",
              "      <td>-0.508478</td>\n",
              "      <td>-0.569859</td>\n",
              "      <td>-0.140233</td>\n",
              "      <td>0.027007</td>\n",
              "      <td>0.036341</td>\n",
              "      <td>0.254920</td>\n",
              "      <td>-0.065509</td>\n",
              "      <td>-0.201864</td>\n",
              "      <td>-0.287124</td>\n",
              "    </tr>\n",
              "    <tr>\n",
              "      <th>PC7</th>\n",
              "      <td>-0.0</td>\n",
              "      <td>-0.415838</td>\n",
              "      <td>-0.013983</td>\n",
              "      <td>0.433549</td>\n",
              "      <td>0.114413</td>\n",
              "      <td>-0.274818</td>\n",
              "      <td>-0.212702</td>\n",
              "      <td>0.288867</td>\n",
              "      <td>0.101852</td>\n",
              "      <td>-0.189098</td>\n",
              "      <td>0.174636</td>\n",
              "      <td>0.039024</td>\n",
              "      <td>0.267608</td>\n",
              "      <td>0.200096</td>\n",
              "      <td>-0.108674</td>\n",
              "      <td>0.270421</td>\n",
              "      <td>0.148701</td>\n",
              "      <td>-0.195194</td>\n",
              "      <td>-0.159238</td>\n",
              "      <td>-0.247597</td>\n",
              "    </tr>\n",
              "    <tr>\n",
              "      <th>PC8</th>\n",
              "      <td>-0.0</td>\n",
              "      <td>0.125316</td>\n",
              "      <td>0.210199</td>\n",
              "      <td>0.369393</td>\n",
              "      <td>-0.088127</td>\n",
              "      <td>0.122129</td>\n",
              "      <td>0.243723</td>\n",
              "      <td>-0.211869</td>\n",
              "      <td>0.204865</td>\n",
              "      <td>-0.226356</td>\n",
              "      <td>0.062346</td>\n",
              "      <td>0.299023</td>\n",
              "      <td>-0.171792</td>\n",
              "      <td>0.008031</td>\n",
              "      <td>0.197829</td>\n",
              "      <td>-0.309762</td>\n",
              "      <td>0.318049</td>\n",
              "      <td>-0.448738</td>\n",
              "      <td>-0.077625</td>\n",
              "      <td>0.130263</td>\n",
              "    </tr>\n",
              "    <tr>\n",
              "      <th>PC9</th>\n",
              "      <td>-0.0</td>\n",
              "      <td>-0.132208</td>\n",
              "      <td>0.111771</td>\n",
              "      <td>-0.217525</td>\n",
              "      <td>-0.629141</td>\n",
              "      <td>-0.097752</td>\n",
              "      <td>0.093262</td>\n",
              "      <td>-0.077466</td>\n",
              "      <td>-0.289121</td>\n",
              "      <td>-0.071245</td>\n",
              "      <td>0.111236</td>\n",
              "      <td>-0.168670</td>\n",
              "      <td>0.354436</td>\n",
              "      <td>0.274283</td>\n",
              "      <td>0.201717</td>\n",
              "      <td>-0.110674</td>\n",
              "      <td>0.332633</td>\n",
              "      <td>0.087666</td>\n",
              "      <td>0.024673</td>\n",
              "      <td>-0.020406</td>\n",
              "    </tr>\n",
              "    <tr>\n",
              "      <th>PC10</th>\n",
              "      <td>0.0</td>\n",
              "      <td>0.119950</td>\n",
              "      <td>-0.038267</td>\n",
              "      <td>0.061988</td>\n",
              "      <td>0.333816</td>\n",
              "      <td>0.054018</td>\n",
              "      <td>-0.036052</td>\n",
              "      <td>0.038488</td>\n",
              "      <td>-0.644888</td>\n",
              "      <td>-0.030661</td>\n",
              "      <td>-0.067527</td>\n",
              "      <td>-0.008242</td>\n",
              "      <td>-0.119995</td>\n",
              "      <td>-0.212960</td>\n",
              "      <td>-0.108495</td>\n",
              "      <td>0.063974</td>\n",
              "      <td>0.596765</td>\n",
              "      <td>0.058742</td>\n",
              "      <td>-0.071560</td>\n",
              "      <td>-0.037563</td>\n",
              "    </tr>\n",
              "    <tr>\n",
              "      <th>PC11</th>\n",
              "      <td>0.0</td>\n",
              "      <td>0.156664</td>\n",
              "      <td>0.274776</td>\n",
              "      <td>-0.100099</td>\n",
              "      <td>0.081001</td>\n",
              "      <td>0.082415</td>\n",
              "      <td>-0.226705</td>\n",
              "      <td>0.140548</td>\n",
              "      <td>0.056849</td>\n",
              "      <td>-0.154915</td>\n",
              "      <td>0.117218</td>\n",
              "      <td>-0.381212</td>\n",
              "      <td>-0.080852</td>\n",
              "      <td>0.248374</td>\n",
              "      <td>-0.205200</td>\n",
              "      <td>0.194387</td>\n",
              "      <td>0.103728</td>\n",
              "      <td>-0.286026</td>\n",
              "      <td>0.423531</td>\n",
              "      <td>0.446173</td>\n",
              "    </tr>\n",
              "    <tr>\n",
              "      <th>PC12</th>\n",
              "      <td>-0.0</td>\n",
              "      <td>0.540703</td>\n",
              "      <td>-0.225941</td>\n",
              "      <td>-0.165442</td>\n",
              "      <td>-0.083875</td>\n",
              "      <td>-0.123160</td>\n",
              "      <td>-0.352085</td>\n",
              "      <td>-0.068149</td>\n",
              "      <td>0.011706</td>\n",
              "      <td>-0.060777</td>\n",
              "      <td>-0.047237</td>\n",
              "      <td>0.321163</td>\n",
              "      <td>-0.123006</td>\n",
              "      <td>0.393999</td>\n",
              "      <td>0.104078</td>\n",
              "      <td>0.180499</td>\n",
              "      <td>0.055721</td>\n",
              "      <td>-0.124966</td>\n",
              "      <td>0.059422</td>\n",
              "      <td>-0.364925</td>\n",
              "    </tr>\n",
              "    <tr>\n",
              "      <th>PC13</th>\n",
              "      <td>0.0</td>\n",
              "      <td>0.211124</td>\n",
              "      <td>0.001142</td>\n",
              "      <td>-0.208397</td>\n",
              "      <td>0.115527</td>\n",
              "      <td>-0.044495</td>\n",
              "      <td>0.252667</td>\n",
              "      <td>0.011265</td>\n",
              "      <td>0.131732</td>\n",
              "      <td>-0.246267</td>\n",
              "      <td>0.076421</td>\n",
              "      <td>-0.166679</td>\n",
              "      <td>0.390188</td>\n",
              "      <td>-0.399457</td>\n",
              "      <td>-0.141298</td>\n",
              "      <td>-0.091514</td>\n",
              "      <td>0.022076</td>\n",
              "      <td>-0.259889</td>\n",
              "      <td>0.305822</td>\n",
              "      <td>-0.468369</td>\n",
              "    </tr>\n",
              "    <tr>\n",
              "      <th>PC14</th>\n",
              "      <td>-0.0</td>\n",
              "      <td>-0.058049</td>\n",
              "      <td>0.039488</td>\n",
              "      <td>0.071528</td>\n",
              "      <td>0.206426</td>\n",
              "      <td>-0.261447</td>\n",
              "      <td>-0.121790</td>\n",
              "      <td>-0.554039</td>\n",
              "      <td>0.003893</td>\n",
              "      <td>0.045066</td>\n",
              "      <td>0.046218</td>\n",
              "      <td>-0.168619</td>\n",
              "      <td>0.096901</td>\n",
              "      <td>-0.196145</td>\n",
              "      <td>0.562350</td>\n",
              "      <td>0.370974</td>\n",
              "      <td>-0.012187</td>\n",
              "      <td>-0.034967</td>\n",
              "      <td>0.118712</td>\n",
              "      <td>0.085999</td>\n",
              "    </tr>\n",
              "    <tr>\n",
              "      <th>PC15</th>\n",
              "      <td>0.0</td>\n",
              "      <td>-0.242538</td>\n",
              "      <td>0.331203</td>\n",
              "      <td>-0.388972</td>\n",
              "      <td>-0.082874</td>\n",
              "      <td>0.396525</td>\n",
              "      <td>-0.159522</td>\n",
              "      <td>-0.233322</td>\n",
              "      <td>0.022960</td>\n",
              "      <td>-0.017094</td>\n",
              "      <td>0.290121</td>\n",
              "      <td>0.299565</td>\n",
              "      <td>-0.051703</td>\n",
              "      <td>-0.166455</td>\n",
              "      <td>-0.195722</td>\n",
              "      <td>0.340119</td>\n",
              "      <td>0.021936</td>\n",
              "      <td>-0.111139</td>\n",
              "      <td>-0.223035</td>\n",
              "      <td>-0.120498</td>\n",
              "    </tr>\n",
              "    <tr>\n",
              "      <th>PC16</th>\n",
              "      <td>0.0</td>\n",
              "      <td>-0.146752</td>\n",
              "      <td>-0.107702</td>\n",
              "      <td>-0.317659</td>\n",
              "      <td>0.164337</td>\n",
              "      <td>-0.237589</td>\n",
              "      <td>-0.056729</td>\n",
              "      <td>0.230767</td>\n",
              "      <td>-0.078796</td>\n",
              "      <td>0.515719</td>\n",
              "      <td>0.363648</td>\n",
              "      <td>0.076627</td>\n",
              "      <td>-0.077601</td>\n",
              "      <td>-0.021451</td>\n",
              "      <td>0.194842</td>\n",
              "      <td>-0.293054</td>\n",
              "      <td>0.039479</td>\n",
              "      <td>-0.426305</td>\n",
              "      <td>0.005368</td>\n",
              "      <td>0.045760</td>\n",
              "    </tr>\n",
              "    <tr>\n",
              "      <th>PC17</th>\n",
              "      <td>0.0</td>\n",
              "      <td>0.055929</td>\n",
              "      <td>0.345952</td>\n",
              "      <td>-0.235481</td>\n",
              "      <td>0.205541</td>\n",
              "      <td>-0.170951</td>\n",
              "      <td>-0.272737</td>\n",
              "      <td>0.287295</td>\n",
              "      <td>0.073417</td>\n",
              "      <td>-0.473633</td>\n",
              "      <td>0.116240</td>\n",
              "      <td>0.067455</td>\n",
              "      <td>-0.052951</td>\n",
              "      <td>-0.106810</td>\n",
              "      <td>0.338222</td>\n",
              "      <td>-0.286833</td>\n",
              "      <td>-0.035890</td>\n",
              "      <td>0.324996</td>\n",
              "      <td>-0.162987</td>\n",
              "      <td>0.034735</td>\n",
              "    </tr>\n",
              "    <tr>\n",
              "      <th>PC18</th>\n",
              "      <td>0.0</td>\n",
              "      <td>-0.213679</td>\n",
              "      <td>0.535098</td>\n",
              "      <td>-0.150859</td>\n",
              "      <td>0.160340</td>\n",
              "      <td>-0.309034</td>\n",
              "      <td>0.198250</td>\n",
              "      <td>-0.046333</td>\n",
              "      <td>-0.021198</td>\n",
              "      <td>0.163341</td>\n",
              "      <td>-0.524749</td>\n",
              "      <td>0.180954</td>\n",
              "      <td>-0.104556</td>\n",
              "      <td>0.220152</td>\n",
              "      <td>-0.084758</td>\n",
              "      <td>0.006543</td>\n",
              "      <td>0.031178</td>\n",
              "      <td>-0.031020</td>\n",
              "      <td>0.201764</td>\n",
              "      <td>-0.195162</td>\n",
              "    </tr>\n",
              "    <tr>\n",
              "      <th>PC19</th>\n",
              "      <td>0.0</td>\n",
              "      <td>-0.110300</td>\n",
              "      <td>0.096174</td>\n",
              "      <td>0.180627</td>\n",
              "      <td>-0.150235</td>\n",
              "      <td>0.440084</td>\n",
              "      <td>-0.497501</td>\n",
              "      <td>0.198045</td>\n",
              "      <td>-0.012410</td>\n",
              "      <td>0.199112</td>\n",
              "      <td>-0.364803</td>\n",
              "      <td>0.003318</td>\n",
              "      <td>0.159603</td>\n",
              "      <td>-0.214552</td>\n",
              "      <td>0.280034</td>\n",
              "      <td>-0.146595</td>\n",
              "      <td>0.020267</td>\n",
              "      <td>-0.119101</td>\n",
              "      <td>0.246071</td>\n",
              "      <td>-0.153402</td>\n",
              "    </tr>\n",
              "    <tr>\n",
              "      <th>PC20</th>\n",
              "      <td>1.0</td>\n",
              "      <td>0.000000</td>\n",
              "      <td>0.000000</td>\n",
              "      <td>0.000000</td>\n",
              "      <td>0.000000</td>\n",
              "      <td>0.000000</td>\n",
              "      <td>0.000000</td>\n",
              "      <td>0.000000</td>\n",
              "      <td>0.000000</td>\n",
              "      <td>0.000000</td>\n",
              "      <td>0.000000</td>\n",
              "      <td>0.000000</td>\n",
              "      <td>0.000000</td>\n",
              "      <td>0.000000</td>\n",
              "      <td>0.000000</td>\n",
              "      <td>0.000000</td>\n",
              "      <td>0.000000</td>\n",
              "      <td>0.000000</td>\n",
              "      <td>0.000000</td>\n",
              "      <td>0.000000</td>\n",
              "    </tr>\n",
              "  </tbody>\n",
              "</table>\n",
              "</div>\n",
              "      <button class=\"colab-df-convert\" onclick=\"convertToInteractive('df-e768ab9b-088d-42c8-b2dd-63b7f67efb44')\"\n",
              "              title=\"Convert this dataframe to an interactive table.\"\n",
              "              style=\"display:none;\">\n",
              "        \n",
              "  <svg xmlns=\"http://www.w3.org/2000/svg\" height=\"24px\"viewBox=\"0 0 24 24\"\n",
              "       width=\"24px\">\n",
              "    <path d=\"M0 0h24v24H0V0z\" fill=\"none\"/>\n",
              "    <path d=\"M18.56 5.44l.94 2.06.94-2.06 2.06-.94-2.06-.94-.94-2.06-.94 2.06-2.06.94zm-11 1L8.5 8.5l.94-2.06 2.06-.94-2.06-.94L8.5 2.5l-.94 2.06-2.06.94zm10 10l.94 2.06.94-2.06 2.06-.94-2.06-.94-.94-2.06-.94 2.06-2.06.94z\"/><path d=\"M17.41 7.96l-1.37-1.37c-.4-.4-.92-.59-1.43-.59-.52 0-1.04.2-1.43.59L10.3 9.45l-7.72 7.72c-.78.78-.78 2.05 0 2.83L4 21.41c.39.39.9.59 1.41.59.51 0 1.02-.2 1.41-.59l7.78-7.78 2.81-2.81c.8-.78.8-2.07 0-2.86zM5.41 20L4 18.59l7.72-7.72 1.47 1.35L5.41 20z\"/>\n",
              "  </svg>\n",
              "      </button>\n",
              "      \n",
              "  <style>\n",
              "    .colab-df-container {\n",
              "      display:flex;\n",
              "      flex-wrap:wrap;\n",
              "      gap: 12px;\n",
              "    }\n",
              "\n",
              "    .colab-df-convert {\n",
              "      background-color: #E8F0FE;\n",
              "      border: none;\n",
              "      border-radius: 50%;\n",
              "      cursor: pointer;\n",
              "      display: none;\n",
              "      fill: #1967D2;\n",
              "      height: 32px;\n",
              "      padding: 0 0 0 0;\n",
              "      width: 32px;\n",
              "    }\n",
              "\n",
              "    .colab-df-convert:hover {\n",
              "      background-color: #E2EBFA;\n",
              "      box-shadow: 0px 1px 2px rgba(60, 64, 67, 0.3), 0px 1px 3px 1px rgba(60, 64, 67, 0.15);\n",
              "      fill: #174EA6;\n",
              "    }\n",
              "\n",
              "    [theme=dark] .colab-df-convert {\n",
              "      background-color: #3B4455;\n",
              "      fill: #D2E3FC;\n",
              "    }\n",
              "\n",
              "    [theme=dark] .colab-df-convert:hover {\n",
              "      background-color: #434B5C;\n",
              "      box-shadow: 0px 1px 3px 1px rgba(0, 0, 0, 0.15);\n",
              "      filter: drop-shadow(0px 1px 2px rgba(0, 0, 0, 0.3));\n",
              "      fill: #FFFFFF;\n",
              "    }\n",
              "  </style>\n",
              "\n",
              "      <script>\n",
              "        const buttonEl =\n",
              "          document.querySelector('#df-e768ab9b-088d-42c8-b2dd-63b7f67efb44 button.colab-df-convert');\n",
              "        buttonEl.style.display =\n",
              "          google.colab.kernel.accessAllowed ? 'block' : 'none';\n",
              "\n",
              "        async function convertToInteractive(key) {\n",
              "          const element = document.querySelector('#df-e768ab9b-088d-42c8-b2dd-63b7f67efb44');\n",
              "          const dataTable =\n",
              "            await google.colab.kernel.invokeFunction('convertToInteractive',\n",
              "                                                     [key], {});\n",
              "          if (!dataTable) return;\n",
              "\n",
              "          const docLinkHtml = 'Like what you see? Visit the ' +\n",
              "            '<a target=\"_blank\" href=https://colab.research.google.com/notebooks/data_table.ipynb>data table notebook</a>'\n",
              "            + ' to learn more about interactive tables.';\n",
              "          element.innerHTML = '';\n",
              "          dataTable['output_type'] = 'display_data';\n",
              "          await google.colab.output.renderOutput(dataTable, element);\n",
              "          const docLink = document.createElement('div');\n",
              "          docLink.innerHTML = docLinkHtml;\n",
              "          element.appendChild(docLink);\n",
              "        }\n",
              "      </script>\n",
              "    </div>\n",
              "  </div>\n",
              "  "
            ]
          },
          "metadata": {},
          "execution_count": 43
        }
      ]
    },
    {
      "cell_type": "code",
      "source": [
        "# graficar varianza por componente\n",
        "percent_variance = np.round(modelo_pca.explained_variance_ratio_* 100, decimals =2)\n",
        "columns = ['PC1', 'PC2', 'PC3', 'PC4',\n",
        "              'PC5','PC6','PC7','PC8','PC9','PC10',\n",
        "               'PC11','PC12','PC13','PC14','PC15',\n",
        "               'PC16','PC17','PC18','PC19','PC20'\n",
        "              ]\n",
        "plt.figure(figsize=(12,10))\n",
        "plt.bar(x= range(1,21), height=percent_variance, tick_label=columns)\n",
        "plt.xticks(np.arange(modelo_pca.n_components_) + 1)\n",
        "\n",
        "plt.ylabel('Componente principal')\n",
        "plt.xlabel('Por. varianza explicada')\n",
        "plt.title('Porcentaje de varianza explicada por cada componente')\n",
        "plt.show()\n"
      ],
      "metadata": {
        "colab": {
          "base_uri": "https://localhost:8080/",
          "height": 621
        },
        "id": "mfjYS2VO9kPe",
        "outputId": "59a805ec-24e9-4d6d-a04f-88fff324534d"
      },
      "execution_count": 44,
      "outputs": [
        {
          "output_type": "display_data",
          "data": {
            "text/plain": [
              "<Figure size 864x720 with 1 Axes>"
            ],
            "image/png": "[encoded data removed]"
          },
          "metadata": {
            "needs_background": "light"
          }
        }
      ]
    },
    {
      "cell_type": "code",
      "source": [
        "# graficar varianza por la suma acumulada de los componente\n",
        "percent_variance_cum = np.cumsum(percent_variance)\n",
        "columns = ['PC1', 'PC2', 'PC3', 'PC4',\n",
        "              'PC5','PC6','PC7','PC8','PC9','PC10',\n",
        "               'PC11','PC12','PC13','PC14','PC15',\n",
        "               'PC16','PC17','PC18','PC19','PC20'\n",
        "              ]\n",
        "plt.figure(figsize=(25,10))\n",
        "plt.bar(x= range(1,21), height=percent_variance_cum, tick_label=columns)\n",
        "plt.ylabel('Percentate of Variance Explained')\n",
        "plt.xlabel('Principal Component Cumsum')\n",
        "plt.title('PCA Scree Plot')\n",
        "plt.show()\n"
      ],
      "metadata": {
        "id": "xAssh4Xm9zeF",
        "colab": {
          "base_uri": "https://localhost:8080/",
          "height": 508
        },
        "outputId": "5062cd79-52eb-4d54-a413-fe6c85842930"
      },
      "execution_count": 45,
      "outputs": [
        {
          "output_type": "display_data",
          "data": {
            "text/plain": [
              "<Figure size 1800x720 with 1 Axes>"
            ],
            "image/png": "[encoded data removed]"
          },
          "metadata": {
            "needs_background": "light"
          }
        }
      ]
    },
    {
      "cell_type": "code",
      "source": [
        "\n",
        "# Proyección de las observaciones de entrenamiento\n",
        "# ==============================================================================\n",
        "proyecciones = pca_pipe.transform(X=df_scaled)\n",
        "proyecciones = pd.DataFrame(\n",
        "    proyecciones,\n",
        "    columns = ['PC1', 'PC2', 'PC3', 'PC4',\n",
        "              'PC5','PC6','PC7','PC8','PC9','PC10',\n",
        "               'PC11','PC12','PC13','PC14','PC15',\n",
        "               'PC16','PC17','PC18','PC19','PC20'\n",
        "              ],\n",
        "    index   = df_scaled.index\n",
        ")\n",
        "proyecciones.head()"
      ],
      "metadata": {
        "colab": {
          "base_uri": "https://localhost:8080/",
          "height": 270
        },
        "id": "qzPNzVJTTQcc",
        "outputId": "1ebe6770-1c42-4b04-ae7e-b1d977edc6ec"
      },
      "execution_count": 46,
      "outputs": [
        {
          "output_type": "execute_result",
          "data": {
            "text/plain": [
              "        PC1       PC2       PC3       PC4       PC5       PC6       PC7  \\\n",
              "0  0.127369 -0.054001  0.519237 -1.285435 -0.226352 -0.250145  0.812908   \n",
              "1 -2.174779 -0.679098 -1.594944  1.301073  0.232688 -0.348854  0.413913   \n",
              "2 -2.512463  0.239820 -1.746770  0.123425  0.949269 -1.149500 -0.488322   \n",
              "3  1.118036 -0.953483 -0.858954  1.945934 -0.110850  0.142788  0.600786   \n",
              "4 -2.908476 -1.222657 -1.086869  1.506892 -0.116273  1.957160 -1.162921   \n",
              "\n",
              "        PC8       PC9      PC10      PC11      PC12      PC13      PC14  \\\n",
              "0  0.306346  0.954096 -0.649430 -0.241592  1.224512 -0.154324  0.354302   \n",
              "1 -0.115308 -0.145377  0.125505  0.014019 -0.402314 -0.439535 -0.133769   \n",
              "2 -0.361290 -0.119345 -0.017276  0.368257  0.624952 -0.196815 -0.789326   \n",
              "3 -0.663645 -0.018237  0.118448  0.011365 -1.699023 -0.620274  0.646079   \n",
              "4 -1.181510 -0.035154  0.325440  0.009335 -0.424352  0.248402  0.043267   \n",
              "\n",
              "       PC15      PC16      PC17      PC18      PC19  PC20  \n",
              "0 -0.358432  0.075275  0.463428  0.392268  0.045003   0.0  \n",
              "1 -0.743021 -0.599259 -0.403877 -0.195220  0.203144   0.0  \n",
              "2  0.696941  0.067193 -0.158949  0.167312  0.197401   0.0  \n",
              "3 -0.327477  1.030449 -0.605427 -0.553815 -0.175402   0.0  \n",
              "4  0.105650  0.423392  0.485839  0.055242 -0.567846   0.0  "
            ],
            "text/html": [
              "\n",
              "  <div id=\"df-92453c22-df4c-47b5-8091-56b8554a539a\">\n",
              "    <div class=\"colab-df-container\">\n",
              "      <div>\n",
              "<style scoped>\n",
              "    .dataframe tbody tr th:only-of-type {\n",
              "        vertical-align: middle;\n",
              "    }\n",
              "\n",
              "    .dataframe tbody tr th {\n",
              "        vertical-align: top;\n",
              "    }\n",
              "\n",
              "    .dataframe thead th {\n",
              "        text-align: right;\n",
              "    }\n",
              "</style>\n",
              "<table border=\"1\" class=\"dataframe\">\n",
              "  <thead>\n",
              "    <tr style=\"text-align: right;\">\n",
              "      <th></th>\n",
              "      <th>PC1</th>\n",
              "      <th>PC2</th>\n",
              "      <th>PC3</th>\n",
              "      <th>PC4</th>\n",
              "      <th>PC5</th>\n",
              "      <th>PC6</th>\n",
              "      <th>PC7</th>\n",
              "      <th>PC8</th>\n",
              "      <th>PC9</th>\n",
              "      <th>PC10</th>\n",
              "      <th>PC11</th>\n",
              "      <th>PC12</th>\n",
              "      <th>PC13</th>\n",
              "      <th>PC14</th>\n",
              "      <th>PC15</th>\n",
              "      <th>PC16</th>\n",
              "      <th>PC17</th>\n",
              "      <th>PC18</th>\n",
              "      <th>PC19</th>\n",
              "      <th>PC20</th>\n",
              "    </tr>\n",
              "  </thead>\n",
              "  <tbody>\n",
              "    <tr>\n",
              "      <th>0</th>\n",
              "      <td>0.127369</td>\n",
              "      <td>-0.054001</td>\n",
              "      <td>0.519237</td>\n",
              "      <td>-1.285435</td>\n",
              "      <td>-0.226352</td>\n",
              "      <td>-0.250145</td>\n",
              "      <td>0.812908</td>\n",
              "      <td>0.306346</td>\n",
              "      <td>0.954096</td>\n",
              "      <td>-0.649430</td>\n",
              "      <td>-0.241592</td>\n",
              "      <td>1.224512</td>\n",
              "      <td>-0.154324</td>\n",
              "      <td>0.354302</td>\n",
              "      <td>-0.358432</td>\n",
              "      <td>0.075275</td>\n",
              "      <td>0.463428</td>\n",
              "      <td>0.392268</td>\n",
              "      <td>0.045003</td>\n",
              "      <td>0.0</td>\n",
              "    </tr>\n",
              "    <tr>\n",
              "      <th>1</th>\n",
              "      <td>-2.174779</td>\n",
              "      <td>-0.679098</td>\n",
              "      <td>-1.594944</td>\n",
              "      <td>1.301073</td>\n",
              "      <td>0.232688</td>\n",
              "      <td>-0.348854</td>\n",
              "      <td>0.413913</td>\n",
              "      <td>-0.115308</td>\n",
              "      <td>-0.145377</td>\n",
              "      <td>0.125505</td>\n",
              "      <td>0.014019</td>\n",
              "      <td>-0.402314</td>\n",
              "      <td>-0.439535</td>\n",
              "      <td>-0.133769</td>\n",
              "      <td>-0.743021</td>\n",
              "      <td>-0.599259</td>\n",
              "      <td>-0.403877</td>\n",
              "      <td>-0.195220</td>\n",
              "      <td>0.203144</td>\n",
              "      <td>0.0</td>\n",
              "    </tr>\n",
              "    <tr>\n",
              "      <th>2</th>\n",
              "      <td>-2.512463</td>\n",
              "      <td>0.239820</td>\n",
              "      <td>-1.746770</td>\n",
              "      <td>0.123425</td>\n",
              "      <td>0.949269</td>\n",
              "      <td>-1.149500</td>\n",
              "      <td>-0.488322</td>\n",
              "      <td>-0.361290</td>\n",
              "      <td>-0.119345</td>\n",
              "      <td>-0.017276</td>\n",
              "      <td>0.368257</td>\n",
              "      <td>0.624952</td>\n",
              "      <td>-0.196815</td>\n",
              "      <td>-0.789326</td>\n",
              "      <td>0.696941</td>\n",
              "      <td>0.067193</td>\n",
              "      <td>-0.158949</td>\n",
              "      <td>0.167312</td>\n",
              "      <td>0.197401</td>\n",
              "      <td>0.0</td>\n",
              "    </tr>\n",
              "    <tr>\n",
              "      <th>3</th>\n",
              "      <td>1.118036</td>\n",
              "      <td>-0.953483</td>\n",
              "      <td>-0.858954</td>\n",
              "      <td>1.945934</td>\n",
              "      <td>-0.110850</td>\n",
              "      <td>0.142788</td>\n",
              "      <td>0.600786</td>\n",
              "      <td>-0.663645</td>\n",
              "      <td>-0.018237</td>\n",
              "      <td>0.118448</td>\n",
              "      <td>0.011365</td>\n",
              "      <td>-1.699023</td>\n",
              "      <td>-0.620274</td>\n",
              "      <td>0.646079</td>\n",
              "      <td>-0.327477</td>\n",
              "      <td>1.030449</td>\n",
              "      <td>-0.605427</td>\n",
              "      <td>-0.553815</td>\n",
              "      <td>-0.175402</td>\n",
              "      <td>0.0</td>\n",
              "    </tr>\n",
              "    <tr>\n",
              "      <th>4</th>\n",
              "      <td>-2.908476</td>\n",
              "      <td>-1.222657</td>\n",
              "      <td>-1.086869</td>\n",
              "      <td>1.506892</td>\n",
              "      <td>-0.116273</td>\n",
              "      <td>1.957160</td>\n",
              "      <td>-1.162921</td>\n",
              "      <td>-1.181510</td>\n",
              "      <td>-0.035154</td>\n",
              "      <td>0.325440</td>\n",
              "      <td>0.009335</td>\n",
              "      <td>-0.424352</td>\n",
              "      <td>0.248402</td>\n",
              "      <td>0.043267</td>\n",
              "      <td>0.105650</td>\n",
              "      <td>0.423392</td>\n",
              "      <td>0.485839</td>\n",
              "      <td>0.055242</td>\n",
              "      <td>-0.567846</td>\n",
              "      <td>0.0</td>\n",
              "    </tr>\n",
              "  </tbody>\n",
              "</table>\n",
              "</div>\n",
              "      <button class=\"colab-df-convert\" onclick=\"convertToInteractive('df-92453c22-df4c-47b5-8091-56b8554a539a')\"\n",
              "              title=\"Convert this dataframe to an interactive table.\"\n",
              "              style=\"display:none;\">\n",
              "        \n",
              "  <svg xmlns=\"http://www.w3.org/2000/svg\" height=\"24px\"viewBox=\"0 0 24 24\"\n",
              "       width=\"24px\">\n",
              "    <path d=\"M0 0h24v24H0V0z\" fill=\"none\"/>\n",
              "    <path d=\"M18.56 5.44l.94 2.06.94-2.06 2.06-.94-2.06-.94-.94-2.06-.94 2.06-2.06.94zm-11 1L8.5 8.5l.94-2.06 2.06-.94-2.06-.94L8.5 2.5l-.94 2.06-2.06.94zm10 10l.94 2.06.94-2.06 2.06-.94-2.06-.94-.94-2.06-.94 2.06-2.06.94z\"/><path d=\"M17.41 7.96l-1.37-1.37c-.4-.4-.92-.59-1.43-.59-.52 0-1.04.2-1.43.59L10.3 9.45l-7.72 7.72c-.78.78-.78 2.05 0 2.83L4 21.41c.39.39.9.59 1.41.59.51 0 1.02-.2 1.41-.59l7.78-7.78 2.81-2.81c.8-.78.8-2.07 0-2.86zM5.41 20L4 18.59l7.72-7.72 1.47 1.35L5.41 20z\"/>\n",
              "  </svg>\n",
              "      </button>\n",
              "      \n",
              "  <style>\n",
              "    .colab-df-container {\n",
              "      display:flex;\n",
              "      flex-wrap:wrap;\n",
              "      gap: 12px;\n",
              "    }\n",
              "\n",
              "    .colab-df-convert {\n",
              "      background-color: #E8F0FE;\n",
              "      border: none;\n",
              "      border-radius: 50%;\n",
              "      cursor: pointer;\n",
              "      display: none;\n",
              "      fill: #1967D2;\n",
              "      height: 32px;\n",
              "      padding: 0 0 0 0;\n",
              "      width: 32px;\n",
              "    }\n",
              "\n",
              "    .colab-df-convert:hover {\n",
              "      background-color: #E2EBFA;\n",
              "      box-shadow: 0px 1px 2px rgba(60, 64, 67, 0.3), 0px 1px 3px 1px rgba(60, 64, 67, 0.15);\n",
              "      fill: #174EA6;\n",
              "    }\n",
              "\n",
              "    [theme=dark] .colab-df-convert {\n",
              "      background-color: #3B4455;\n",
              "      fill: #D2E3FC;\n",
              "    }\n",
              "\n",
              "    [theme=dark] .colab-df-convert:hover {\n",
              "      background-color: #434B5C;\n",
              "      box-shadow: 0px 1px 3px 1px rgba(0, 0, 0, 0.15);\n",
              "      filter: drop-shadow(0px 1px 2px rgba(0, 0, 0, 0.3));\n",
              "      fill: #FFFFFF;\n",
              "    }\n",
              "  </style>\n",
              "\n",
              "      <script>\n",
              "        const buttonEl =\n",
              "          document.querySelector('#df-92453c22-df4c-47b5-8091-56b8554a539a button.colab-df-convert');\n",
              "        buttonEl.style.display =\n",
              "          google.colab.kernel.accessAllowed ? 'block' : 'none';\n",
              "\n",
              "        async function convertToInteractive(key) {\n",
              "          const element = document.querySelector('#df-92453c22-df4c-47b5-8091-56b8554a539a');\n",
              "          const dataTable =\n",
              "            await google.colab.kernel.invokeFunction('convertToInteractive',\n",
              "                                                     [key], {});\n",
              "          if (!dataTable) return;\n",
              "\n",
              "          const docLinkHtml = 'Like what you see? Visit the ' +\n",
              "            '<a target=\"_blank\" href=https://colab.research.google.com/notebooks/data_table.ipynb>data table notebook</a>'\n",
              "            + ' to learn more about interactive tables.';\n",
              "          element.innerHTML = '';\n",
              "          dataTable['output_type'] = 'display_data';\n",
              "          await google.colab.output.renderOutput(dataTable, element);\n",
              "          const docLink = document.createElement('div');\n",
              "          docLink.innerHTML = docLinkHtml;\n",
              "          element.appendChild(docLink);\n",
              "        }\n",
              "      </script>\n",
              "    </div>\n",
              "  </div>\n",
              "  "
            ]
          },
          "metadata": {},
          "execution_count": 46
        }
      ]
    },
    {
      "cell_type": "markdown",
      "metadata": {
        "id": "CeQ28I6-_izU"
      },
      "source": [
        "### Ejercicio 6\n",
        "\n",
        "\n",
        "__Visualizando Resultados:__ A continuación se provee código para comparar las etiquetas predichas vs las etiquetas reales del conjunto de _test_. \n"
      ]
    },
    {
      "cell_type": "code",
      "execution_count": 47,
      "metadata": {
        "id": "2RXdr5ol_izU"
      },
      "outputs": [],
      "source": [
        "def mostar_resultados(digits,model,nx=5, ny=5,label = \"correctos\"):\n",
        "    \"\"\"\n",
        "    Muestra los resultados de las prediciones de un modelo \n",
        "    de clasificacion en particular. Se toman aleatoriamente los valores\n",
        "    de los resultados.\n",
        "    \n",
        "    - label == 'correcto': retorna los valores en que el modelo acierta.\n",
        "    - label == 'incorrecto': retorna los valores en que el modelo no acierta.\n",
        "\n",
        "    \n",
        "    Observacion: El modelo que recibe como argumento debe NO encontrarse\n",
        "    'entrenado'.\n",
        "    \n",
        "    \n",
        "    :param digits: dataset 'digits'\n",
        "    :param model: modelo de sklearn\n",
        "    :param nx: numero de filas (subplots)\n",
        "    :param ny: numero de columnas (subplots)\n",
        "    :param label: datos correctos o incorrectos\n",
        "    :return: graficos matplotlib\n",
        "    \"\"\"\n",
        "    \n",
        "    \n",
        "    X = digits.drop(columns=\"target\").values\n",
        "    y = digits[\"target\"].values\n",
        "    X_train, X_test, Y_train, Y_test = train_test_split(X, y, test_size=0.2, random_state = 42) \n",
        "    model.fit(X_train, Y_train) # ajustando el modelo\n",
        "    y_pred = list(model.predict(X_test))\n",
        "\n",
        "    \n",
        "    # Mostrar los datos correctos\n",
        "    if label==\"correctos\":\n",
        "        mask = (y_pred == Y_test)\n",
        "        color = \"green\"\n",
        "        \n",
        "    # Mostrar los datos correctos\n",
        "    elif label==\"incorrectos\":\n",
        "        mask = (y_pred != Y_test)\n",
        "        color = \"red\"\n",
        "    \n",
        "    else:\n",
        "        raise ValueError(\"Valor incorrecto\")\n",
        "        \n",
        "    X_aux = X_test[mask]\n",
        "    #y_aux_true = y_test[mask]\n",
        "    #y_aux_pred = y_pred[mask]\n",
        "    \n",
        "    y_aux_true = np.array(Y_test)[mask]\n",
        "  \n",
        "    y_aux_pred = np.array(y_pred)[mask]\n",
        "\n",
        "    \n",
        "    # We'll plot the first 100 examples, randomly choosen\n",
        "    fig, ax = plt.subplots(nx, ny, figsize=(12,12))\n",
        "    for i in range(nx):\n",
        "        for j in range(ny):\n",
        "            index = j + ny * i\n",
        "            data  = X_aux[index, :].reshape(8,8)\n",
        "            label_pred = str(int(y_aux_pred[index]))\n",
        "            label_true = str(int(y_aux_true[index]))\n",
        "            ax[i][j].imshow(data, interpolation='nearest', cmap='gray_r')\n",
        "            ax[i][j].text(0, 0, label_pred, horizontalalignment='center', verticalalignment='center', fontsize=10, color=color)\n",
        "            ax[i][j].text(7, 0, label_true, horizontalalignment='center', verticalalignment='center', fontsize=10, color='blue')\n",
        "            ax[i][j].get_xaxis().set_visible(False)\n",
        "            ax[i][j].get_yaxis().set_visible(False)\n",
        "\n",
        "    plt.show()\n"
      ]
    },
    {
      "cell_type": "markdown",
      "metadata": {
        "id": "roCuEBFI_izV"
      },
      "source": [
        "**Pregunta**\n",
        "\n",
        "* Tomando en cuenta el mejor modelo entontrado en el `Ejercicio 3`, grafique los resultados cuando:\n",
        " * el valor predicho y original son iguales\n",
        " * el valor predicho y original son distintos \n",
        "\n",
        "\n",
        "* Cuando el valor predicho y original son distintos ,  ¿Por qué ocurren estas fallas?"
      ]
    },
    {
      "cell_type": "code",
      "source": [
        "mostar_resultados(digits,KNeighborsClassifier(),nx=5, ny=5,label = \"correctos\")"
      ],
      "metadata": {
        "colab": {
          "base_uri": "https://localhost:8080/",
          "height": 687
        },
        "id": "bR5YhErhXlPT",
        "outputId": "334f8acd-e88c-4bfc-8dd0-352a3f1111b1"
      },
      "execution_count": 48,
      "outputs": [
        {
          "output_type": "display_data",
          "data": {
            "text/plain": [
              "<Figure size 864x864 with 25 Axes>"
            ],
            "image/png": "[encoded data removed]"
          },
          "metadata": {
            "needs_background": "light"
          }
        }
      ]
    },
    {
      "cell_type": "code",
      "source": [
        "mostar_resultados(digits,KNeighborsClassifier(algorithm = 'kd_tree', metric= 'euclidean', n_neighbors=3, weights='uniform'),nx=5, ny=5,label = \"correctos\")"
      ],
      "metadata": {
        "colab": {
          "base_uri": "https://localhost:8080/",
          "height": 687
        },
        "id": "TZ_8i4ZmVH_0",
        "outputId": "c5c71603-ff13-46f5-82a9-ffa75da9bfa3"
      },
      "execution_count": 49,
      "outputs": [
        {
          "output_type": "display_data",
          "data": {
            "text/plain": [
              "<Figure size 864x864 with 25 Axes>"
            ],
            "image/png": "[encoded data removed]"
          },
          "metadata": {
            "needs_background": "light"
          }
        }
      ]
    },
    {
      "cell_type": "code",
      "execution_count": 50,
      "metadata": {
        "id": "wT2phC8x_izV",
        "colab": {
          "base_uri": "https://localhost:8080/",
          "height": 687
        },
        "outputId": "17e4b76e-0257-4c25-d5a0-5037eec626f6"
      },
      "outputs": [
        {
          "output_type": "display_data",
          "data": {
            "text/plain": [
              "<Figure size 864x864 with 4 Axes>"
            ],
            "image/png": "[encoded data removed]"
          },
          "metadata": {
            "needs_background": "light"
          }
        }
      ],
      "source": [
        "mostar_resultados(digits,KNeighborsClassifier(),nx=2, ny=2,label = \"incorrectos\") #tuve que poner nx=2 y ny=2 para que no saltara error, pero hay otro dígito más que es incorrecto"
      ]
    },
    {
      "cell_type": "code",
      "source": [
        "mostar_resultados(digits,KNeighborsClassifier(algorithm = 'kd_tree', metric= 'euclidean', n_neighbors=3, weights='uniform'),nx=2, ny=3,label = \"incorrectos\")"
      ],
      "metadata": {
        "colab": {
          "base_uri": "https://localhost:8080/",
          "height": 587
        },
        "id": "nCU6IF2UXyxG",
        "outputId": "dc3977d4-52e8-4a75-acfb-cb6d990bc228"
      },
      "execution_count": 51,
      "outputs": [
        {
          "output_type": "display_data",
          "data": {
            "text/plain": [
              "<Figure size 864x864 with 6 Axes>"
            ],
            "image/png": "[encoded data removed]"
          },
          "metadata": {
            "needs_background": "light"
          }
        }
      ]
    },
    {
      "cell_type": "markdown",
      "source": [
        "Se puede ver que, de hecho, el modelo con hiperparámetros ajustados falla en un dígito más que el de sin hiperparámetros (se puede hacer la prueba poniendo nx=2, ny=3, y ver que queda una cazilla blanca. Yo no lo quise hacer a efectos prácticos porque tira un error).\n",
        "Estas fallas pueden ocurrir porque el valor está demasiado nublado y porque el modelo fallará ciertas veces, podemos ver que tiene un accurate cercano a 1, pero no es 1. Esto se podría solucionar, tal vez, tomando más cantidad de muestreo al momento de realizar el entrenamiento del modelo."
      ],
      "metadata": {
        "id": "ICmSRIfgYq9y"
      }
    },
    {
      "cell_type": "markdown",
      "metadata": {
        "id": "KI98OfOO_izV"
      },
      "source": [
        "### Ejercicio 7\n",
        "**Conclusiones**: Entrega tu veredicto, responde las preguntas iniciales, visualizaciones, trabajos futuros, dificultades, etc."
      ]
    },
    {
      "cell_type": "markdown",
      "source": [
        "Se pudieron predecir la mayoría de los dígitos utilizando KNN, mostrando que es un modelo eficiente y además, bastante rápido.\n",
        "Las princiales dificultades vinieron del entendimiento del problema y el análisis del mismo. Tal vez para trabajos futuros se pueda mejorar el modelo para que las fallas disminuyan aún más, sin embargo, este se vio que era bastante bueno."
      ],
      "metadata": {
        "id": "dmE3PiH8WaFF"
      }
    },
    {
      "cell_type": "markdown",
      "metadata": {
        "id": "Yxyr7aOr_izV"
      },
      "source": [
        "## II.- California Housing Prices\n",
        "\n",
        "\n",
        "<img src=\"https://www.wartsila.com/images/default-source/default-album/california_housing.tmb-1920x690.jpg?sfvrsn=126bc44_1\" width=\"480\" height=\"240\" align=\"center\"/>\n",
        "\n",
        "Los datos se refieren a las casas encontradas en un distrito determinado de California y algunas estadísticas resumidas sobre ellas basadas en los datos del censo de 1990. Tenga en cuenta que los datos no se limpian, por lo que se requieren algunos pasos de procesamiento previo.\n",
        "\n",
        "Las columnas son las siguientes, sus nombres se explican por sí mismos:\n",
        "\n",
        "* longitude\n",
        "* latitude\n",
        "* housingmedianage\n",
        "* total_rooms\n",
        "* total_bedrooms\n",
        "* population\n",
        "* households\n",
        "* median_income\n",
        "* medianhousevalue\n",
        "* ocean_proximity\n",
        "\n",
        "\n",
        "El objetivo es poder predecir el valor promedio de cada propiedad. \n",
        "Para poder completar correctamente este laboratorio, es necesario seguir la siguiente rúbrica de trabajo:\n",
        "\n",
        "1. Definición del problema\n",
        "2. Estadística descriptiva\n",
        "3. Visualización descriptiva\n",
        "4. Preprocesamiento\n",
        "5. Selección de modelo \n",
        "    1. Por lo menos debe comparar cuatro modelos\n",
        "    2. Al menos tres de estos modelos tienen que tener hiperparámetros.\n",
        "    3. Realizar optimización de hiperparámetros.\n",
        "6. Métricas y análisis de resultados\n",
        "7. Visualizaciones del modelo\n",
        "8. Conclusiones\n",
        "\n",
        "> **Observación**: Puede tomar como referencia lo realizado en la sección **I.- Clasificación de dígitos**. El alumno tiene la libertad de desarrollar un análisis más completo del problema (si así lo desea). Puede tomar como referencia el siguiente [link](https://www.kaggle.com/camnugent/california-housing-prices)."
      ]
    },
    {
      "cell_type": "markdown",
      "source": [
        "**Definición del Problema**"
      ],
      "metadata": {
        "id": "hc5gL03_-U3_"
      }
    },
    {
      "cell_type": "markdown",
      "source": [
        "El objetivo es poder predecir el valor promedio de cada propiedad. \n"
      ],
      "metadata": {
        "id": "aWOm_cM2-pek"
      }
    },
    {
      "cell_type": "code",
      "source": [
        "import warnings\n",
        "warnings.simplefilter(\"ignore\")"
      ],
      "metadata": {
        "id": "Fayp6IHBQVoM"
      },
      "execution_count": 81,
      "outputs": []
    },
    {
      "cell_type": "code",
      "execution_count": 52,
      "metadata": {
        "id": "kCFmtoAI_izW",
        "colab": {
          "base_uri": "https://localhost:8080/",
          "height": 206
        },
        "outputId": "18a3fe50-158f-43d0-f4e4-62f0a17e75f3"
      },
      "outputs": [
        {
          "output_type": "execute_result",
          "data": {
            "text/plain": [
              "   longitude  latitude  housing_median_age  total_rooms  total_bedrooms  \\\n",
              "0    -122.23     37.88                41.0        880.0           129.0   \n",
              "1    -122.22     37.86                21.0       7099.0          1106.0   \n",
              "2    -122.24     37.85                52.0       1467.0           190.0   \n",
              "3    -122.25     37.85                52.0       1274.0           235.0   \n",
              "4    -122.25     37.85                52.0       1627.0           280.0   \n",
              "\n",
              "   population  households  median_income  median_house_value ocean_proximity  \n",
              "0       322.0       126.0         8.3252            452600.0        NEAR BAY  \n",
              "1      2401.0      1138.0         8.3014            358500.0        NEAR BAY  \n",
              "2       496.0       177.0         7.2574            352100.0        NEAR BAY  \n",
              "3       558.0       219.0         5.6431            341300.0        NEAR BAY  \n",
              "4       565.0       259.0         3.8462            342200.0        NEAR BAY  "
            ],
            "text/html": [
              "\n",
              "  <div id=\"df-56a1f3e1-f35c-4a4f-b23c-c8bbd2015b55\">\n",
              "    <div class=\"colab-df-container\">\n",
              "      <div>\n",
              "<style scoped>\n",
              "    .dataframe tbody tr th:only-of-type {\n",
              "        vertical-align: middle;\n",
              "    }\n",
              "\n",
              "    .dataframe tbody tr th {\n",
              "        vertical-align: top;\n",
              "    }\n",
              "\n",
              "    .dataframe thead th {\n",
              "        text-align: right;\n",
              "    }\n",
              "</style>\n",
              "<table border=\"1\" class=\"dataframe\">\n",
              "  <thead>\n",
              "    <tr style=\"text-align: right;\">\n",
              "      <th></th>\n",
              "      <th>longitude</th>\n",
              "      <th>latitude</th>\n",
              "      <th>housing_median_age</th>\n",
              "      <th>total_rooms</th>\n",
              "      <th>total_bedrooms</th>\n",
              "      <th>population</th>\n",
              "      <th>households</th>\n",
              "      <th>median_income</th>\n",
              "      <th>median_house_value</th>\n",
              "      <th>ocean_proximity</th>\n",
              "    </tr>\n",
              "  </thead>\n",
              "  <tbody>\n",
              "    <tr>\n",
              "      <th>0</th>\n",
              "      <td>-122.23</td>\n",
              "      <td>37.88</td>\n",
              "      <td>41.0</td>\n",
              "      <td>880.0</td>\n",
              "      <td>129.0</td>\n",
              "      <td>322.0</td>\n",
              "      <td>126.0</td>\n",
              "      <td>8.3252</td>\n",
              "      <td>452600.0</td>\n",
              "      <td>NEAR BAY</td>\n",
              "    </tr>\n",
              "    <tr>\n",
              "      <th>1</th>\n",
              "      <td>-122.22</td>\n",
              "      <td>37.86</td>\n",
              "      <td>21.0</td>\n",
              "      <td>7099.0</td>\n",
              "      <td>1106.0</td>\n",
              "      <td>2401.0</td>\n",
              "      <td>1138.0</td>\n",
              "      <td>8.3014</td>\n",
              "      <td>358500.0</td>\n",
              "      <td>NEAR BAY</td>\n",
              "    </tr>\n",
              "    <tr>\n",
              "      <th>2</th>\n",
              "      <td>-122.24</td>\n",
              "      <td>37.85</td>\n",
              "      <td>52.0</td>\n",
              "      <td>1467.0</td>\n",
              "      <td>190.0</td>\n",
              "      <td>496.0</td>\n",
              "      <td>177.0</td>\n",
              "      <td>7.2574</td>\n",
              "      <td>352100.0</td>\n",
              "      <td>NEAR BAY</td>\n",
              "    </tr>\n",
              "    <tr>\n",
              "      <th>3</th>\n",
              "      <td>-122.25</td>\n",
              "      <td>37.85</td>\n",
              "      <td>52.0</td>\n",
              "      <td>1274.0</td>\n",
              "      <td>235.0</td>\n",
              "      <td>558.0</td>\n",
              "      <td>219.0</td>\n",
              "      <td>5.6431</td>\n",
              "      <td>341300.0</td>\n",
              "      <td>NEAR BAY</td>\n",
              "    </tr>\n",
              "    <tr>\n",
              "      <th>4</th>\n",
              "      <td>-122.25</td>\n",
              "      <td>37.85</td>\n",
              "      <td>52.0</td>\n",
              "      <td>1627.0</td>\n",
              "      <td>280.0</td>\n",
              "      <td>565.0</td>\n",
              "      <td>259.0</td>\n",
              "      <td>3.8462</td>\n",
              "      <td>342200.0</td>\n",
              "      <td>NEAR BAY</td>\n",
              "    </tr>\n",
              "  </tbody>\n",
              "</table>\n",
              "</div>\n",
              "      <button class=\"colab-df-convert\" onclick=\"convertToInteractive('df-56a1f3e1-f35c-4a4f-b23c-c8bbd2015b55')\"\n",
              "              title=\"Convert this dataframe to an interactive table.\"\n",
              "              style=\"display:none;\">\n",
              "        \n",
              "  <svg xmlns=\"http://www.w3.org/2000/svg\" height=\"24px\"viewBox=\"0 0 24 24\"\n",
              "       width=\"24px\">\n",
              "    <path d=\"M0 0h24v24H0V0z\" fill=\"none\"/>\n",
              "    <path d=\"M18.56 5.44l.94 2.06.94-2.06 2.06-.94-2.06-.94-.94-2.06-.94 2.06-2.06.94zm-11 1L8.5 8.5l.94-2.06 2.06-.94-2.06-.94L8.5 2.5l-.94 2.06-2.06.94zm10 10l.94 2.06.94-2.06 2.06-.94-2.06-.94-.94-2.06-.94 2.06-2.06.94z\"/><path d=\"M17.41 7.96l-1.37-1.37c-.4-.4-.92-.59-1.43-.59-.52 0-1.04.2-1.43.59L10.3 9.45l-7.72 7.72c-.78.78-.78 2.05 0 2.83L4 21.41c.39.39.9.59 1.41.59.51 0 1.02-.2 1.41-.59l7.78-7.78 2.81-2.81c.8-.78.8-2.07 0-2.86zM5.41 20L4 18.59l7.72-7.72 1.47 1.35L5.41 20z\"/>\n",
              "  </svg>\n",
              "      </button>\n",
              "      \n",
              "  <style>\n",
              "    .colab-df-container {\n",
              "      display:flex;\n",
              "      flex-wrap:wrap;\n",
              "      gap: 12px;\n",
              "    }\n",
              "\n",
              "    .colab-df-convert {\n",
              "      background-color: #E8F0FE;\n",
              "      border: none;\n",
              "      border-radius: 50%;\n",
              "      cursor: pointer;\n",
              "      display: none;\n",
              "      fill: #1967D2;\n",
              "      height: 32px;\n",
              "      padding: 0 0 0 0;\n",
              "      width: 32px;\n",
              "    }\n",
              "\n",
              "    .colab-df-convert:hover {\n",
              "      background-color: #E2EBFA;\n",
              "      box-shadow: 0px 1px 2px rgba(60, 64, 67, 0.3), 0px 1px 3px 1px rgba(60, 64, 67, 0.15);\n",
              "      fill: #174EA6;\n",
              "    }\n",
              "\n",
              "    [theme=dark] .colab-df-convert {\n",
              "      background-color: #3B4455;\n",
              "      fill: #D2E3FC;\n",
              "    }\n",
              "\n",
              "    [theme=dark] .colab-df-convert:hover {\n",
              "      background-color: #434B5C;\n",
              "      box-shadow: 0px 1px 3px 1px rgba(0, 0, 0, 0.15);\n",
              "      filter: drop-shadow(0px 1px 2px rgba(0, 0, 0, 0.3));\n",
              "      fill: #FFFFFF;\n",
              "    }\n",
              "  </style>\n",
              "\n",
              "      <script>\n",
              "        const buttonEl =\n",
              "          document.querySelector('#df-56a1f3e1-f35c-4a4f-b23c-c8bbd2015b55 button.colab-df-convert');\n",
              "        buttonEl.style.display =\n",
              "          google.colab.kernel.accessAllowed ? 'block' : 'none';\n",
              "\n",
              "        async function convertToInteractive(key) {\n",
              "          const element = document.querySelector('#df-56a1f3e1-f35c-4a4f-b23c-c8bbd2015b55');\n",
              "          const dataTable =\n",
              "            await google.colab.kernel.invokeFunction('convertToInteractive',\n",
              "                                                     [key], {});\n",
              "          if (!dataTable) return;\n",
              "\n",
              "          const docLinkHtml = 'Like what you see? Visit the ' +\n",
              "            '<a target=\"_blank\" href=https://colab.research.google.com/notebooks/data_table.ipynb>data table notebook</a>'\n",
              "            + ' to learn more about interactive tables.';\n",
              "          element.innerHTML = '';\n",
              "          dataTable['output_type'] = 'display_data';\n",
              "          await google.colab.output.renderOutput(dataTable, element);\n",
              "          const docLink = document.createElement('div');\n",
              "          docLink.innerHTML = docLinkHtml;\n",
              "          element.appendChild(docLink);\n",
              "        }\n",
              "      </script>\n",
              "    </div>\n",
              "  </div>\n",
              "  "
            ]
          },
          "metadata": {},
          "execution_count": 52
        }
      ],
      "source": [
        "# read data\n",
        "housing = pd.read_csv('housing.csv',sep=',')\n",
        "housing.head()"
      ]
    },
    {
      "cell_type": "markdown",
      "source": [
        "**Análisis Exploratorio de Datos y Estadística Descriptiva**"
      ],
      "metadata": {
        "id": "z35gUj0q8fjP"
      }
    },
    {
      "cell_type": "markdown",
      "source": [
        "Comenzaremos haciendo, al igual que antes, el mismo anáisis exploratorio."
      ],
      "metadata": {
        "id": "V8_qJtNn8jmU"
      }
    },
    {
      "cell_type": "code",
      "execution_count": 53,
      "metadata": {
        "id": "cj2qCi8F_izW",
        "colab": {
          "base_uri": "https://localhost:8080/",
          "height": 300
        },
        "outputId": "8c69f0c8-f8b9-403b-ccb9-e9f47fb07a21"
      },
      "outputs": [
        {
          "output_type": "execute_result",
          "data": {
            "text/plain": [
              "          longitude      latitude  housing_median_age   total_rooms  \\\n",
              "count  20640.000000  20640.000000        20640.000000  20640.000000   \n",
              "mean    -119.569704     35.631861           28.639486   2635.763081   \n",
              "std        2.003532      2.135952           12.585558   2181.615252   \n",
              "min     -124.350000     32.540000            1.000000      2.000000   \n",
              "25%     -121.800000     33.930000           18.000000   1447.750000   \n",
              "50%     -118.490000     34.260000           29.000000   2127.000000   \n",
              "75%     -118.010000     37.710000           37.000000   3148.000000   \n",
              "max     -114.310000     41.950000           52.000000  39320.000000   \n",
              "\n",
              "       total_bedrooms    population    households  median_income  \\\n",
              "count    20433.000000  20640.000000  20640.000000   20640.000000   \n",
              "mean       537.870553   1425.476744    499.539680       3.870671   \n",
              "std        421.385070   1132.462122    382.329753       1.899822   \n",
              "min          1.000000      3.000000      1.000000       0.499900   \n",
              "25%        296.000000    787.000000    280.000000       2.563400   \n",
              "50%        435.000000   1166.000000    409.000000       3.534800   \n",
              "75%        647.000000   1725.000000    605.000000       4.743250   \n",
              "max       6445.000000  35682.000000   6082.000000      15.000100   \n",
              "\n",
              "       median_house_value  \n",
              "count        20640.000000  \n",
              "mean        206855.816909  \n",
              "std         115395.615874  \n",
              "min          14999.000000  \n",
              "25%         119600.000000  \n",
              "50%         179700.000000  \n",
              "75%         264725.000000  \n",
              "max         500001.000000  "
            ],
            "text/html": [
              "\n",
              "  <div id=\"df-8b9c6ed0-ba7d-494d-bcad-8380a7f04f77\">\n",
              "    <div class=\"colab-df-container\">\n",
              "      <div>\n",
              "<style scoped>\n",
              "    .dataframe tbody tr th:only-of-type {\n",
              "        vertical-align: middle;\n",
              "    }\n",
              "\n",
              "    .dataframe tbody tr th {\n",
              "        vertical-align: top;\n",
              "    }\n",
              "\n",
              "    .dataframe thead th {\n",
              "        text-align: right;\n",
              "    }\n",
              "</style>\n",
              "<table border=\"1\" class=\"dataframe\">\n",
              "  <thead>\n",
              "    <tr style=\"text-align: right;\">\n",
              "      <th></th>\n",
              "      <th>longitude</th>\n",
              "      <th>latitude</th>\n",
              "      <th>housing_median_age</th>\n",
              "      <th>total_rooms</th>\n",
              "      <th>total_bedrooms</th>\n",
              "      <th>population</th>\n",
              "      <th>households</th>\n",
              "      <th>median_income</th>\n",
              "      <th>median_house_value</th>\n",
              "    </tr>\n",
              "  </thead>\n",
              "  <tbody>\n",
              "    <tr>\n",
              "      <th>count</th>\n",
              "      <td>20640.000000</td>\n",
              "      <td>20640.000000</td>\n",
              "      <td>20640.000000</td>\n",
              "      <td>20640.000000</td>\n",
              "      <td>20433.000000</td>\n",
              "      <td>20640.000000</td>\n",
              "      <td>20640.000000</td>\n",
              "      <td>20640.000000</td>\n",
              "      <td>20640.000000</td>\n",
              "    </tr>\n",
              "    <tr>\n",
              "      <th>mean</th>\n",
              "      <td>-119.569704</td>\n",
              "      <td>35.631861</td>\n",
              "      <td>28.639486</td>\n",
              "      <td>2635.763081</td>\n",
              "      <td>537.870553</td>\n",
              "      <td>1425.476744</td>\n",
              "      <td>499.539680</td>\n",
              "      <td>3.870671</td>\n",
              "      <td>206855.816909</td>\n",
              "    </tr>\n",
              "    <tr>\n",
              "      <th>std</th>\n",
              "      <td>2.003532</td>\n",
              "      <td>2.135952</td>\n",
              "      <td>12.585558</td>\n",
              "      <td>2181.615252</td>\n",
              "      <td>421.385070</td>\n",
              "      <td>1132.462122</td>\n",
              "      <td>382.329753</td>\n",
              "      <td>1.899822</td>\n",
              "      <td>115395.615874</td>\n",
              "    </tr>\n",
              "    <tr>\n",
              "      <th>min</th>\n",
              "      <td>-124.350000</td>\n",
              "      <td>32.540000</td>\n",
              "      <td>1.000000</td>\n",
              "      <td>2.000000</td>\n",
              "      <td>1.000000</td>\n",
              "      <td>3.000000</td>\n",
              "      <td>1.000000</td>\n",
              "      <td>0.499900</td>\n",
              "      <td>14999.000000</td>\n",
              "    </tr>\n",
              "    <tr>\n",
              "      <th>25%</th>\n",
              "      <td>-121.800000</td>\n",
              "      <td>33.930000</td>\n",
              "      <td>18.000000</td>\n",
              "      <td>1447.750000</td>\n",
              "      <td>296.000000</td>\n",
              "      <td>787.000000</td>\n",
              "      <td>280.000000</td>\n",
              "      <td>2.563400</td>\n",
              "      <td>119600.000000</td>\n",
              "    </tr>\n",
              "    <tr>\n",
              "      <th>50%</th>\n",
              "      <td>-118.490000</td>\n",
              "      <td>34.260000</td>\n",
              "      <td>29.000000</td>\n",
              "      <td>2127.000000</td>\n",
              "      <td>435.000000</td>\n",
              "      <td>1166.000000</td>\n",
              "      <td>409.000000</td>\n",
              "      <td>3.534800</td>\n",
              "      <td>179700.000000</td>\n",
              "    </tr>\n",
              "    <tr>\n",
              "      <th>75%</th>\n",
              "      <td>-118.010000</td>\n",
              "      <td>37.710000</td>\n",
              "      <td>37.000000</td>\n",
              "      <td>3148.000000</td>\n",
              "      <td>647.000000</td>\n",
              "      <td>1725.000000</td>\n",
              "      <td>605.000000</td>\n",
              "      <td>4.743250</td>\n",
              "      <td>264725.000000</td>\n",
              "    </tr>\n",
              "    <tr>\n",
              "      <th>max</th>\n",
              "      <td>-114.310000</td>\n",
              "      <td>41.950000</td>\n",
              "      <td>52.000000</td>\n",
              "      <td>39320.000000</td>\n",
              "      <td>6445.000000</td>\n",
              "      <td>35682.000000</td>\n",
              "      <td>6082.000000</td>\n",
              "      <td>15.000100</td>\n",
              "      <td>500001.000000</td>\n",
              "    </tr>\n",
              "  </tbody>\n",
              "</table>\n",
              "</div>\n",
              "      <button class=\"colab-df-convert\" onclick=\"convertToInteractive('df-8b9c6ed0-ba7d-494d-bcad-8380a7f04f77')\"\n",
              "              title=\"Convert this dataframe to an interactive table.\"\n",
              "              style=\"display:none;\">\n",
              "        \n",
              "  <svg xmlns=\"http://www.w3.org/2000/svg\" height=\"24px\"viewBox=\"0 0 24 24\"\n",
              "       width=\"24px\">\n",
              "    <path d=\"M0 0h24v24H0V0z\" fill=\"none\"/>\n",
              "    <path d=\"M18.56 5.44l.94 2.06.94-2.06 2.06-.94-2.06-.94-.94-2.06-.94 2.06-2.06.94zm-11 1L8.5 8.5l.94-2.06 2.06-.94-2.06-.94L8.5 2.5l-.94 2.06-2.06.94zm10 10l.94 2.06.94-2.06 2.06-.94-2.06-.94-.94-2.06-.94 2.06-2.06.94z\"/><path d=\"M17.41 7.96l-1.37-1.37c-.4-.4-.92-.59-1.43-.59-.52 0-1.04.2-1.43.59L10.3 9.45l-7.72 7.72c-.78.78-.78 2.05 0 2.83L4 21.41c.39.39.9.59 1.41.59.51 0 1.02-.2 1.41-.59l7.78-7.78 2.81-2.81c.8-.78.8-2.07 0-2.86zM5.41 20L4 18.59l7.72-7.72 1.47 1.35L5.41 20z\"/>\n",
              "  </svg>\n",
              "      </button>\n",
              "      \n",
              "  <style>\n",
              "    .colab-df-container {\n",
              "      display:flex;\n",
              "      flex-wrap:wrap;\n",
              "      gap: 12px;\n",
              "    }\n",
              "\n",
              "    .colab-df-convert {\n",
              "      background-color: #E8F0FE;\n",
              "      border: none;\n",
              "      border-radius: 50%;\n",
              "      cursor: pointer;\n",
              "      display: none;\n",
              "      fill: #1967D2;\n",
              "      height: 32px;\n",
              "      padding: 0 0 0 0;\n",
              "      width: 32px;\n",
              "    }\n",
              "\n",
              "    .colab-df-convert:hover {\n",
              "      background-color: #E2EBFA;\n",
              "      box-shadow: 0px 1px 2px rgba(60, 64, 67, 0.3), 0px 1px 3px 1px rgba(60, 64, 67, 0.15);\n",
              "      fill: #174EA6;\n",
              "    }\n",
              "\n",
              "    [theme=dark] .colab-df-convert {\n",
              "      background-color: #3B4455;\n",
              "      fill: #D2E3FC;\n",
              "    }\n",
              "\n",
              "    [theme=dark] .colab-df-convert:hover {\n",
              "      background-color: #434B5C;\n",
              "      box-shadow: 0px 1px 3px 1px rgba(0, 0, 0, 0.15);\n",
              "      filter: drop-shadow(0px 1px 2px rgba(0, 0, 0, 0.3));\n",
              "      fill: #FFFFFF;\n",
              "    }\n",
              "  </style>\n",
              "\n",
              "      <script>\n",
              "        const buttonEl =\n",
              "          document.querySelector('#df-8b9c6ed0-ba7d-494d-bcad-8380a7f04f77 button.colab-df-convert');\n",
              "        buttonEl.style.display =\n",
              "          google.colab.kernel.accessAllowed ? 'block' : 'none';\n",
              "\n",
              "        async function convertToInteractive(key) {\n",
              "          const element = document.querySelector('#df-8b9c6ed0-ba7d-494d-bcad-8380a7f04f77');\n",
              "          const dataTable =\n",
              "            await google.colab.kernel.invokeFunction('convertToInteractive',\n",
              "                                                     [key], {});\n",
              "          if (!dataTable) return;\n",
              "\n",
              "          const docLinkHtml = 'Like what you see? Visit the ' +\n",
              "            '<a target=\"_blank\" href=https://colab.research.google.com/notebooks/data_table.ipynb>data table notebook</a>'\n",
              "            + ' to learn more about interactive tables.';\n",
              "          element.innerHTML = '';\n",
              "          dataTable['output_type'] = 'display_data';\n",
              "          await google.colab.output.renderOutput(dataTable, element);\n",
              "          const docLink = document.createElement('div');\n",
              "          docLink.innerHTML = docLinkHtml;\n",
              "          element.appendChild(docLink);\n",
              "        }\n",
              "      </script>\n",
              "    </div>\n",
              "  </div>\n",
              "  "
            ]
          },
          "metadata": {},
          "execution_count": 53
        }
      ],
      "source": [
        "housing.describe() #Un describe de los datos y ver que el comportamiento es similar en todos, ademas hay 1797 registros por clase"
      ]
    },
    {
      "cell_type": "code",
      "source": [
        "housing.dtypes #el tipo de datos son int64, excepto por ocean proximity"
      ],
      "metadata": {
        "colab": {
          "base_uri": "https://localhost:8080/"
        },
        "id": "gVK9qUNJ8Qqk",
        "outputId": "7d1be6ed-9a7a-4011-9bba-fb4cd0b211e5"
      },
      "execution_count": 54,
      "outputs": [
        {
          "output_type": "execute_result",
          "data": {
            "text/plain": [
              "longitude             float64\n",
              "latitude              float64\n",
              "housing_median_age    float64\n",
              "total_rooms           float64\n",
              "total_bedrooms        float64\n",
              "population            float64\n",
              "households            float64\n",
              "median_income         float64\n",
              "median_house_value    float64\n",
              "ocean_proximity        object\n",
              "dtype: object"
            ]
          },
          "metadata": {},
          "execution_count": 54
        }
      ]
    },
    {
      "cell_type": "code",
      "source": [
        "#Con esta información, transofrmemos las variables  tipo objeto a numéricas\n",
        "housing[\"ocean_proximity\"].unique()"
      ],
      "metadata": {
        "colab": {
          "base_uri": "https://localhost:8080/"
        },
        "id": "SOAnzSyO8-9c",
        "outputId": "9af3920b-0f57-4338-b81f-5c0b908f3ca1"
      },
      "execution_count": 55,
      "outputs": [
        {
          "output_type": "execute_result",
          "data": {
            "text/plain": [
              "array(['NEAR BAY', '<1H OCEAN', 'INLAND', 'NEAR OCEAN', 'ISLAND'],\n",
              "      dtype=object)"
            ]
          },
          "metadata": {},
          "execution_count": 55
        }
      ]
    },
    {
      "cell_type": "code",
      "source": [
        "housing['ocean_proximity'].replace(['NEAR BAY', '<1H OCEAN', 'INLAND', 'NEAR OCEAN', 'ISLAND'],[0,1,2,3,4],inplace=True)"
      ],
      "metadata": {
        "id": "nbc4YzBc9FMx"
      },
      "execution_count": 56,
      "outputs": []
    },
    {
      "cell_type": "code",
      "source": [
        "housing.dtypes #Ahora todas las variables son numéricas"
      ],
      "metadata": {
        "colab": {
          "base_uri": "https://localhost:8080/"
        },
        "id": "_U2xCZ099Ixd",
        "outputId": "46ecbc3b-ea96-4065-cd7e-5886e830d864"
      },
      "execution_count": 57,
      "outputs": [
        {
          "output_type": "execute_result",
          "data": {
            "text/plain": [
              "longitude             float64\n",
              "latitude              float64\n",
              "housing_median_age    float64\n",
              "total_rooms           float64\n",
              "total_bedrooms        float64\n",
              "population            float64\n",
              "households            float64\n",
              "median_income         float64\n",
              "median_house_value    float64\n",
              "ocean_proximity         int64\n",
              "dtype: object"
            ]
          },
          "metadata": {},
          "execution_count": 57
        }
      ]
    },
    {
      "cell_type": "code",
      "source": [
        "housing.isnull().sum() #Hay 207 datos nulos en total bedrooms"
      ],
      "metadata": {
        "colab": {
          "base_uri": "https://localhost:8080/"
        },
        "id": "907aD_br9hoi",
        "outputId": "a4cedf9a-75f9-4e66-da2e-f9bf2c008e34"
      },
      "execution_count": 58,
      "outputs": [
        {
          "output_type": "execute_result",
          "data": {
            "text/plain": [
              "longitude               0\n",
              "latitude                0\n",
              "housing_median_age      0\n",
              "total_rooms             0\n",
              "total_bedrooms        207\n",
              "population              0\n",
              "households              0\n",
              "median_income           0\n",
              "median_house_value      0\n",
              "ocean_proximity         0\n",
              "dtype: int64"
            ]
          },
          "metadata": {},
          "execution_count": 58
        }
      ]
    },
    {
      "cell_type": "code",
      "source": [
        "#Como vimos en el describe, existían más de 20.000 datos, por lo que los datos nulos son despreciables y podemos arreglarlo reemplazándolos con la media de habitaciones.\n",
        "housing['total_bedrooms'].fillna(housing['total_bedrooms'].median(),inplace=True)"
      ],
      "metadata": {
        "id": "k0ANhSlO9i19"
      },
      "execution_count": 59,
      "outputs": []
    },
    {
      "cell_type": "code",
      "source": [
        "housing.isnull().sum()"
      ],
      "metadata": {
        "colab": {
          "base_uri": "https://localhost:8080/"
        },
        "id": "iKp3wwdX90ss",
        "outputId": "444ee3d9-99da-4f73-ee06-11530d194e84"
      },
      "execution_count": 60,
      "outputs": [
        {
          "output_type": "execute_result",
          "data": {
            "text/plain": [
              "longitude             0\n",
              "latitude              0\n",
              "housing_median_age    0\n",
              "total_rooms           0\n",
              "total_bedrooms        0\n",
              "population            0\n",
              "households            0\n",
              "median_income         0\n",
              "median_house_value    0\n",
              "ocean_proximity       0\n",
              "dtype: int64"
            ]
          },
          "metadata": {},
          "execution_count": 60
        }
      ]
    },
    {
      "cell_type": "code",
      "source": [
        "housing.info() #Se usan 1.6MB"
      ],
      "metadata": {
        "colab": {
          "base_uri": "https://localhost:8080/"
        },
        "id": "gqXhyZ9L8RlL",
        "outputId": "e1c5acca-1459-4a06-973f-80b5c59776a7"
      },
      "execution_count": 61,
      "outputs": [
        {
          "output_type": "stream",
          "name": "stdout",
          "text": [
            "<class 'pandas.core.frame.DataFrame'>\n",
            "RangeIndex: 20640 entries, 0 to 20639\n",
            "Data columns (total 10 columns):\n",
            " #   Column              Non-Null Count  Dtype  \n",
            "---  ------              --------------  -----  \n",
            " 0   longitude           20640 non-null  float64\n",
            " 1   latitude            20640 non-null  float64\n",
            " 2   housing_median_age  20640 non-null  float64\n",
            " 3   total_rooms         20640 non-null  float64\n",
            " 4   total_bedrooms      20640 non-null  float64\n",
            " 5   population          20640 non-null  float64\n",
            " 6   households          20640 non-null  float64\n",
            " 7   median_income       20640 non-null  float64\n",
            " 8   median_house_value  20640 non-null  float64\n",
            " 9   ocean_proximity     20640 non-null  int64  \n",
            "dtypes: float64(9), int64(1)\n",
            "memory usage: 1.6 MB\n"
          ]
        }
      ]
    },
    {
      "cell_type": "markdown",
      "source": [
        "**Visualización Descriptiva**"
      ],
      "metadata": {
        "id": "vTRvQbJJ8vlI"
      }
    },
    {
      "cell_type": "code",
      "source": [
        "for i in range(10):\n",
        "    sns.displot(housing[housing.columns[i]])\n",
        "    plt.title(housing.columns[i])"
      ],
      "metadata": {
        "colab": {
          "base_uri": "https://localhost:8080/",
          "height": 1000
        },
        "id": "VHRdEEkiEkZ9",
        "outputId": "60eddf27-c7f4-4693-8706-f16c75ee1f7e"
      },
      "execution_count": 62,
      "outputs": [
        {
          "output_type": "display_data",
          "data": {
            "text/plain": [
              "<Figure size 360x360 with 1 Axes>"
            ],
            "image/png": "[encoded data removed]"
          },
          "metadata": {
            "needs_background": "light"
          }
        },
        {
          "output_type": "display_data",
          "data": {
            "text/plain": [
              "<Figure size 360x360 with 1 Axes>"
            ],
            "image/png": "[encoded data removed]"
          },
          "metadata": {
            "needs_background": "light"
          }
        },
        {
          "output_type": "display_data",
          "data": {
            "text/plain": [
              "<Figure size 360x360 with 1 Axes>"
            ],
            "image/png": "[encoded data removed]"
          },
          "metadata": {
            "needs_background": "light"
          }
        },
        {
          "output_type": "display_data",
          "data": {
            "text/plain": [
              "<Figure size 360x360 with 1 Axes>"
            ],
            "image/png": "[encoded data removed]"
          },
          "metadata": {
            "needs_background": "light"
          }
        },
        {
          "output_type": "display_data",
          "data": {
            "text/plain": [
              "<Figure size 360x360 with 1 Axes>"
            ],
            "image/png": "[encoded data removed]"
          },
          "metadata": {
            "needs_background": "light"
          }
        },
        {
          "output_type": "display_data",
          "data": {
            "text/plain": [
              "<Figure size 360x360 with 1 Axes>"
            ],
            "image/png": "[encoded data removed]"
          },
          "metadata": {
            "needs_background": "light"
          }
        },
        {
          "output_type": "display_data",
          "data": {
            "text/plain": [
              "<Figure size 360x360 with 1 Axes>"
            ],
            "image/png": "[encoded data removed]"
          },
          "metadata": {
            "needs_background": "light"
          }
        },
        {
          "output_type": "display_data",
          "data": {
            "text/plain": [
              "<Figure size 360x360 with 1 Axes>"
            ],
            "image/png": "[encoded data removed]"
          },
          "metadata": {
            "needs_background": "light"
          }
        },
        {
          "output_type": "display_data",
          "data": {
            "text/plain": [
              "<Figure size 360x360 with 1 Axes>"
            ],
            "image/png": "[encoded data removed]"
          },
          "metadata": {
            "needs_background": "light"
          }
        },
        {
          "output_type": "display_data",
          "data": {
            "text/plain": [
              "<Figure size 360x360 with 1 Axes>"
            ],
            "image/png": "[encoded data removed]"
          },
          "metadata": {
            "needs_background": "light"
          }
        }
      ]
    },
    {
      "cell_type": "markdown",
      "source": [
        "**Modelo de Machine Learning**"
      ],
      "metadata": {
        "id": "iE0BTq2uE0bN"
      }
    },
    {
      "cell_type": "code",
      "source": [
        "X = housing.drop(columns=\"median_house_value\").values\n",
        "y = housing[\"median_house_value\"].values\n",
        "\n",
        "X_train, X_test, y_train, y_test = train_test_split(X, y, train_size=0.1, test_size=0.1, random_state=32)\n",
        "\n",
        "print('Separando informacion:\\n')\n",
        "print('numero de filas data original : ',len(X))\n",
        "print('numero de filas train set     : ',len(X_train))\n",
        "print('numero de filas test set      : ',len(X_test))"
      ],
      "metadata": {
        "colab": {
          "base_uri": "https://localhost:8080/"
        },
        "id": "HwmL3tS5EtsO",
        "outputId": "32126e3a-dc14-48ee-82ec-d2aba26f7385"
      },
      "execution_count": 90,
      "outputs": [
        {
          "output_type": "stream",
          "name": "stdout",
          "text": [
            "Separando informacion:\n",
            "\n",
            "numero de filas data original :  20640\n",
            "numero de filas train set     :  2064\n",
            "numero de filas test set      :  2064\n"
          ]
        }
      ]
    },
    {
      "cell_type": "code",
      "source": [
        "import time\n",
        "#Diccionario de Hiperparámetros\n",
        "dicc_knn = {\n",
        "          'n_neighbors' : [3, 5, 10],\n",
        "          'weights' : ['uniform', 'distance'],\n",
        "          'metric' : ['euclidean', 'minkowski'],\n",
        "          'algorithm' : ['auto','brute', 'kd_tree']\n",
        "          }\n",
        "\n",
        "\n",
        "grid_knn = GridSearchCV(estimator = knn, param_grid = dicc_knn, cv = 20) \n",
        "\n",
        "start_time = time.time() #Tiempo de inicio \n",
        "\n",
        "grid_result_knn = grid_knn.fit(X_train, y_train)\n",
        "print(\"Tuned Hyperparameters :\", grid_knn.best_params_)\n",
        "print(\"Accuracy :\",grid_knn.best_score_)\n",
        "print(\"Este modelo se ajustó en\",(time.time() - start_time),\"segundos.\") "
      ],
      "metadata": {
        "colab": {
          "base_uri": "https://localhost:8080/"
        },
        "id": "Vkoi7JGLHI9Q",
        "outputId": "88c1286e-0473-4ced-9501-4f97ad7183fa"
      },
      "execution_count": 91,
      "outputs": [
        {
          "output_type": "stream",
          "name": "stdout",
          "text": [
            "Tuned Hyperparameters : {'algorithm': 'auto', 'metric': 'euclidean', 'n_neighbors': 10, 'weights': 'distance'}\n",
            "Accuracy : 0.0324542569081404\n",
            "Este modelo se ajustó en 10.136322498321533 segundos.\n"
          ]
        }
      ]
    },
    {
      "cell_type": "code",
      "source": [
        "#MODELO KNN HIPERPARAMETROS\n",
        "knng = neighbors.KNeighborsClassifier(algorithm = 'auto', metric= 'euclidean', n_neighbors=10, weights='distance').fit(X_train, y_train)\n",
        "\n",
        "# predecir\n",
        "knng_pred = knng.predict(X_test)\n",
        "y_true = y_test\n",
        "\n",
        "#Guardamos los datos para la comparativa final\n",
        "accuracyX=accuracy_score(y_test, knng_pred)\n",
        "recallX=recall_score(y_test, knng_pred,average='weighted')\n",
        "precisionX=precision_score(y_test, knng_pred,average='weighted' )\n",
        "fscoreX=f1_score(y_test, knng_pred,average='weighted')\n",
        "\n",
        "print('\\nMatriz de confusion:\\n ')\n",
        "print(confusion_matrix(y_true,knng_pred))\n",
        "\n",
        "print('\\nMetricas:\\n ')\n",
        "print('accuracy:   ',accuracyX)\n",
        "print('recall:     ',recallX)\n",
        "print('precision:  ',precisionX)\n",
        "print('f-score:    ',fscoreX)\n",
        "print(\"\")"
      ],
      "metadata": {
        "colab": {
          "base_uri": "https://localhost:8080/"
        },
        "id": "ui4TFdajMKIz",
        "outputId": "f0f013a4-a5ff-474e-80d1-76a1fd5b2965"
      },
      "execution_count": 92,
      "outputs": [
        {
          "output_type": "stream",
          "name": "stdout",
          "text": [
            "\n",
            "Matriz de confusion:\n",
            " \n",
            "[[ 0  0  0 ...  0  0  0]\n",
            " [ 0  0  0 ...  0  0  0]\n",
            " [ 0  0  0 ...  0  0  0]\n",
            " ...\n",
            " [ 0  0  0 ...  0  0  1]\n",
            " [ 0  0  0 ...  0  0  0]\n",
            " [ 0  0  0 ...  0  0 65]]\n",
            "\n",
            "Metricas:\n",
            " \n",
            "accuracy:    0.03294573643410853\n",
            "recall:      0.03294573643410853\n",
            "precision:   0.01886364487476722\n",
            "f-score:     0.02064956737921854\n",
            "\n"
          ]
        }
      ]
    },
    {
      "cell_type": "code",
      "source": [
        "from sklearn.model_selection import RandomizedSearchCV\n",
        "# Number of trees in random forest\n",
        "n_estimators = [int(x) for x in np.linspace(start = 10, stop = 20, num = 5)]\n",
        "# Number of features to consider at every split\n",
        "max_features = ['auto', 'sqrt']\n",
        "# Maximum number of levels in tree\n",
        "max_depth = [int(x) for x in np.linspace(10, 110, num = 11)]\n",
        "max_depth.append(None)\n",
        "# Minimum number of samples required to split a node\n",
        "min_samples_split = [2, 5, 10]\n",
        "# Minimum number of samples required at each leaf node\n",
        "min_samples_leaf = [1, 2, 4]\n",
        "# Method of selecting samples for training each tree\n",
        "bootstrap = [True, False]\n",
        "# Create the random grid\n",
        "random_grid = {'n_estimators': n_estimators,\n",
        "               'max_features': max_features,\n",
        "               'max_depth': max_depth,\n",
        "               'min_samples_split': min_samples_split,\n",
        "               'min_samples_leaf': min_samples_leaf,\n",
        "               'bootstrap': bootstrap}\n",
        "# Use the random grid to search for best hyperparameters\n",
        " \n",
        "\n",
        "rfc_random = RandomizedSearchCV(estimator = rfc, param_distributions = random_grid, n_iter = 20, cv = 3, verbose=2, random_state=42, n_jobs = -1)\n",
        "# Fit the random search model\n",
        "\n",
        "start_time = time.time() #Tiempo de inicio \n",
        "rfc_random.fit(X_train, y_train)\n",
        "print(\"Este modelo se ajustó en\",(time.time() - start_time),\"segundos.\") \n",
        "print(rfc_random.best_params_)"
      ],
      "metadata": {
        "colab": {
          "base_uri": "https://localhost:8080/"
        },
        "outputId": "ecc41111-cc64-4567-8a17-b990f4dd5515",
        "id": "fVP_KibCOdo2"
      },
      "execution_count": 93,
      "outputs": [
        {
          "output_type": "stream",
          "name": "stdout",
          "text": [
            "Fitting 3 folds for each of 20 candidates, totalling 60 fits\n",
            "Este modelo se ajustó en 39.70307898521423 segundos.\n",
            "{'n_estimators': 20, 'min_samples_split': 10, 'min_samples_leaf': 1, 'max_features': 'auto', 'max_depth': 20, 'bootstrap': False}\n"
          ]
        }
      ]
    },
    {
      "cell_type": "code",
      "source": [
        "#MODELO RANDOMFOREST HIPERPARAMETROS\n",
        "rfcg =  RandomForestClassifier(n_estimators=20,min_samples_split=10,min_samples_leaf=1,max_features='auto',max_depth=20, bootstrap=False).fit(X_train,y_train)\n",
        "\n",
        "#predecir\n",
        "y_true =  y_test\n",
        "rfcg_pred = rfcg.predict(X_test)\n",
        "\n",
        "#Guardamos los datos para la comparativa final\n",
        "accuracyY=accuracy_score(y_true, rfcg_pred)\n",
        "recallY=recall_score(y_true, rfcg_pred,average='weighted')\n",
        "precisionY=precision_score(y_true, rfcg_pred,average='weighted')\n",
        "fscoreY=f1_score(y_true, rfcg_pred,average='weighted')\n",
        "\n",
        "print('\\nMatriz de confusion:\\n ')\n",
        "print(confusion_matrix(y_true,rfcg_pred))\n",
        "\n",
        "print('\\nMetricas:\\n ')\n",
        "print('accuracy:   ',accuracyY)\n",
        "print('recall:     ',recallY)\n",
        "print('precision:  ',precisionY)\n",
        "print('f-score:    ',fscoreY)\n",
        "print(\"\")"
      ],
      "metadata": {
        "colab": {
          "base_uri": "https://localhost:8080/"
        },
        "id": "7tJlQKNUVZUH",
        "outputId": "fd0d8a5c-90d1-4d95-b421-0db262ec1e33"
      },
      "execution_count": 102,
      "outputs": [
        {
          "output_type": "stream",
          "name": "stdout",
          "text": [
            "\n",
            "Matriz de confusion:\n",
            " \n",
            "[[ 0  0  0 ...  0  0  0]\n",
            " [ 0  0  0 ...  0  0  0]\n",
            " [ 0  0  0 ...  0  0  0]\n",
            " ...\n",
            " [ 0  0  0 ...  0  0  1]\n",
            " [ 0  0  0 ...  0  0  1]\n",
            " [ 0  0  0 ...  0  0 92]]\n",
            "\n",
            "Metricas:\n",
            " \n",
            "accuracy:    0.046511627906976744\n",
            "recall:      0.046511627906976744\n",
            "precision:   0.018691168327796236\n",
            "f-score:     0.026270935463610475\n",
            "\n"
          ]
        }
      ]
    },
    {
      "cell_type": "code",
      "source": [
        "import time\n",
        "\n",
        "#Diccionario de Hiperparámetros\n",
        "dicc_rlog = {\n",
        "          'penalty' : ['l2'],\n",
        "          'C' : [1, 0.01],\n",
        "          'class_weight' : ['balanced',None],\n",
        "          'solver' : ['liblinear'],\n",
        "          }\n",
        "grid_lr = GridSearchCV(estimator = lr, param_grid = dicc_rlog, refit = True, n_jobs=-1) \n",
        "\n",
        "start_time = time.time() #Tiempo de inicio \n",
        "\n",
        "grid_result_lr = grid_lr.fit(X_train, y_train)\n",
        "grid_result_lr\n",
        "print(\"Tuned Hyperparameters :\", grid_result_lr.best_params_)\n",
        "print(\"Accuracy :\",grid_result_lr.best_score_)\n",
        "print(\"Este modelo se ajustó en\",(time.time() - start_time),\"segundos.\") "
      ],
      "metadata": {
        "colab": {
          "base_uri": "https://localhost:8080/"
        },
        "id": "58bxCSjiWvOk",
        "outputId": "a72b9219-666b-445d-95b7-00b10f131af5"
      },
      "execution_count": 101,
      "outputs": [
        {
          "output_type": "stream",
          "name": "stdout",
          "text": [
            "Tuned Hyperparameters : {'C': 0.01, 'class_weight': None, 'penalty': 'l2', 'solver': 'liblinear'}\n",
            "Accuracy : 0.05281153764780555\n",
            "Este modelo se ajustó en 200.74363446235657 segundos.\n"
          ]
        }
      ]
    },
    {
      "cell_type": "code",
      "source": [
        "#MODELO REGRESION LOGISTICA HIPERPARAMETROS\n",
        "lrg = LogisticRegression(C=0.01, class_weight=None, penalty='l2', solver = 'liblinear').fit(X_train, y_train)\n",
        "\n",
        "# predecir\n",
        "lr_pred = lrg.predict(X_test)\n",
        "y_true = y_test\n",
        "\n",
        "#Guardamos los datos para la comparativa final\n",
        "accuracyZ=accuracy_score(y_test, lr_pred)\n",
        "recallZ=recall_score(y_test, lr_pred,average='weighted')\n",
        "precisionZ=precision_score(y_test, lr_pred,average='weighted' )\n",
        "fscoreZ=f1_score(y_test, lr_pred,average='weighted')\n",
        "\n",
        "print('\\nMatriz de confusion:\\n ')\n",
        "print(confusion_matrix(y_true,lr_pred))\n",
        "\n",
        "print('\\nMetricas:\\n ')\n",
        "print('accuracy:   ',accuracyZ)\n",
        "print('recall:     ',recallZ)\n",
        "print('precision:  ',precisionZ)\n",
        "print('f-score:    ',fscoreZ)\n",
        "print(\"\")"
      ],
      "metadata": {
        "colab": {
          "base_uri": "https://localhost:8080/"
        },
        "id": "5eRyLr5XaBcm",
        "outputId": "00fc5f92-8ef1-4239-a50f-e5f22b1db9a9"
      },
      "execution_count": 103,
      "outputs": [
        {
          "output_type": "stream",
          "name": "stdout",
          "text": [
            "\n",
            "Matriz de confusion:\n",
            " \n",
            "[[  0   0   0 ...   0   0   0]\n",
            " [  0   0   0 ...   0   0   0]\n",
            " [  0   0   0 ...   0   0   0]\n",
            " ...\n",
            " [  0   0   0 ...   0   0   1]\n",
            " [  0   0   0 ...   0   0   2]\n",
            " [  0   0   0 ...   0   0 101]]\n",
            "\n",
            "Metricas:\n",
            " \n",
            "accuracy:    0.05377906976744186\n",
            "recall:      0.05377906976744186\n",
            "precision:   0.0064471800198425515\n",
            "f-score:     0.011085843372532152\n",
            "\n"
          ]
        }
      ]
    },
    {
      "cell_type": "code",
      "source": [
        "from sklearn import tree\n",
        "from sklearn.tree import DecisionTreeClassifier\n",
        "\n",
        "#DECISION TREE\n",
        "dtree = DecisionTreeClassifier()\n",
        "dtree = dtree.fit(X_train, y_train)\n",
        "\n",
        "#predecir\n",
        "y_true =  list(y_test)\n",
        "y_pred = list(dtree.predict(X_test)) \n",
        "\n",
        "#Guardamos los datos para la comparativa final\n",
        "accuracyW=accuracy_score(y_test, y_pred)\n",
        "recallW=recall_score(y_test, y_pred,average='weighted')\n",
        "precisionW=precision_score(y_test, y_pred,average='weighted' )\n",
        "fscoreW=f1_score(y_test, y_pred,average='weighted')\n",
        "\n",
        "print('\\nMatriz de confusion:\\n ')\n",
        "print(confusion_matrix(y_true,y_pred))\n",
        "\n",
        "print('\\nMetricas:\\n ')\n",
        "print('accuracy:   ',accuracyW)\n",
        "print('recall:     ',recallW)\n",
        "print('precision:  ',precisionW)\n",
        "print('f-score:    ',fscoreW)\n",
        "print(\"\")"
      ],
      "metadata": {
        "colab": {
          "base_uri": "https://localhost:8080/"
        },
        "id": "GnkGFS9mblUM",
        "outputId": "7b978c29-9cdd-4ecb-ed96-2aa140a3869d"
      },
      "execution_count": 110,
      "outputs": [
        {
          "output_type": "stream",
          "name": "stdout",
          "text": [
            "\n",
            "Matriz de confusion:\n",
            " \n",
            "[[ 0  0  0 ...  0  0  0]\n",
            " [ 0  0  0 ...  0  0  0]\n",
            " [ 0  0  0 ...  0  0  0]\n",
            " ...\n",
            " [ 0  0  0 ...  0  0  0]\n",
            " [ 0  0  0 ...  0  0  0]\n",
            " [ 0  0  0 ...  0  2 60]]\n",
            "\n",
            "Metricas:\n",
            " \n",
            "accuracy:    0.031007751937984496\n",
            "recall:      0.031007751937984492\n",
            "precision:   0.026881298807702667\n",
            "f-score:     0.028687159633157714\n",
            "\n"
          ]
        }
      ]
    },
    {
      "cell_type": "markdown",
      "source": [
        "**RESUMEN DEL ANÁLISIS DE DATOS**"
      ],
      "metadata": {
        "id": "KrdiHOFcdkcE"
      }
    },
    {
      "cell_type": "code",
      "source": [
        "Datos = {'n_modelo': ['knn','random_forest','logistic_regression','decision_tree'],\n",
        "          'accuracy': [accuracyX,accuracyY,accuracyZ,accuracyW],\n",
        "          'recall': [recallX,recallY,recallZ,recallW],\n",
        "          'precision': [precisionX,precisionY,precisionZ,precisionW],\n",
        "          'f-score': [fscoreX,fscoreY,fscoreZ,fscoreW],\n",
        "}\n",
        "AnalisisDeDatos=pd.DataFrame(Datos)\n",
        "AnalisisDeDatos"
      ],
      "metadata": {
        "colab": {
          "base_uri": "https://localhost:8080/",
          "height": 175
        },
        "id": "zfb4GcUQcpMH",
        "outputId": "944473ac-75dc-47d1-f21a-23636e5b3a8c"
      },
      "execution_count": 111,
      "outputs": [
        {
          "output_type": "execute_result",
          "data": {
            "text/plain": [
              "              n_modelo  accuracy    recall  precision   f-score\n",
              "0                  knn  0.032946  0.032946   0.018864  0.020650\n",
              "1        random_forest  0.046512  0.046512   0.018691  0.026271\n",
              "2  logistic_regression  0.053779  0.053779   0.006447  0.011086\n",
              "3        decision_tree  0.031008  0.031008   0.026881  0.028687"
            ],
            "text/html": [
              "\n",
              "  <div id=\"df-be6fa3b6-2b8f-4b2b-b904-abab08e50c2e\">\n",
              "    <div class=\"colab-df-container\">\n",
              "      <div>\n",
              "<style scoped>\n",
              "    .dataframe tbody tr th:only-of-type {\n",
              "        vertical-align: middle;\n",
              "    }\n",
              "\n",
              "    .dataframe tbody tr th {\n",
              "        vertical-align: top;\n",
              "    }\n",
              "\n",
              "    .dataframe thead th {\n",
              "        text-align: right;\n",
              "    }\n",
              "</style>\n",
              "<table border=\"1\" class=\"dataframe\">\n",
              "  <thead>\n",
              "    <tr style=\"text-align: right;\">\n",
              "      <th></th>\n",
              "      <th>n_modelo</th>\n",
              "      <th>accuracy</th>\n",
              "      <th>recall</th>\n",
              "      <th>precision</th>\n",
              "      <th>f-score</th>\n",
              "    </tr>\n",
              "  </thead>\n",
              "  <tbody>\n",
              "    <tr>\n",
              "      <th>0</th>\n",
              "      <td>knn</td>\n",
              "      <td>0.032946</td>\n",
              "      <td>0.032946</td>\n",
              "      <td>0.018864</td>\n",
              "      <td>0.020650</td>\n",
              "    </tr>\n",
              "    <tr>\n",
              "      <th>1</th>\n",
              "      <td>random_forest</td>\n",
              "      <td>0.046512</td>\n",
              "      <td>0.046512</td>\n",
              "      <td>0.018691</td>\n",
              "      <td>0.026271</td>\n",
              "    </tr>\n",
              "    <tr>\n",
              "      <th>2</th>\n",
              "      <td>logistic_regression</td>\n",
              "      <td>0.053779</td>\n",
              "      <td>0.053779</td>\n",
              "      <td>0.006447</td>\n",
              "      <td>0.011086</td>\n",
              "    </tr>\n",
              "    <tr>\n",
              "      <th>3</th>\n",
              "      <td>decision_tree</td>\n",
              "      <td>0.031008</td>\n",
              "      <td>0.031008</td>\n",
              "      <td>0.026881</td>\n",
              "      <td>0.028687</td>\n",
              "    </tr>\n",
              "  </tbody>\n",
              "</table>\n",
              "</div>\n",
              "      <button class=\"colab-df-convert\" onclick=\"convertToInteractive('df-be6fa3b6-2b8f-4b2b-b904-abab08e50c2e')\"\n",
              "              title=\"Convert this dataframe to an interactive table.\"\n",
              "              style=\"display:none;\">\n",
              "        \n",
              "  <svg xmlns=\"http://www.w3.org/2000/svg\" height=\"24px\"viewBox=\"0 0 24 24\"\n",
              "       width=\"24px\">\n",
              "    <path d=\"M0 0h24v24H0V0z\" fill=\"none\"/>\n",
              "    <path d=\"M18.56 5.44l.94 2.06.94-2.06 2.06-.94-2.06-.94-.94-2.06-.94 2.06-2.06.94zm-11 1L8.5 8.5l.94-2.06 2.06-.94-2.06-.94L8.5 2.5l-.94 2.06-2.06.94zm10 10l.94 2.06.94-2.06 2.06-.94-2.06-.94-.94-2.06-.94 2.06-2.06.94z\"/><path d=\"M17.41 7.96l-1.37-1.37c-.4-.4-.92-.59-1.43-.59-.52 0-1.04.2-1.43.59L10.3 9.45l-7.72 7.72c-.78.78-.78 2.05 0 2.83L4 21.41c.39.39.9.59 1.41.59.51 0 1.02-.2 1.41-.59l7.78-7.78 2.81-2.81c.8-.78.8-2.07 0-2.86zM5.41 20L4 18.59l7.72-7.72 1.47 1.35L5.41 20z\"/>\n",
              "  </svg>\n",
              "      </button>\n",
              "      \n",
              "  <style>\n",
              "    .colab-df-container {\n",
              "      display:flex;\n",
              "      flex-wrap:wrap;\n",
              "      gap: 12px;\n",
              "    }\n",
              "\n",
              "    .colab-df-convert {\n",
              "      background-color: #E8F0FE;\n",
              "      border: none;\n",
              "      border-radius: 50%;\n",
              "      cursor: pointer;\n",
              "      display: none;\n",
              "      fill: #1967D2;\n",
              "      height: 32px;\n",
              "      padding: 0 0 0 0;\n",
              "      width: 32px;\n",
              "    }\n",
              "\n",
              "    .colab-df-convert:hover {\n",
              "      background-color: #E2EBFA;\n",
              "      box-shadow: 0px 1px 2px rgba(60, 64, 67, 0.3), 0px 1px 3px 1px rgba(60, 64, 67, 0.15);\n",
              "      fill: #174EA6;\n",
              "    }\n",
              "\n",
              "    [theme=dark] .colab-df-convert {\n",
              "      background-color: #3B4455;\n",
              "      fill: #D2E3FC;\n",
              "    }\n",
              "\n",
              "    [theme=dark] .colab-df-convert:hover {\n",
              "      background-color: #434B5C;\n",
              "      box-shadow: 0px 1px 3px 1px rgba(0, 0, 0, 0.15);\n",
              "      filter: drop-shadow(0px 1px 2px rgba(0, 0, 0, 0.3));\n",
              "      fill: #FFFFFF;\n",
              "    }\n",
              "  </style>\n",
              "\n",
              "      <script>\n",
              "        const buttonEl =\n",
              "          document.querySelector('#df-be6fa3b6-2b8f-4b2b-b904-abab08e50c2e button.colab-df-convert');\n",
              "        buttonEl.style.display =\n",
              "          google.colab.kernel.accessAllowed ? 'block' : 'none';\n",
              "\n",
              "        async function convertToInteractive(key) {\n",
              "          const element = document.querySelector('#df-be6fa3b6-2b8f-4b2b-b904-abab08e50c2e');\n",
              "          const dataTable =\n",
              "            await google.colab.kernel.invokeFunction('convertToInteractive',\n",
              "                                                     [key], {});\n",
              "          if (!dataTable) return;\n",
              "\n",
              "          const docLinkHtml = 'Like what you see? Visit the ' +\n",
              "            '<a target=\"_blank\" href=https://colab.research.google.com/notebooks/data_table.ipynb>data table notebook</a>'\n",
              "            + ' to learn more about interactive tables.';\n",
              "          element.innerHTML = '';\n",
              "          dataTable['output_type'] = 'display_data';\n",
              "          await google.colab.output.renderOutput(dataTable, element);\n",
              "          const docLink = document.createElement('div');\n",
              "          docLink.innerHTML = docLinkHtml;\n",
              "          element.appendChild(docLink);\n",
              "        }\n",
              "      </script>\n",
              "    </div>\n",
              "  </div>\n",
              "  "
            ]
          },
          "metadata": {},
          "execution_count": 111
        }
      ]
    },
    {
      "cell_type": "markdown",
      "source": [
        "**CONCLUSIONES**"
      ],
      "metadata": {
        "id": "Jaj8Uf0JdNRg"
      }
    },
    {
      "cell_type": "markdown",
      "source": [
        "Podemos ver que los modelos de regresión no son muy buenos en este ejercicio, pues ninguna de las métricas supera siquiera el 0.1.\n",
        "Podemos concluir que es necesario seguir aprendiendo nuevos modelos y nuevas herramientas para afrontar más problemas en el mundo de Machine Learning."
      ],
      "metadata": {
        "id": "VBXLeTA1dPBi"
      }
    }
  ],
  "metadata": {
    "kernelspec": {
      "display_name": "Python 3",
      "language": "python",
      "name": "python3"
    },
    "language_info": {
      "codemirror_mode": {
        "name": "ipython",
        "version": 3
      },
      "file_extension": ".py",
      "mimetype": "text/x-python",
      "name": "python",
      "nbconvert_exporter": "python",
      "pygments_lexer": "ipython3",
      "version": "3.8.10"
    },
    "latex_envs": {
      "LaTeX_envs_menu_present": true,
      "autoclose": false,
      "autocomplete": true,
      "bibliofile": "biblio.bib",
      "cite_by": "apalike",
      "current_citInitial": 1,
      "eqLabelWithNumbers": true,
      "eqNumInitial": 1,
      "hotkeys": {
        "equation": "Ctrl-E",
        "itemize": "Ctrl-I"
      },
      "labels_anchors": false,
      "latex_user_defs": false,
      "report_style_numbering": false,
      "user_envs_cfg": false
    },
    "colab": {
      "provenance": []
    }
  },
  "nbformat": 4,
  "nbformat_minor": 0
}