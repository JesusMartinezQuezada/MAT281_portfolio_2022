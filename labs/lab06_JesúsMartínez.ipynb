{
  "cells": [
    {
      "cell_type": "markdown",
      "metadata": {
        "id": "pzLbOjh-YbPH"
      },
      "source": [
        "<a href=\"https://colab.research.google.com/github/fralfaro/MAT281_2022/blob/main/labs/lab_06/lab_06.ipynb\n",
        "\" target=\"_parent\"><img src=\"https://colab.research.google.com/assets/colab-badge.svg\" alt=\"Open In Colab\"/></a>\n",
        "\n",
        "\n",
        "# MAT281 - Laboratorios N°06"
      ]
    },
    {
      "cell_type": "markdown",
      "metadata": {
        "id": "9mbtDy0uYbPM"
      },
      "source": [
        "<a id='p1'></a>\n",
        "## I.- Problema 01\n",
        "\n",
        "\n",
        "<img src=\"https://upload.wikimedia.org/wikipedia/commons/thumb/b/b6/Anscombe.svg/1200px-Anscombe.svg.png\" width=\"360\" height=\"360\" align=\"center\"/>\n",
        "\n"
      ]
    },
    {
      "cell_type": "markdown",
      "metadata": {
        "id": "QYaFlHazYbPN"
      },
      "source": [
        "El **cuarteto de Anscombe** comprende cuatro conjuntos de datos que tienen las mismas propiedades estadísticas, pero que evidentemente son distintas al inspeccionar sus gráficos respectivos.\n",
        "\n",
        "Cada conjunto consiste de once puntos (x, y) y fueron construidos por el estadístico F. J. Anscombe. El cuarteto es una demostración de la importancia de mirar gráficamente un conjunto de datos antes de analizarlos."
      ]
    },
    {
      "cell_type": "code",
      "execution_count": 1,
      "metadata": {
        "id": "af8lCsmqYbPO"
      },
      "outputs": [],
      "source": [
        "import os\n",
        "import numpy as np\n",
        "import pandas as pd\n",
        "import matplotlib.pyplot as plt\n",
        "import seaborn as sns\n",
        "from IPython.display import display, Latex\n",
        "\n",
        "%matplotlib inline\n",
        "sns.set_palette(\"deep\", desat=.6)\n",
        "sns.set(rc={'figure.figsize':(11.7,8.27)})"
      ]
    },
    {
      "cell_type": "code",
      "execution_count": 2,
      "metadata": {
        "id": "VPv6ESJ1YbPQ",
        "outputId": "6d7a601b-b845-449d-9253-678797860774",
        "colab": {
          "base_uri": "https://localhost:8080/",
          "height": 206
        }
      },
      "outputs": [
        {
          "output_type": "execute_result",
          "data": {
            "text/plain": [
              "    x     y    grupo\n",
              "0  10  8.04  Grupo_1\n",
              "1   8  6.95  Grupo_1\n",
              "2  13  7.58  Grupo_1\n",
              "3   9  8.81  Grupo_1\n",
              "4  11  8.33  Grupo_1"
            ],
            "text/html": [
              "\n",
              "  <div id=\"df-4f782fff-15d9-4ee7-9962-25807d0d445e\">\n",
              "    <div class=\"colab-df-container\">\n",
              "      <div>\n",
              "<style scoped>\n",
              "    .dataframe tbody tr th:only-of-type {\n",
              "        vertical-align: middle;\n",
              "    }\n",
              "\n",
              "    .dataframe tbody tr th {\n",
              "        vertical-align: top;\n",
              "    }\n",
              "\n",
              "    .dataframe thead th {\n",
              "        text-align: right;\n",
              "    }\n",
              "</style>\n",
              "<table border=\"1\" class=\"dataframe\">\n",
              "  <thead>\n",
              "    <tr style=\"text-align: right;\">\n",
              "      <th></th>\n",
              "      <th>x</th>\n",
              "      <th>y</th>\n",
              "      <th>grupo</th>\n",
              "    </tr>\n",
              "  </thead>\n",
              "  <tbody>\n",
              "    <tr>\n",
              "      <th>0</th>\n",
              "      <td>10</td>\n",
              "      <td>8.04</td>\n",
              "      <td>Grupo_1</td>\n",
              "    </tr>\n",
              "    <tr>\n",
              "      <th>1</th>\n",
              "      <td>8</td>\n",
              "      <td>6.95</td>\n",
              "      <td>Grupo_1</td>\n",
              "    </tr>\n",
              "    <tr>\n",
              "      <th>2</th>\n",
              "      <td>13</td>\n",
              "      <td>7.58</td>\n",
              "      <td>Grupo_1</td>\n",
              "    </tr>\n",
              "    <tr>\n",
              "      <th>3</th>\n",
              "      <td>9</td>\n",
              "      <td>8.81</td>\n",
              "      <td>Grupo_1</td>\n",
              "    </tr>\n",
              "    <tr>\n",
              "      <th>4</th>\n",
              "      <td>11</td>\n",
              "      <td>8.33</td>\n",
              "      <td>Grupo_1</td>\n",
              "    </tr>\n",
              "  </tbody>\n",
              "</table>\n",
              "</div>\n",
              "      <button class=\"colab-df-convert\" onclick=\"convertToInteractive('df-4f782fff-15d9-4ee7-9962-25807d0d445e')\"\n",
              "              title=\"Convert this dataframe to an interactive table.\"\n",
              "              style=\"display:none;\">\n",
              "        \n",
              "  <svg xmlns=\"http://www.w3.org/2000/svg\" height=\"24px\"viewBox=\"0 0 24 24\"\n",
              "       width=\"24px\">\n",
              "    <path d=\"M0 0h24v24H0V0z\" fill=\"none\"/>\n",
              "    <path d=\"M18.56 5.44l.94 2.06.94-2.06 2.06-.94-2.06-.94-.94-2.06-.94 2.06-2.06.94zm-11 1L8.5 8.5l.94-2.06 2.06-.94-2.06-.94L8.5 2.5l-.94 2.06-2.06.94zm10 10l.94 2.06.94-2.06 2.06-.94-2.06-.94-.94-2.06-.94 2.06-2.06.94z\"/><path d=\"M17.41 7.96l-1.37-1.37c-.4-.4-.92-.59-1.43-.59-.52 0-1.04.2-1.43.59L10.3 9.45l-7.72 7.72c-.78.78-.78 2.05 0 2.83L4 21.41c.39.39.9.59 1.41.59.51 0 1.02-.2 1.41-.59l7.78-7.78 2.81-2.81c.8-.78.8-2.07 0-2.86zM5.41 20L4 18.59l7.72-7.72 1.47 1.35L5.41 20z\"/>\n",
              "  </svg>\n",
              "      </button>\n",
              "      \n",
              "  <style>\n",
              "    .colab-df-container {\n",
              "      display:flex;\n",
              "      flex-wrap:wrap;\n",
              "      gap: 12px;\n",
              "    }\n",
              "\n",
              "    .colab-df-convert {\n",
              "      background-color: #E8F0FE;\n",
              "      border: none;\n",
              "      border-radius: 50%;\n",
              "      cursor: pointer;\n",
              "      display: none;\n",
              "      fill: #1967D2;\n",
              "      height: 32px;\n",
              "      padding: 0 0 0 0;\n",
              "      width: 32px;\n",
              "    }\n",
              "\n",
              "    .colab-df-convert:hover {\n",
              "      background-color: #E2EBFA;\n",
              "      box-shadow: 0px 1px 2px rgba(60, 64, 67, 0.3), 0px 1px 3px 1px rgba(60, 64, 67, 0.15);\n",
              "      fill: #174EA6;\n",
              "    }\n",
              "\n",
              "    [theme=dark] .colab-df-convert {\n",
              "      background-color: #3B4455;\n",
              "      fill: #D2E3FC;\n",
              "    }\n",
              "\n",
              "    [theme=dark] .colab-df-convert:hover {\n",
              "      background-color: #434B5C;\n",
              "      box-shadow: 0px 1px 3px 1px rgba(0, 0, 0, 0.15);\n",
              "      filter: drop-shadow(0px 1px 2px rgba(0, 0, 0, 0.3));\n",
              "      fill: #FFFFFF;\n",
              "    }\n",
              "  </style>\n",
              "\n",
              "      <script>\n",
              "        const buttonEl =\n",
              "          document.querySelector('#df-4f782fff-15d9-4ee7-9962-25807d0d445e button.colab-df-convert');\n",
              "        buttonEl.style.display =\n",
              "          google.colab.kernel.accessAllowed ? 'block' : 'none';\n",
              "\n",
              "        async function convertToInteractive(key) {\n",
              "          const element = document.querySelector('#df-4f782fff-15d9-4ee7-9962-25807d0d445e');\n",
              "          const dataTable =\n",
              "            await google.colab.kernel.invokeFunction('convertToInteractive',\n",
              "                                                     [key], {});\n",
              "          if (!dataTable) return;\n",
              "\n",
              "          const docLinkHtml = 'Like what you see? Visit the ' +\n",
              "            '<a target=\"_blank\" href=https://colab.research.google.com/notebooks/data_table.ipynb>data table notebook</a>'\n",
              "            + ' to learn more about interactive tables.';\n",
              "          element.innerHTML = '';\n",
              "          dataTable['output_type'] = 'display_data';\n",
              "          await google.colab.output.renderOutput(dataTable, element);\n",
              "          const docLink = document.createElement('div');\n",
              "          docLink.innerHTML = docLinkHtml;\n",
              "          element.appendChild(docLink);\n",
              "        }\n",
              "      </script>\n",
              "    </div>\n",
              "  </div>\n",
              "  "
            ]
          },
          "metadata": {},
          "execution_count": 2
        }
      ],
      "source": [
        "# cargar datos\n",
        "df = pd.read_csv(\"https://raw.githubusercontent.com/fralfaro/MAT281_2022/main/labs/lab_06/data/anscombe.csv\")\n",
        "\n",
        "df.head()"
      ]
    },
    {
      "cell_type": "markdown",
      "metadata": {
        "id": "sZU_Kb2DYbPR"
      },
      "source": [
        "Basado en la información presentada responda las siguientes preguntas:\n",
        "\n",
        "1. Gráfique mediante un gráfico tipo **scatter** cada grupo. A simple vista, ¿ los grupos son muy distintos entre si?.\n",
        "2. Realice un resumen de las medidas estadísticas más significativas ocuapando el comando **describe** para cada grupo. Interprete.\n",
        "3. Realice un ajuste lineal para cada grupo. Además, grafique los resultados de la regresión lineal para cada grupo. Interprete.\n",
        "4. Calcule los resultados de las métricas para cada grupo. Interprete.\n",
        "5. Es claro que el ajuste lineal para algunos grupos no es el correcto. Existen varias formas de solucionar este problema (eliminar outliers, otros modelos, etc.). Identifique una estrategia para que el modelo de regresión lineal ajuste de mejor manera e implemente otros modelos en los casos que encuentre necesario.  "
      ]
    },
    {
      "cell_type": "markdown",
      "source": [
        "1. Gráfique mediante un gráfico tipo **scatter** cada grupo. A simple vista, ¿ los grupos son muy distintos entre si?."
      ],
      "metadata": {
        "id": "jt2NSZGkfyu0"
      }
    },
    {
      "cell_type": "code",
      "source": [
        "#Primero separemos cada grupo.\n",
        "G1= df[df[\"grupo\"] == \"Grupo_1\"]\n",
        "G2= df[df[\"grupo\"] == \"Grupo_2\"]\n",
        "G3 = df[df[\"grupo\"] == \"Grupo_3\"]\n",
        "G4 = df[df[\"grupo\"] == \"Grupo_4\"]"
      ],
      "metadata": {
        "id": "IQ5-voXYfzt1"
      },
      "execution_count": 3,
      "outputs": []
    },
    {
      "cell_type": "code",
      "source": [
        "#Grafiquemos primero todo junto:\n",
        "plt.figure(figsize=(10, 6)) #se utiliza el código usual para el gráfico\n",
        "sns.scatterplot( \n",
        "    x='x',\n",
        "    y='y',\n",
        "    hue='grupo', #se hace una leyenda por cada grupo\n",
        "    data=df, #se usa el df como la información\n",
        ")\n",
        "plt.title('Gráfico tipo scatter de datos')\n",
        "plt.show()"
      ],
      "metadata": {
        "id": "yY9bj4SUjVYZ",
        "outputId": "426961ba-be76-4183-d0af-480f1f1f2031",
        "colab": {
          "base_uri": "https://localhost:8080/",
          "height": 410
        }
      },
      "execution_count": 4,
      "outputs": [
        {
          "output_type": "display_data",
          "data": {
            "text/plain": [
              "<Figure size 720x432 with 1 Axes>"
            ],
            "image/png": "[encoded data removed]"
          },
          "metadata": {}
        }
      ]
    },
    {
      "cell_type": "code",
      "source": [
        "plt.figure(figsize=(10, 6)) #se utiliza el código usual para el gráfico\n",
        "sns.scatterplot( \n",
        "    x='x',\n",
        "    y='y',\n",
        "    data=G1, #se usa el G1 como la información\n",
        ")\n",
        "plt.title('Datos Grupo_1')\n",
        "plt.show()"
      ],
      "metadata": {
        "id": "XTSOrE9YjdX3",
        "outputId": "304e35b3-d15a-4567-e855-4965bc78059f",
        "colab": {
          "base_uri": "https://localhost:8080/",
          "height": 410
        }
      },
      "execution_count": 5,
      "outputs": [
        {
          "output_type": "display_data",
          "data": {
            "text/plain": [
              "<Figure size 720x432 with 1 Axes>"
            ],
            "image/png": "[encoded data removed]"
          },
          "metadata": {}
        }
      ]
    },
    {
      "cell_type": "code",
      "source": [
        "plt.figure(figsize=(10, 6)) #se utiliza el código usual para el gráfico\n",
        "sns.scatterplot( \n",
        "    x='x',\n",
        "    y='y',\n",
        "    data=G2, #se usa el G2 como la información\n",
        ")\n",
        "plt.title('Datos Grupo_2')\n",
        "plt.show()"
      ],
      "metadata": {
        "id": "_zDvPbhQjsIl",
        "outputId": "d458877d-5962-4d6a-ffeb-48dd9b25390d",
        "colab": {
          "base_uri": "https://localhost:8080/",
          "height": 410
        }
      },
      "execution_count": 6,
      "outputs": [
        {
          "output_type": "display_data",
          "data": {
            "text/plain": [
              "<Figure size 720x432 with 1 Axes>"
            ],
            "image/png": "[encoded data removed]"
          },
          "metadata": {}
        }
      ]
    },
    {
      "cell_type": "code",
      "source": [
        "plt.figure(figsize=(10, 6)) #se utiliza el código usual para el gráfico\n",
        "sns.scatterplot( \n",
        "    x='x',\n",
        "    y='y',\n",
        "    data=G3, #se usa el G3 como la información\n",
        ")\n",
        "plt.title('Datos Grupo_3')\n",
        "plt.show()"
      ],
      "metadata": {
        "id": "hSH9bqrxjxzV",
        "outputId": "d9f001d2-4d10-4730-fd15-f3464fe540a8",
        "colab": {
          "base_uri": "https://localhost:8080/",
          "height": 410
        }
      },
      "execution_count": 7,
      "outputs": [
        {
          "output_type": "display_data",
          "data": {
            "text/plain": [
              "<Figure size 720x432 with 1 Axes>"
            ],
            "image/png": "[encoded data removed]"
          },
          "metadata": {}
        }
      ]
    },
    {
      "cell_type": "code",
      "source": [
        "plt.figure(figsize=(10, 6)) #se utiliza el código usual para el gráfico\n",
        "sns.scatterplot( \n",
        "    x='x',\n",
        "    y='y',\n",
        "    data=G4, #se usa el G4 como la información\n",
        ")\n",
        "plt.title('Datos Grupo_4')\n",
        "plt.show()"
      ],
      "metadata": {
        "id": "uH247B3hj3zm",
        "outputId": "937a2321-6bb3-430a-8e27-8650601b744e",
        "colab": {
          "base_uri": "https://localhost:8080/",
          "height": 410
        }
      },
      "execution_count": 8,
      "outputs": [
        {
          "output_type": "display_data",
          "data": {
            "text/plain": [
              "<Figure size 720x432 with 1 Axes>"
            ],
            "image/png": "[encoded data removed]"
          },
          "metadata": {}
        }
      ]
    },
    {
      "cell_type": "markdown",
      "source": [
        "A simple vista, los grupos sí son muy distintos entre sí. Se puede notar que el grupo_2 sigue algo parecido a una parábola, el grupo_3 se parece a una recta, el grupo_4 está muy concentrado en una línea, y el grupo_1 está muy disperso."
      ],
      "metadata": {
        "id": "tBKWPRl5h5jk"
      }
    },
    {
      "cell_type": "markdown",
      "source": [
        "2. Realice un resumen de las medidas estadísticas más significativas ocuapando el comando **describe** para cada grupo. Interprete."
      ],
      "metadata": {
        "id": "hCTUpNwihxNk"
      }
    },
    {
      "cell_type": "code",
      "source": [
        "#Utilizando los grupos por separados, podemos, inmediatamente, describir los grupos:\n",
        "G1.describe()"
      ],
      "metadata": {
        "id": "o4ZsCxPEhyuC",
        "outputId": "a661fb3b-93c0-4c04-ee2e-935380f6ac3e",
        "colab": {
          "base_uri": "https://localhost:8080/",
          "height": 300
        }
      },
      "execution_count": 9,
      "outputs": [
        {
          "output_type": "execute_result",
          "data": {
            "text/plain": [
              "               x          y\n",
              "count  11.000000  11.000000\n",
              "mean    9.000000   7.500909\n",
              "std     3.316625   2.031568\n",
              "min     4.000000   4.260000\n",
              "25%     6.500000   6.315000\n",
              "50%     9.000000   7.580000\n",
              "75%    11.500000   8.570000\n",
              "max    14.000000  10.840000"
            ],
            "text/html": [
              "\n",
              "  <div id=\"df-51394c5e-7457-40e4-a814-77d647f93668\">\n",
              "    <div class=\"colab-df-container\">\n",
              "      <div>\n",
              "<style scoped>\n",
              "    .dataframe tbody tr th:only-of-type {\n",
              "        vertical-align: middle;\n",
              "    }\n",
              "\n",
              "    .dataframe tbody tr th {\n",
              "        vertical-align: top;\n",
              "    }\n",
              "\n",
              "    .dataframe thead th {\n",
              "        text-align: right;\n",
              "    }\n",
              "</style>\n",
              "<table border=\"1\" class=\"dataframe\">\n",
              "  <thead>\n",
              "    <tr style=\"text-align: right;\">\n",
              "      <th></th>\n",
              "      <th>x</th>\n",
              "      <th>y</th>\n",
              "    </tr>\n",
              "  </thead>\n",
              "  <tbody>\n",
              "    <tr>\n",
              "      <th>count</th>\n",
              "      <td>11.000000</td>\n",
              "      <td>11.000000</td>\n",
              "    </tr>\n",
              "    <tr>\n",
              "      <th>mean</th>\n",
              "      <td>9.000000</td>\n",
              "      <td>7.500909</td>\n",
              "    </tr>\n",
              "    <tr>\n",
              "      <th>std</th>\n",
              "      <td>3.316625</td>\n",
              "      <td>2.031568</td>\n",
              "    </tr>\n",
              "    <tr>\n",
              "      <th>min</th>\n",
              "      <td>4.000000</td>\n",
              "      <td>4.260000</td>\n",
              "    </tr>\n",
              "    <tr>\n",
              "      <th>25%</th>\n",
              "      <td>6.500000</td>\n",
              "      <td>6.315000</td>\n",
              "    </tr>\n",
              "    <tr>\n",
              "      <th>50%</th>\n",
              "      <td>9.000000</td>\n",
              "      <td>7.580000</td>\n",
              "    </tr>\n",
              "    <tr>\n",
              "      <th>75%</th>\n",
              "      <td>11.500000</td>\n",
              "      <td>8.570000</td>\n",
              "    </tr>\n",
              "    <tr>\n",
              "      <th>max</th>\n",
              "      <td>14.000000</td>\n",
              "      <td>10.840000</td>\n",
              "    </tr>\n",
              "  </tbody>\n",
              "</table>\n",
              "</div>\n",
              "      <button class=\"colab-df-convert\" onclick=\"convertToInteractive('df-51394c5e-7457-40e4-a814-77d647f93668')\"\n",
              "              title=\"Convert this dataframe to an interactive table.\"\n",
              "              style=\"display:none;\">\n",
              "        \n",
              "  <svg xmlns=\"http://www.w3.org/2000/svg\" height=\"24px\"viewBox=\"0 0 24 24\"\n",
              "       width=\"24px\">\n",
              "    <path d=\"M0 0h24v24H0V0z\" fill=\"none\"/>\n",
              "    <path d=\"M18.56 5.44l.94 2.06.94-2.06 2.06-.94-2.06-.94-.94-2.06-.94 2.06-2.06.94zm-11 1L8.5 8.5l.94-2.06 2.06-.94-2.06-.94L8.5 2.5l-.94 2.06-2.06.94zm10 10l.94 2.06.94-2.06 2.06-.94-2.06-.94-.94-2.06-.94 2.06-2.06.94z\"/><path d=\"M17.41 7.96l-1.37-1.37c-.4-.4-.92-.59-1.43-.59-.52 0-1.04.2-1.43.59L10.3 9.45l-7.72 7.72c-.78.78-.78 2.05 0 2.83L4 21.41c.39.39.9.59 1.41.59.51 0 1.02-.2 1.41-.59l7.78-7.78 2.81-2.81c.8-.78.8-2.07 0-2.86zM5.41 20L4 18.59l7.72-7.72 1.47 1.35L5.41 20z\"/>\n",
              "  </svg>\n",
              "      </button>\n",
              "      \n",
              "  <style>\n",
              "    .colab-df-container {\n",
              "      display:flex;\n",
              "      flex-wrap:wrap;\n",
              "      gap: 12px;\n",
              "    }\n",
              "\n",
              "    .colab-df-convert {\n",
              "      background-color: #E8F0FE;\n",
              "      border: none;\n",
              "      border-radius: 50%;\n",
              "      cursor: pointer;\n",
              "      display: none;\n",
              "      fill: #1967D2;\n",
              "      height: 32px;\n",
              "      padding: 0 0 0 0;\n",
              "      width: 32px;\n",
              "    }\n",
              "\n",
              "    .colab-df-convert:hover {\n",
              "      background-color: #E2EBFA;\n",
              "      box-shadow: 0px 1px 2px rgba(60, 64, 67, 0.3), 0px 1px 3px 1px rgba(60, 64, 67, 0.15);\n",
              "      fill: #174EA6;\n",
              "    }\n",
              "\n",
              "    [theme=dark] .colab-df-convert {\n",
              "      background-color: #3B4455;\n",
              "      fill: #D2E3FC;\n",
              "    }\n",
              "\n",
              "    [theme=dark] .colab-df-convert:hover {\n",
              "      background-color: #434B5C;\n",
              "      box-shadow: 0px 1px 3px 1px rgba(0, 0, 0, 0.15);\n",
              "      filter: drop-shadow(0px 1px 2px rgba(0, 0, 0, 0.3));\n",
              "      fill: #FFFFFF;\n",
              "    }\n",
              "  </style>\n",
              "\n",
              "      <script>\n",
              "        const buttonEl =\n",
              "          document.querySelector('#df-51394c5e-7457-40e4-a814-77d647f93668 button.colab-df-convert');\n",
              "        buttonEl.style.display =\n",
              "          google.colab.kernel.accessAllowed ? 'block' : 'none';\n",
              "\n",
              "        async function convertToInteractive(key) {\n",
              "          const element = document.querySelector('#df-51394c5e-7457-40e4-a814-77d647f93668');\n",
              "          const dataTable =\n",
              "            await google.colab.kernel.invokeFunction('convertToInteractive',\n",
              "                                                     [key], {});\n",
              "          if (!dataTable) return;\n",
              "\n",
              "          const docLinkHtml = 'Like what you see? Visit the ' +\n",
              "            '<a target=\"_blank\" href=https://colab.research.google.com/notebooks/data_table.ipynb>data table notebook</a>'\n",
              "            + ' to learn more about interactive tables.';\n",
              "          element.innerHTML = '';\n",
              "          dataTable['output_type'] = 'display_data';\n",
              "          await google.colab.output.renderOutput(dataTable, element);\n",
              "          const docLink = document.createElement('div');\n",
              "          docLink.innerHTML = docLinkHtml;\n",
              "          element.appendChild(docLink);\n",
              "        }\n",
              "      </script>\n",
              "    </div>\n",
              "  </div>\n",
              "  "
            ]
          },
          "metadata": {},
          "execution_count": 9
        }
      ]
    },
    {
      "cell_type": "code",
      "source": [
        "G2.describe()"
      ],
      "metadata": {
        "id": "uZpdLVlTkK1Q",
        "outputId": "40e082d9-2d7b-46be-d93a-2010ac39205a",
        "colab": {
          "base_uri": "https://localhost:8080/",
          "height": 300
        }
      },
      "execution_count": 10,
      "outputs": [
        {
          "output_type": "execute_result",
          "data": {
            "text/plain": [
              "               x          y\n",
              "count  11.000000  11.000000\n",
              "mean    9.000000   7.500909\n",
              "std     3.316625   2.031657\n",
              "min     4.000000   3.100000\n",
              "25%     6.500000   6.695000\n",
              "50%     9.000000   8.140000\n",
              "75%    11.500000   8.950000\n",
              "max    14.000000   9.260000"
            ],
            "text/html": [
              "\n",
              "  <div id=\"df-d76b5dca-c403-4470-b972-068c7c2d8f23\">\n",
              "    <div class=\"colab-df-container\">\n",
              "      <div>\n",
              "<style scoped>\n",
              "    .dataframe tbody tr th:only-of-type {\n",
              "        vertical-align: middle;\n",
              "    }\n",
              "\n",
              "    .dataframe tbody tr th {\n",
              "        vertical-align: top;\n",
              "    }\n",
              "\n",
              "    .dataframe thead th {\n",
              "        text-align: right;\n",
              "    }\n",
              "</style>\n",
              "<table border=\"1\" class=\"dataframe\">\n",
              "  <thead>\n",
              "    <tr style=\"text-align: right;\">\n",
              "      <th></th>\n",
              "      <th>x</th>\n",
              "      <th>y</th>\n",
              "    </tr>\n",
              "  </thead>\n",
              "  <tbody>\n",
              "    <tr>\n",
              "      <th>count</th>\n",
              "      <td>11.000000</td>\n",
              "      <td>11.000000</td>\n",
              "    </tr>\n",
              "    <tr>\n",
              "      <th>mean</th>\n",
              "      <td>9.000000</td>\n",
              "      <td>7.500909</td>\n",
              "    </tr>\n",
              "    <tr>\n",
              "      <th>std</th>\n",
              "      <td>3.316625</td>\n",
              "      <td>2.031657</td>\n",
              "    </tr>\n",
              "    <tr>\n",
              "      <th>min</th>\n",
              "      <td>4.000000</td>\n",
              "      <td>3.100000</td>\n",
              "    </tr>\n",
              "    <tr>\n",
              "      <th>25%</th>\n",
              "      <td>6.500000</td>\n",
              "      <td>6.695000</td>\n",
              "    </tr>\n",
              "    <tr>\n",
              "      <th>50%</th>\n",
              "      <td>9.000000</td>\n",
              "      <td>8.140000</td>\n",
              "    </tr>\n",
              "    <tr>\n",
              "      <th>75%</th>\n",
              "      <td>11.500000</td>\n",
              "      <td>8.950000</td>\n",
              "    </tr>\n",
              "    <tr>\n",
              "      <th>max</th>\n",
              "      <td>14.000000</td>\n",
              "      <td>9.260000</td>\n",
              "    </tr>\n",
              "  </tbody>\n",
              "</table>\n",
              "</div>\n",
              "      <button class=\"colab-df-convert\" onclick=\"convertToInteractive('df-d76b5dca-c403-4470-b972-068c7c2d8f23')\"\n",
              "              title=\"Convert this dataframe to an interactive table.\"\n",
              "              style=\"display:none;\">\n",
              "        \n",
              "  <svg xmlns=\"http://www.w3.org/2000/svg\" height=\"24px\"viewBox=\"0 0 24 24\"\n",
              "       width=\"24px\">\n",
              "    <path d=\"M0 0h24v24H0V0z\" fill=\"none\"/>\n",
              "    <path d=\"M18.56 5.44l.94 2.06.94-2.06 2.06-.94-2.06-.94-.94-2.06-.94 2.06-2.06.94zm-11 1L8.5 8.5l.94-2.06 2.06-.94-2.06-.94L8.5 2.5l-.94 2.06-2.06.94zm10 10l.94 2.06.94-2.06 2.06-.94-2.06-.94-.94-2.06-.94 2.06-2.06.94z\"/><path d=\"M17.41 7.96l-1.37-1.37c-.4-.4-.92-.59-1.43-.59-.52 0-1.04.2-1.43.59L10.3 9.45l-7.72 7.72c-.78.78-.78 2.05 0 2.83L4 21.41c.39.39.9.59 1.41.59.51 0 1.02-.2 1.41-.59l7.78-7.78 2.81-2.81c.8-.78.8-2.07 0-2.86zM5.41 20L4 18.59l7.72-7.72 1.47 1.35L5.41 20z\"/>\n",
              "  </svg>\n",
              "      </button>\n",
              "      \n",
              "  <style>\n",
              "    .colab-df-container {\n",
              "      display:flex;\n",
              "      flex-wrap:wrap;\n",
              "      gap: 12px;\n",
              "    }\n",
              "\n",
              "    .colab-df-convert {\n",
              "      background-color: #E8F0FE;\n",
              "      border: none;\n",
              "      border-radius: 50%;\n",
              "      cursor: pointer;\n",
              "      display: none;\n",
              "      fill: #1967D2;\n",
              "      height: 32px;\n",
              "      padding: 0 0 0 0;\n",
              "      width: 32px;\n",
              "    }\n",
              "\n",
              "    .colab-df-convert:hover {\n",
              "      background-color: #E2EBFA;\n",
              "      box-shadow: 0px 1px 2px rgba(60, 64, 67, 0.3), 0px 1px 3px 1px rgba(60, 64, 67, 0.15);\n",
              "      fill: #174EA6;\n",
              "    }\n",
              "\n",
              "    [theme=dark] .colab-df-convert {\n",
              "      background-color: #3B4455;\n",
              "      fill: #D2E3FC;\n",
              "    }\n",
              "\n",
              "    [theme=dark] .colab-df-convert:hover {\n",
              "      background-color: #434B5C;\n",
              "      box-shadow: 0px 1px 3px 1px rgba(0, 0, 0, 0.15);\n",
              "      filter: drop-shadow(0px 1px 2px rgba(0, 0, 0, 0.3));\n",
              "      fill: #FFFFFF;\n",
              "    }\n",
              "  </style>\n",
              "\n",
              "      <script>\n",
              "        const buttonEl =\n",
              "          document.querySelector('#df-d76b5dca-c403-4470-b972-068c7c2d8f23 button.colab-df-convert');\n",
              "        buttonEl.style.display =\n",
              "          google.colab.kernel.accessAllowed ? 'block' : 'none';\n",
              "\n",
              "        async function convertToInteractive(key) {\n",
              "          const element = document.querySelector('#df-d76b5dca-c403-4470-b972-068c7c2d8f23');\n",
              "          const dataTable =\n",
              "            await google.colab.kernel.invokeFunction('convertToInteractive',\n",
              "                                                     [key], {});\n",
              "          if (!dataTable) return;\n",
              "\n",
              "          const docLinkHtml = 'Like what you see? Visit the ' +\n",
              "            '<a target=\"_blank\" href=https://colab.research.google.com/notebooks/data_table.ipynb>data table notebook</a>'\n",
              "            + ' to learn more about interactive tables.';\n",
              "          element.innerHTML = '';\n",
              "          dataTable['output_type'] = 'display_data';\n",
              "          await google.colab.output.renderOutput(dataTable, element);\n",
              "          const docLink = document.createElement('div');\n",
              "          docLink.innerHTML = docLinkHtml;\n",
              "          element.appendChild(docLink);\n",
              "        }\n",
              "      </script>\n",
              "    </div>\n",
              "  </div>\n",
              "  "
            ]
          },
          "metadata": {},
          "execution_count": 10
        }
      ]
    },
    {
      "cell_type": "code",
      "source": [
        "G3.describe()"
      ],
      "metadata": {
        "id": "uDIsJiEakXpe",
        "outputId": "b7763446-02b8-463c-9e9f-a43680e41927",
        "colab": {
          "base_uri": "https://localhost:8080/",
          "height": 300
        }
      },
      "execution_count": 11,
      "outputs": [
        {
          "output_type": "execute_result",
          "data": {
            "text/plain": [
              "               x          y\n",
              "count  11.000000  11.000000\n",
              "mean    9.000000   7.500000\n",
              "std     3.316625   2.030424\n",
              "min     4.000000   5.390000\n",
              "25%     6.500000   6.250000\n",
              "50%     9.000000   7.110000\n",
              "75%    11.500000   7.980000\n",
              "max    14.000000  12.740000"
            ],
            "text/html": [
              "\n",
              "  <div id=\"df-a317231b-5a7c-4bc0-adcd-a884653922ca\">\n",
              "    <div class=\"colab-df-container\">\n",
              "      <div>\n",
              "<style scoped>\n",
              "    .dataframe tbody tr th:only-of-type {\n",
              "        vertical-align: middle;\n",
              "    }\n",
              "\n",
              "    .dataframe tbody tr th {\n",
              "        vertical-align: top;\n",
              "    }\n",
              "\n",
              "    .dataframe thead th {\n",
              "        text-align: right;\n",
              "    }\n",
              "</style>\n",
              "<table border=\"1\" class=\"dataframe\">\n",
              "  <thead>\n",
              "    <tr style=\"text-align: right;\">\n",
              "      <th></th>\n",
              "      <th>x</th>\n",
              "      <th>y</th>\n",
              "    </tr>\n",
              "  </thead>\n",
              "  <tbody>\n",
              "    <tr>\n",
              "      <th>count</th>\n",
              "      <td>11.000000</td>\n",
              "      <td>11.000000</td>\n",
              "    </tr>\n",
              "    <tr>\n",
              "      <th>mean</th>\n",
              "      <td>9.000000</td>\n",
              "      <td>7.500000</td>\n",
              "    </tr>\n",
              "    <tr>\n",
              "      <th>std</th>\n",
              "      <td>3.316625</td>\n",
              "      <td>2.030424</td>\n",
              "    </tr>\n",
              "    <tr>\n",
              "      <th>min</th>\n",
              "      <td>4.000000</td>\n",
              "      <td>5.390000</td>\n",
              "    </tr>\n",
              "    <tr>\n",
              "      <th>25%</th>\n",
              "      <td>6.500000</td>\n",
              "      <td>6.250000</td>\n",
              "    </tr>\n",
              "    <tr>\n",
              "      <th>50%</th>\n",
              "      <td>9.000000</td>\n",
              "      <td>7.110000</td>\n",
              "    </tr>\n",
              "    <tr>\n",
              "      <th>75%</th>\n",
              "      <td>11.500000</td>\n",
              "      <td>7.980000</td>\n",
              "    </tr>\n",
              "    <tr>\n",
              "      <th>max</th>\n",
              "      <td>14.000000</td>\n",
              "      <td>12.740000</td>\n",
              "    </tr>\n",
              "  </tbody>\n",
              "</table>\n",
              "</div>\n",
              "      <button class=\"colab-df-convert\" onclick=\"convertToInteractive('df-a317231b-5a7c-4bc0-adcd-a884653922ca')\"\n",
              "              title=\"Convert this dataframe to an interactive table.\"\n",
              "              style=\"display:none;\">\n",
              "        \n",
              "  <svg xmlns=\"http://www.w3.org/2000/svg\" height=\"24px\"viewBox=\"0 0 24 24\"\n",
              "       width=\"24px\">\n",
              "    <path d=\"M0 0h24v24H0V0z\" fill=\"none\"/>\n",
              "    <path d=\"M18.56 5.44l.94 2.06.94-2.06 2.06-.94-2.06-.94-.94-2.06-.94 2.06-2.06.94zm-11 1L8.5 8.5l.94-2.06 2.06-.94-2.06-.94L8.5 2.5l-.94 2.06-2.06.94zm10 10l.94 2.06.94-2.06 2.06-.94-2.06-.94-.94-2.06-.94 2.06-2.06.94z\"/><path d=\"M17.41 7.96l-1.37-1.37c-.4-.4-.92-.59-1.43-.59-.52 0-1.04.2-1.43.59L10.3 9.45l-7.72 7.72c-.78.78-.78 2.05 0 2.83L4 21.41c.39.39.9.59 1.41.59.51 0 1.02-.2 1.41-.59l7.78-7.78 2.81-2.81c.8-.78.8-2.07 0-2.86zM5.41 20L4 18.59l7.72-7.72 1.47 1.35L5.41 20z\"/>\n",
              "  </svg>\n",
              "      </button>\n",
              "      \n",
              "  <style>\n",
              "    .colab-df-container {\n",
              "      display:flex;\n",
              "      flex-wrap:wrap;\n",
              "      gap: 12px;\n",
              "    }\n",
              "\n",
              "    .colab-df-convert {\n",
              "      background-color: #E8F0FE;\n",
              "      border: none;\n",
              "      border-radius: 50%;\n",
              "      cursor: pointer;\n",
              "      display: none;\n",
              "      fill: #1967D2;\n",
              "      height: 32px;\n",
              "      padding: 0 0 0 0;\n",
              "      width: 32px;\n",
              "    }\n",
              "\n",
              "    .colab-df-convert:hover {\n",
              "      background-color: #E2EBFA;\n",
              "      box-shadow: 0px 1px 2px rgba(60, 64, 67, 0.3), 0px 1px 3px 1px rgba(60, 64, 67, 0.15);\n",
              "      fill: #174EA6;\n",
              "    }\n",
              "\n",
              "    [theme=dark] .colab-df-convert {\n",
              "      background-color: #3B4455;\n",
              "      fill: #D2E3FC;\n",
              "    }\n",
              "\n",
              "    [theme=dark] .colab-df-convert:hover {\n",
              "      background-color: #434B5C;\n",
              "      box-shadow: 0px 1px 3px 1px rgba(0, 0, 0, 0.15);\n",
              "      filter: drop-shadow(0px 1px 2px rgba(0, 0, 0, 0.3));\n",
              "      fill: #FFFFFF;\n",
              "    }\n",
              "  </style>\n",
              "\n",
              "      <script>\n",
              "        const buttonEl =\n",
              "          document.querySelector('#df-a317231b-5a7c-4bc0-adcd-a884653922ca button.colab-df-convert');\n",
              "        buttonEl.style.display =\n",
              "          google.colab.kernel.accessAllowed ? 'block' : 'none';\n",
              "\n",
              "        async function convertToInteractive(key) {\n",
              "          const element = document.querySelector('#df-a317231b-5a7c-4bc0-adcd-a884653922ca');\n",
              "          const dataTable =\n",
              "            await google.colab.kernel.invokeFunction('convertToInteractive',\n",
              "                                                     [key], {});\n",
              "          if (!dataTable) return;\n",
              "\n",
              "          const docLinkHtml = 'Like what you see? Visit the ' +\n",
              "            '<a target=\"_blank\" href=https://colab.research.google.com/notebooks/data_table.ipynb>data table notebook</a>'\n",
              "            + ' to learn more about interactive tables.';\n",
              "          element.innerHTML = '';\n",
              "          dataTable['output_type'] = 'display_data';\n",
              "          await google.colab.output.renderOutput(dataTable, element);\n",
              "          const docLink = document.createElement('div');\n",
              "          docLink.innerHTML = docLinkHtml;\n",
              "          element.appendChild(docLink);\n",
              "        }\n",
              "      </script>\n",
              "    </div>\n",
              "  </div>\n",
              "  "
            ]
          },
          "metadata": {},
          "execution_count": 11
        }
      ]
    },
    {
      "cell_type": "code",
      "source": [
        "G4.describe()"
      ],
      "metadata": {
        "id": "9ITRO16EkZph",
        "outputId": "54df82f8-a6c7-43ce-c21d-bf8140d41c09",
        "colab": {
          "base_uri": "https://localhost:8080/",
          "height": 300
        }
      },
      "execution_count": 12,
      "outputs": [
        {
          "output_type": "execute_result",
          "data": {
            "text/plain": [
              "               x          y\n",
              "count  11.000000  11.000000\n",
              "mean    9.000000   7.500909\n",
              "std     3.316625   2.030579\n",
              "min     8.000000   5.250000\n",
              "25%     8.000000   6.170000\n",
              "50%     8.000000   7.040000\n",
              "75%     8.000000   8.190000\n",
              "max    19.000000  12.500000"
            ],
            "text/html": [
              "\n",
              "  <div id=\"df-6967845f-930a-47c9-8653-eac0571a7c3a\">\n",
              "    <div class=\"colab-df-container\">\n",
              "      <div>\n",
              "<style scoped>\n",
              "    .dataframe tbody tr th:only-of-type {\n",
              "        vertical-align: middle;\n",
              "    }\n",
              "\n",
              "    .dataframe tbody tr th {\n",
              "        vertical-align: top;\n",
              "    }\n",
              "\n",
              "    .dataframe thead th {\n",
              "        text-align: right;\n",
              "    }\n",
              "</style>\n",
              "<table border=\"1\" class=\"dataframe\">\n",
              "  <thead>\n",
              "    <tr style=\"text-align: right;\">\n",
              "      <th></th>\n",
              "      <th>x</th>\n",
              "      <th>y</th>\n",
              "    </tr>\n",
              "  </thead>\n",
              "  <tbody>\n",
              "    <tr>\n",
              "      <th>count</th>\n",
              "      <td>11.000000</td>\n",
              "      <td>11.000000</td>\n",
              "    </tr>\n",
              "    <tr>\n",
              "      <th>mean</th>\n",
              "      <td>9.000000</td>\n",
              "      <td>7.500909</td>\n",
              "    </tr>\n",
              "    <tr>\n",
              "      <th>std</th>\n",
              "      <td>3.316625</td>\n",
              "      <td>2.030579</td>\n",
              "    </tr>\n",
              "    <tr>\n",
              "      <th>min</th>\n",
              "      <td>8.000000</td>\n",
              "      <td>5.250000</td>\n",
              "    </tr>\n",
              "    <tr>\n",
              "      <th>25%</th>\n",
              "      <td>8.000000</td>\n",
              "      <td>6.170000</td>\n",
              "    </tr>\n",
              "    <tr>\n",
              "      <th>50%</th>\n",
              "      <td>8.000000</td>\n",
              "      <td>7.040000</td>\n",
              "    </tr>\n",
              "    <tr>\n",
              "      <th>75%</th>\n",
              "      <td>8.000000</td>\n",
              "      <td>8.190000</td>\n",
              "    </tr>\n",
              "    <tr>\n",
              "      <th>max</th>\n",
              "      <td>19.000000</td>\n",
              "      <td>12.500000</td>\n",
              "    </tr>\n",
              "  </tbody>\n",
              "</table>\n",
              "</div>\n",
              "      <button class=\"colab-df-convert\" onclick=\"convertToInteractive('df-6967845f-930a-47c9-8653-eac0571a7c3a')\"\n",
              "              title=\"Convert this dataframe to an interactive table.\"\n",
              "              style=\"display:none;\">\n",
              "        \n",
              "  <svg xmlns=\"http://www.w3.org/2000/svg\" height=\"24px\"viewBox=\"0 0 24 24\"\n",
              "       width=\"24px\">\n",
              "    <path d=\"M0 0h24v24H0V0z\" fill=\"none\"/>\n",
              "    <path d=\"M18.56 5.44l.94 2.06.94-2.06 2.06-.94-2.06-.94-.94-2.06-.94 2.06-2.06.94zm-11 1L8.5 8.5l.94-2.06 2.06-.94-2.06-.94L8.5 2.5l-.94 2.06-2.06.94zm10 10l.94 2.06.94-2.06 2.06-.94-2.06-.94-.94-2.06-.94 2.06-2.06.94z\"/><path d=\"M17.41 7.96l-1.37-1.37c-.4-.4-.92-.59-1.43-.59-.52 0-1.04.2-1.43.59L10.3 9.45l-7.72 7.72c-.78.78-.78 2.05 0 2.83L4 21.41c.39.39.9.59 1.41.59.51 0 1.02-.2 1.41-.59l7.78-7.78 2.81-2.81c.8-.78.8-2.07 0-2.86zM5.41 20L4 18.59l7.72-7.72 1.47 1.35L5.41 20z\"/>\n",
              "  </svg>\n",
              "      </button>\n",
              "      \n",
              "  <style>\n",
              "    .colab-df-container {\n",
              "      display:flex;\n",
              "      flex-wrap:wrap;\n",
              "      gap: 12px;\n",
              "    }\n",
              "\n",
              "    .colab-df-convert {\n",
              "      background-color: #E8F0FE;\n",
              "      border: none;\n",
              "      border-radius: 50%;\n",
              "      cursor: pointer;\n",
              "      display: none;\n",
              "      fill: #1967D2;\n",
              "      height: 32px;\n",
              "      padding: 0 0 0 0;\n",
              "      width: 32px;\n",
              "    }\n",
              "\n",
              "    .colab-df-convert:hover {\n",
              "      background-color: #E2EBFA;\n",
              "      box-shadow: 0px 1px 2px rgba(60, 64, 67, 0.3), 0px 1px 3px 1px rgba(60, 64, 67, 0.15);\n",
              "      fill: #174EA6;\n",
              "    }\n",
              "\n",
              "    [theme=dark] .colab-df-convert {\n",
              "      background-color: #3B4455;\n",
              "      fill: #D2E3FC;\n",
              "    }\n",
              "\n",
              "    [theme=dark] .colab-df-convert:hover {\n",
              "      background-color: #434B5C;\n",
              "      box-shadow: 0px 1px 3px 1px rgba(0, 0, 0, 0.15);\n",
              "      filter: drop-shadow(0px 1px 2px rgba(0, 0, 0, 0.3));\n",
              "      fill: #FFFFFF;\n",
              "    }\n",
              "  </style>\n",
              "\n",
              "      <script>\n",
              "        const buttonEl =\n",
              "          document.querySelector('#df-6967845f-930a-47c9-8653-eac0571a7c3a button.colab-df-convert');\n",
              "        buttonEl.style.display =\n",
              "          google.colab.kernel.accessAllowed ? 'block' : 'none';\n",
              "\n",
              "        async function convertToInteractive(key) {\n",
              "          const element = document.querySelector('#df-6967845f-930a-47c9-8653-eac0571a7c3a');\n",
              "          const dataTable =\n",
              "            await google.colab.kernel.invokeFunction('convertToInteractive',\n",
              "                                                     [key], {});\n",
              "          if (!dataTable) return;\n",
              "\n",
              "          const docLinkHtml = 'Like what you see? Visit the ' +\n",
              "            '<a target=\"_blank\" href=https://colab.research.google.com/notebooks/data_table.ipynb>data table notebook</a>'\n",
              "            + ' to learn more about interactive tables.';\n",
              "          element.innerHTML = '';\n",
              "          dataTable['output_type'] = 'display_data';\n",
              "          await google.colab.output.renderOutput(dataTable, element);\n",
              "          const docLink = document.createElement('div');\n",
              "          docLink.innerHTML = docLinkHtml;\n",
              "          element.appendChild(docLink);\n",
              "        }\n",
              "      </script>\n",
              "    </div>\n",
              "  </div>\n",
              "  "
            ]
          },
          "metadata": {},
          "execution_count": 12
        }
      ]
    },
    {
      "cell_type": "markdown",
      "source": [
        "Se observa que, a pesar de lo distintos que son los grupos, tienen datos, como la media y la desviación estándar, en común."
      ],
      "metadata": {
        "id": "INZJg8rSkbrh"
      }
    },
    {
      "cell_type": "markdown",
      "source": [
        "3. Realice un ajuste lineal para cada grupo. Además, grafique los resultados de la regresión lineal para cada grupo. Interprete."
      ],
      "metadata": {
        "id": "atWOOjzMkxIE"
      }
    },
    {
      "cell_type": "code",
      "source": [
        "import matplotlib.pyplot as plt \n",
        "from scipy import stats \n",
        "\n",
        "def myfunc(x): #creamos una función que crea el ajuste lineal\n",
        "  return slope * x + intercept\n",
        "\n",
        "#Usamos un reajuste de regresión lineal\n",
        "x1= G1['x']\n",
        "y1 = G1['y']\n",
        "\n",
        "slope, intercept, r, p, std_err = stats.linregress(x1, y1)\n",
        "\n",
        "mymodel1 = list(map(myfunc, x1))\n",
        "\n",
        "plt.scatter(x1, y1) #ploteamos los puntos\n",
        "plt.plot(x1, mymodel1) #ploteamos la regresión\n",
        "plt.title('Regresión lineal grupo_1')\n",
        "plt.show()"
      ],
      "metadata": {
        "id": "21go9YUYk4k2",
        "outputId": "a9540489-c33c-4899-a6cb-7bc50b9c870c",
        "colab": {
          "base_uri": "https://localhost:8080/",
          "height": 516
        }
      },
      "execution_count": 15,
      "outputs": [
        {
          "output_type": "display_data",
          "data": {
            "text/plain": [
              "<Figure size 842.4x595.44 with 1 Axes>"
            ],
            "image/png": "[encoded data removed]"
          },
          "metadata": {}
        }
      ]
    },
    {
      "cell_type": "code",
      "source": [
        "#Usamos un reajuste de regresión lineal\n",
        "x2= G2['x']\n",
        "y2 = G2['y']\n",
        "\n",
        "slope, intercept, r, p, std_err = stats.linregress(x2, y2)\n",
        "\n",
        "mymodel2 = list(map(myfunc, x2))\n",
        "\n",
        "plt.scatter(x2, y2)\n",
        "plt.plot(x2, mymodel2)\n",
        "plt.title('Regresión lineal grupo_1')\n",
        "plt.show()"
      ],
      "metadata": {
        "id": "3Q1Mfn1FpQfe",
        "outputId": "53d15ecc-5713-495c-fa7f-af33ee77433f",
        "colab": {
          "base_uri": "https://localhost:8080/",
          "height": 516
        }
      },
      "execution_count": 16,
      "outputs": [
        {
          "output_type": "display_data",
          "data": {
            "text/plain": [
              "<Figure size 842.4x595.44 with 1 Axes>"
            ],
            "image/png": "[encoded data removed]"
          },
          "metadata": {}
        }
      ]
    },
    {
      "cell_type": "code",
      "source": [
        "#Usamos un reajuste de regresión lineal\n",
        "x3= G3['x']\n",
        "y3 = G3['y']\n",
        "\n",
        "slope, intercept, r, p, std_err = stats.linregress(x3, y3)\n",
        "\n",
        "mymodel3 = list(map(myfunc, x3))\n",
        "\n",
        "plt.scatter(x3, y3)\n",
        "plt.plot(x3, mymodel3)\n",
        "plt.title('Regresión lineal grupo_3')\n",
        "plt.show()"
      ],
      "metadata": {
        "id": "JZs_NjdDpg-Z",
        "outputId": "7823a85e-32bc-40d1-c49e-cad278487d68",
        "colab": {
          "base_uri": "https://localhost:8080/",
          "height": 516
        }
      },
      "execution_count": 17,
      "outputs": [
        {
          "output_type": "display_data",
          "data": {
            "text/plain": [
              "<Figure size 842.4x595.44 with 1 Axes>"
            ],
            "image/png": "[encoded data removed]"
          },
          "metadata": {}
        }
      ]
    },
    {
      "cell_type": "code",
      "source": [
        "#Usamos un reajuste de regresión lineal\n",
        "x4 = G4['x']\n",
        "y4 = G4['y']\n",
        "\n",
        "slope, intercept, r, p, std_err = stats.linregress(x4, y4)\n",
        "\n",
        "mymodel4 = list(map(myfunc, x4))\n",
        "\n",
        "plt.scatter(x4, y4)\n",
        "plt.plot(x4, mymodel4)\n",
        "plt.title('Regresión lineal grupo_4')\n",
        "plt.show()"
      ],
      "metadata": {
        "id": "DrZiOlFupm_1",
        "outputId": "0eefe0ac-5954-49f0-e4f9-e9e3bac5a711",
        "colab": {
          "base_uri": "https://localhost:8080/",
          "height": 516
        }
      },
      "execution_count": 46,
      "outputs": [
        {
          "output_type": "display_data",
          "data": {
            "text/plain": [
              "<Figure size 842.4x595.44 with 1 Axes>"
            ],
            "image/png": "[encoded data removed]"
          },
          "metadata": {}
        }
      ]
    },
    {
      "cell_type": "markdown",
      "source": [
        "Podemos ver que el reajuste lineal no es bueno para los gráficos 1, 2 y 4; y para el gráfico 3, si bien es parecido, la dispresión de unos pocos datos hace que no sea muy fidedigno."
      ],
      "metadata": {
        "id": "0tHHQT4Qp-9q"
      }
    },
    {
      "cell_type": "markdown",
      "source": [
        "4. Calcule los resultados de las métricas para cada grupo. Interprete."
      ],
      "metadata": {
        "id": "BpHYXJeCrUSp"
      }
    },
    {
      "cell_type": "code",
      "source": [
        "#Copiamos y pegamos los códigos realizados \n",
        "def mae(y, yhat) -> float:\n",
        "    \"\"\"\n",
        "    Calculo de la metrica: mean absolute error (MAE)\n",
        "    \"\"\"\n",
        "    # agregar codigo \n",
        "    metrica = 0\n",
        "    n = len(y)\n",
        "    suma=sum(abs(y-yhat))\n",
        "    metrica = suma/n\n",
        "\n",
        "    return metrica\n",
        "\n",
        "def rmse(y, yhat) -> float:\n",
        "    \"\"\"\n",
        "    Calculo de la metrica: root mean squared error (RMSE)\n",
        "    \"\"\"\n",
        "    # agregar codigo \n",
        "    metrica = 0\n",
        "    n = len(y)\n",
        "    suma=sum((y-yhat)**2)\n",
        "    metrica = suma/n\n",
        "    \n",
        "    return metrica\n",
        "\n",
        "def mape(y, yhat) -> float:\n",
        "    \"\"\"\n",
        "    Calculo de la metrica: mean absolute percentage error (MAPE)\n",
        "    \"\"\"\n",
        "    # agregar codigo \n",
        "    metrica = 0\n",
        "    n = len(y)\n",
        "    suma=sum(abs((y-yhat))/y)\n",
        "    metrica=suma/n\n",
        "    \n",
        "    return metrica\n",
        "\n",
        "def smape(y, yhat) -> float:\n",
        "    \"\"\"\n",
        "    Calculo de la metrica: symmetric mean absolute percentage error (SMAPE)\n",
        "    \"\"\"\n",
        "    # agregar codigo \n",
        "    metrica = 0\n",
        "    n = len(y)\n",
        "    suma=sum((2*abs(y-yhat))/((y**2)+(yhat**2)))\n",
        "    metrica = suma/n\n",
        "    \n",
        "    return metrica\n",
        "\n",
        "\n",
        "def rsquared(y, yhat) -> float:\n",
        "    \"\"\"\n",
        "    Calculo del r-cuadrado\n",
        "    \"\"\"\n",
        "    # agregar codigo \n",
        "    metrica = 0\n",
        "\n",
        "    suma_y=sum(y)\n",
        "    n=len(y)\n",
        "    prom_y=suma_y/n\n",
        "\n",
        "    SSreg=sum((yhat-prom_y)**2)\n",
        "    SSres=sum((y-yhat)**2) \n",
        "    SStot=SSres+SSreg\n",
        "    \n",
        "    metrica = SSreg/SStot\n",
        "\n",
        "    return metrica"
      ],
      "metadata": {
        "id": "zyJxqg_Q2Zqq"
      },
      "execution_count": 79,
      "outputs": []
    },
    {
      "cell_type": "code",
      "source": [
        "#MAE\n",
        "mae1=mae(np.array(y1), np.array(mymodel1))\n",
        "mae2=mae(np.array(y2), np.array(mymodel2))\n",
        "mae3=mae(np.array(y3), np.array(mymodel3))\n",
        "mae4=mae(np.array(y4), np.array(mymodel4))\n",
        "\n",
        "#RMSE\n",
        "rmse1=rmse(np.array(y1), np.array(mymodel1))\n",
        "rmse2=rmse(np.array(y2), np.array(mymodel2))\n",
        "rmse3=rmse(np.array(y3), np.array(mymodel3))\n",
        "rmse4=rmse(np.array(y4), np.array(mymodel4))\n",
        "\n",
        "#MAPE\n",
        "mape1=mape(np.array(y1), np.array(mymodel1))\n",
        "mape2=mape(np.array(y2), np.array(mymodel2))\n",
        "mape3=mape(np.array(y3), np.array(mymodel3))\n",
        "mape4=mape(np.array(y4), np.array(mymodel4))\n",
        "\n",
        "#SMAPE\n",
        "smape1=smape(np.array(y1), np.array(mymodel1))\n",
        "smape2=smape(np.array(y2), np.array(mymodel2))\n",
        "smape3=smape(np.array(y3), np.array(mymodel3))\n",
        "smape4=smape(np.array(y4), np.array(mymodel4))\n",
        "\n",
        "#R2\n",
        "r1=rsquared(np.array(y1),np.array(mymodel1))\n",
        "r2=rsquared(np.array(y2),np.array(mymodel2))\n",
        "r3=rsquared(np.array(y3),np.array(mymodel3))\n",
        "r4=rsquared(np.array(y4),np.array(mymodel4))"
      ],
      "metadata": {
        "id": "Ds2n5WFempLF"
      },
      "execution_count": 84,
      "outputs": []
    },
    {
      "cell_type": "code",
      "source": [
        "Grup_1 = {\"MAE\":mae1,\n",
        "          \"RMSE\":rmse1,\n",
        "          \"MAPE\":mape1,\n",
        "          \"SMAPE\":smape1,\n",
        "          \"R2\":r1}\n",
        "print(\"Grupo_1:\",Grup_1)\n",
        "\n",
        "Grup_2 = {\"MAE\":mae2,\n",
        "          \"RMSE\":rmse2,\n",
        "          \"MAPE\":mape2,\n",
        "          \"SMAPE\":smape2,\n",
        "          \"R2\":r2}\n",
        "print(\"Grupo_2:\",Grup_2)\n",
        "\n",
        "Grup_3 = {\"MAE\":mae3,\n",
        "          \"RMSE\":rmse3,\n",
        "          \"MAPE\":mape3,\n",
        "          \"SMAPE\":smape3,\n",
        "          \"R2\":r3}\n",
        "print(\"Grupo_3:\",Grup_3)\n",
        "\n",
        "Grup_4 = {\"MAE\":mae4,\n",
        "          \"RMSE\":rmse4,\n",
        "          \"MAPE\":mape4,\n",
        "          \"SMAPE\":smape4,\n",
        "          \"R2\":r4}\n",
        "print(\"Grupo_4:\",Grup_4)"
      ],
      "metadata": {
        "colab": {
          "base_uri": "https://localhost:8080/"
        },
        "id": "dtGTkX9soeGx",
        "outputId": "c16faa1a-4a80-41cb-d523-c0b6938d0c71"
      },
      "execution_count": 93,
      "outputs": [
        {
          "output_type": "stream",
          "name": "stdout",
          "text": [
            "Grupo_1: {'MAE': 0.8374049586776859, 'RMSE': 1.2511536363636362, 'MAPE': 0.12125783477322831, 'SMAPE': 0.017090017093981013, 'R2': 0.666542459508775}\n",
            "Grupo_2: {'MAE': 0.9679338842975209, 'RMSE': 1.2523900826446281, 'MAPE': 0.1569518620016047, 'SMAPE': 0.023245541223740174, 'R2': 0.6662420337274844}\n",
            "Grupo_3: {'MAE': 0.7159669421487608, 'RMSE': 1.250562892561984, 'MAPE': 0.07970727611180324, 'SMAPE': 0.009769328725785172, 'R2': 0.6663240410665592}\n",
            "Grupo_4: {'MAE': 0.9027272727272727, 'RMSE': 1.249317272727273, 'MAPE': 0.13473848647069778, 'SMAPE': 0.0188020540085755, 'R2': 0.6667072568984653}\n"
          ]
        }
      ]
    },
    {
      "cell_type": "markdown",
      "source": [
        "Se puede ver que la interpolación de datos por modelo de regresión lineal no es la mejor."
      ],
      "metadata": {
        "id": "sag34JXJql2P"
      }
    },
    {
      "cell_type": "markdown",
      "source": [
        "5. Es claro que el ajuste lineal para algunos grupos no es el correcto. Existen varias formas de solucionar este problema (eliminar outliers, otros modelos, etc.). Identifique una estrategia para que el modelo de regresión lineal ajuste de mejor manera e implemente otros modelos en los casos que encuentre necesario.  "
      ],
      "metadata": {
        "id": "aRqBboNGrevQ"
      }
    },
    {
      "cell_type": "markdown",
      "source": [
        "Haremos un reajuste para el grupo 2 y grupo 3; el grupo 1 tiene datos muy aleatorios, y el grupo 4 tiene datos muy juntos en un solo punto de el eje x."
      ],
      "metadata": {
        "id": "7lgrcYo7sSBc"
      }
    },
    {
      "cell_type": "code",
      "source": [
        "#Podemos crear un ajuste polinomico para el grupo 2\n",
        "from sklearn.preprocessing import PolynomialFeatures\n",
        "import numpy as np\n",
        "\n",
        "x=G2['x'] #fijamos el eje x\n",
        "y=G2['y'] #fijamos el eje\n",
        "line = np.linspace(3,15,30)\n",
        "polymodel = np.poly1d(np.polyfit(x, y, 2)) #reajustamos el modelo con un polinomio de grado 2\n",
        "\n",
        "plt.scatter(x, y) #graficamos los puntos\n",
        "plt.plot(line, polymodel(line)) #graficamos el polinomio\n",
        "plt.show()\n",
        "\n",
        "rsquared(np.array(y), np.array(polymodel(x))) #además, podemos ver el r^2 para el reajuste"
      ],
      "metadata": {
        "colab": {
          "base_uri": "https://localhost:8080/",
          "height": 518
        },
        "id": "xbHX_l0YUamP",
        "outputId": "affd0de2-d0b6-4538-b528-a9e3160593ea"
      },
      "execution_count": 101,
      "outputs": [
        {
          "output_type": "display_data",
          "data": {
            "text/plain": [
              "<Figure size 842.4x595.44 with 1 Axes>"
            ],
            "image/png": "[encoded data removed]"
          },
          "metadata": {}
        },
        {
          "output_type": "execute_result",
          "data": {
            "text/plain": [
              "0.999999457857722"
            ]
          },
          "metadata": {},
          "execution_count": 101
        }
      ]
    },
    {
      "cell_type": "code",
      "source": [
        "#Podemos quitar un dato al grupo 3\n",
        "NewG3 = G3.drop(24) #Quitamos el dato \n",
        "x = NewG3[\"x\"]\n",
        "y = NewG3[\"y\"]\n",
        "linearmodel = np.poly1d(np.polyfit(x, y, 1)) #creamos un reajuste polinomial de grado 1\n",
        "line = np.linspace(3,15,30)\n",
        "plt.scatter(x, y)\n",
        "plt.plot(line, linearmodel(line))\n",
        "plt.show()\n",
        "\n",
        "rsquared(np.array(y), np.array(linearmodel(x))) #además, podemos ver el r^2 para el reajuste"
      ],
      "metadata": {
        "colab": {
          "base_uri": "https://localhost:8080/",
          "height": 518
        },
        "id": "gjM5Fljlg7oM",
        "outputId": "25cca298-76d4-4eb1-8a76-56ddf7088572"
      },
      "execution_count": 99,
      "outputs": [
        {
          "output_type": "display_data",
          "data": {
            "text/plain": [
              "<Figure size 842.4x595.44 with 1 Axes>"
            ],
            "image/png": "[encoded data removed]"
          },
          "metadata": {}
        },
        {
          "output_type": "execute_result",
          "data": {
            "text/plain": [
              "0.9999931075815331"
            ]
          },
          "metadata": {},
          "execution_count": 99
        }
      ]
    }
  ],
  "metadata": {
    "kernelspec": {
      "display_name": "Python 3 (ipykernel)",
      "language": "python",
      "name": "python3"
    },
    "language_info": {
      "codemirror_mode": {
        "name": "ipython",
        "version": 3
      },
      "file_extension": ".py",
      "mimetype": "text/x-python",
      "name": "python",
      "nbconvert_exporter": "python",
      "pygments_lexer": "ipython3",
      "version": "3.8.9"
    },
    "colab": {
      "provenance": []
    }
  },
  "nbformat": 4,
  "nbformat_minor": 0
}