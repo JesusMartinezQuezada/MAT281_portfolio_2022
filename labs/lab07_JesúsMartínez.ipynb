{
  "cells": [
    {
      "cell_type": "markdown",
      "metadata": {
        "id": "QUqQmViCtq0-"
      },
      "source": [
        "<a href=\"https://colab.research.google.com/github/fralfaro/MAT281_2022/blob/main/labs/lab_07/lab_07.ipynb\" target=\"_parent\"><img src=\"https://colab.research.google.com/assets/colab-badge.svg\" alt=\"Open In Colab\"/></a>\n",
        "\n",
        "# MAT281 - Laboratorio N°07\n"
      ]
    },
    {
      "cell_type": "markdown",
      "metadata": {
        "id": "YqC2W2T7tq1G"
      },
      "source": [
        "<a id='p1'></a>\n",
        "## I.- Problema 01\n",
        "\n",
        "\n",
        "<img src=\"https://www.cardrates.com/wp-content/uploads/2020/08/shutterstock_576998230.jpg?1\" width=\"480\" height=\"360\" align=\"center\"/>\n",
        "\n",
        "\n",
        "El conjunto de datos se denomina `creditcard.csv` y consta de varias columnas con información acerca del fraude de tarjetas de crédito, en donde la columna **Class** corresponde a: 0 si no es un fraude y 1 si es un fraude.\n",
        "\n",
        "En este ejercicio se trabajará el problemas de  clases desbalancedas. Veamos las primeras cinco filas dle conjunto de datos:"
      ]
    },
    {
      "cell_type": "code",
      "execution_count": 33,
      "metadata": {
        "id": "1kIHrAaStq1L"
      },
      "outputs": [],
      "source": [
        "import os\n",
        "import numpy as np\n",
        "import pandas as pd\n",
        "import matplotlib.pyplot as plt\n",
        "import seaborn as sns\n",
        "\n",
        "from sklearn import datasets\n",
        "from sklearn.model_selection import train_test_split\n",
        "\n",
        "from sklearn.metrics import confusion_matrix,accuracy_score,recall_score,precision_score,f1_score\n",
        "from sklearn.dummy import DummyClassifier\n",
        "from sklearn.linear_model import LogisticRegression\n",
        "from sklearn.ensemble import RandomForestClassifier\n",
        "\n",
        "%matplotlib inline\n",
        "sns.set_palette(\"deep\", desat=.6)\n",
        "sns.set(rc={'figure.figsize':(11.7,8.27)})"
      ]
    },
    {
      "cell_type": "code",
      "execution_count": 34,
      "metadata": {
        "colab": {
          "base_uri": "https://localhost:8080/",
          "height": 299
        },
        "id": "gRsQB0nPtq1O",
        "outputId": "21c0b592-983d-4909-ca79-800ac6f7a613"
      },
      "outputs": [
        {
          "output_type": "execute_result",
          "data": {
            "text/plain": [
              "   Time        V1        V2        V3        V4        V5        V6        V7  \\\n",
              "0   0.0 -1.359807 -0.072781  2.536347  1.378155 -0.338321  0.462388  0.239599   \n",
              "1   4.0  1.229658  0.141004  0.045371  1.202613  0.191881  0.272708 -0.005159   \n",
              "2  10.0  1.249999 -1.221637  0.383930 -1.234899 -1.485419 -0.753230 -0.689405   \n",
              "3  10.0  0.384978  0.616109 -0.874300 -0.094019  2.924584  3.317027  0.470455   \n",
              "4  12.0  1.103215 -0.040296  1.267332  1.289091 -0.735997  0.288069 -0.586057   \n",
              "\n",
              "         V8        V9  ...       V21       V22       V23       V24       V25  \\\n",
              "0  0.098698  0.363787  ... -0.018307  0.277838 -0.110474  0.066928  0.128539   \n",
              "1  0.081213  0.464960  ... -0.167716 -0.270710 -0.154104 -0.780055  0.750137   \n",
              "2 -0.227487 -2.094011  ... -0.231809 -0.483285  0.084668  0.392831  0.161135   \n",
              "3  0.538247 -0.558895  ...  0.049924  0.238422  0.009130  0.996710 -0.767315   \n",
              "4  0.189380  0.782333  ... -0.024612  0.196002  0.013802  0.103758  0.364298   \n",
              "\n",
              "        V26       V27       V28  Amount  Class  \n",
              "0 -0.189115  0.133558 -0.021053  149.62      0  \n",
              "1 -0.257237  0.034507  0.005168    4.99      0  \n",
              "2 -0.354990  0.026416  0.042422  121.50      0  \n",
              "3 -0.492208  0.042472 -0.054337    9.99      0  \n",
              "4 -0.382261  0.092809  0.037051   12.99      0  \n",
              "\n",
              "[5 rows x 31 columns]"
            ],
            "text/html": [
              "\n",
              "  <div id=\"df-15d45a36-7b7a-491e-9d75-32d0ebaf5a02\">\n",
              "    <div class=\"colab-df-container\">\n",
              "      <div>\n",
              "<style scoped>\n",
              "    .dataframe tbody tr th:only-of-type {\n",
              "        vertical-align: middle;\n",
              "    }\n",
              "\n",
              "    .dataframe tbody tr th {\n",
              "        vertical-align: top;\n",
              "    }\n",
              "\n",
              "    .dataframe thead th {\n",
              "        text-align: right;\n",
              "    }\n",
              "</style>\n",
              "<table border=\"1\" class=\"dataframe\">\n",
              "  <thead>\n",
              "    <tr style=\"text-align: right;\">\n",
              "      <th></th>\n",
              "      <th>Time</th>\n",
              "      <th>V1</th>\n",
              "      <th>V2</th>\n",
              "      <th>V3</th>\n",
              "      <th>V4</th>\n",
              "      <th>V5</th>\n",
              "      <th>V6</th>\n",
              "      <th>V7</th>\n",
              "      <th>V8</th>\n",
              "      <th>V9</th>\n",
              "      <th>...</th>\n",
              "      <th>V21</th>\n",
              "      <th>V22</th>\n",
              "      <th>V23</th>\n",
              "      <th>V24</th>\n",
              "      <th>V25</th>\n",
              "      <th>V26</th>\n",
              "      <th>V27</th>\n",
              "      <th>V28</th>\n",
              "      <th>Amount</th>\n",
              "      <th>Class</th>\n",
              "    </tr>\n",
              "  </thead>\n",
              "  <tbody>\n",
              "    <tr>\n",
              "      <th>0</th>\n",
              "      <td>0.0</td>\n",
              "      <td>-1.359807</td>\n",
              "      <td>-0.072781</td>\n",
              "      <td>2.536347</td>\n",
              "      <td>1.378155</td>\n",
              "      <td>-0.338321</td>\n",
              "      <td>0.462388</td>\n",
              "      <td>0.239599</td>\n",
              "      <td>0.098698</td>\n",
              "      <td>0.363787</td>\n",
              "      <td>...</td>\n",
              "      <td>-0.018307</td>\n",
              "      <td>0.277838</td>\n",
              "      <td>-0.110474</td>\n",
              "      <td>0.066928</td>\n",
              "      <td>0.128539</td>\n",
              "      <td>-0.189115</td>\n",
              "      <td>0.133558</td>\n",
              "      <td>-0.021053</td>\n",
              "      <td>149.62</td>\n",
              "      <td>0</td>\n",
              "    </tr>\n",
              "    <tr>\n",
              "      <th>1</th>\n",
              "      <td>4.0</td>\n",
              "      <td>1.229658</td>\n",
              "      <td>0.141004</td>\n",
              "      <td>0.045371</td>\n",
              "      <td>1.202613</td>\n",
              "      <td>0.191881</td>\n",
              "      <td>0.272708</td>\n",
              "      <td>-0.005159</td>\n",
              "      <td>0.081213</td>\n",
              "      <td>0.464960</td>\n",
              "      <td>...</td>\n",
              "      <td>-0.167716</td>\n",
              "      <td>-0.270710</td>\n",
              "      <td>-0.154104</td>\n",
              "      <td>-0.780055</td>\n",
              "      <td>0.750137</td>\n",
              "      <td>-0.257237</td>\n",
              "      <td>0.034507</td>\n",
              "      <td>0.005168</td>\n",
              "      <td>4.99</td>\n",
              "      <td>0</td>\n",
              "    </tr>\n",
              "    <tr>\n",
              "      <th>2</th>\n",
              "      <td>10.0</td>\n",
              "      <td>1.249999</td>\n",
              "      <td>-1.221637</td>\n",
              "      <td>0.383930</td>\n",
              "      <td>-1.234899</td>\n",
              "      <td>-1.485419</td>\n",
              "      <td>-0.753230</td>\n",
              "      <td>-0.689405</td>\n",
              "      <td>-0.227487</td>\n",
              "      <td>-2.094011</td>\n",
              "      <td>...</td>\n",
              "      <td>-0.231809</td>\n",
              "      <td>-0.483285</td>\n",
              "      <td>0.084668</td>\n",
              "      <td>0.392831</td>\n",
              "      <td>0.161135</td>\n",
              "      <td>-0.354990</td>\n",
              "      <td>0.026416</td>\n",
              "      <td>0.042422</td>\n",
              "      <td>121.50</td>\n",
              "      <td>0</td>\n",
              "    </tr>\n",
              "    <tr>\n",
              "      <th>3</th>\n",
              "      <td>10.0</td>\n",
              "      <td>0.384978</td>\n",
              "      <td>0.616109</td>\n",
              "      <td>-0.874300</td>\n",
              "      <td>-0.094019</td>\n",
              "      <td>2.924584</td>\n",
              "      <td>3.317027</td>\n",
              "      <td>0.470455</td>\n",
              "      <td>0.538247</td>\n",
              "      <td>-0.558895</td>\n",
              "      <td>...</td>\n",
              "      <td>0.049924</td>\n",
              "      <td>0.238422</td>\n",
              "      <td>0.009130</td>\n",
              "      <td>0.996710</td>\n",
              "      <td>-0.767315</td>\n",
              "      <td>-0.492208</td>\n",
              "      <td>0.042472</td>\n",
              "      <td>-0.054337</td>\n",
              "      <td>9.99</td>\n",
              "      <td>0</td>\n",
              "    </tr>\n",
              "    <tr>\n",
              "      <th>4</th>\n",
              "      <td>12.0</td>\n",
              "      <td>1.103215</td>\n",
              "      <td>-0.040296</td>\n",
              "      <td>1.267332</td>\n",
              "      <td>1.289091</td>\n",
              "      <td>-0.735997</td>\n",
              "      <td>0.288069</td>\n",
              "      <td>-0.586057</td>\n",
              "      <td>0.189380</td>\n",
              "      <td>0.782333</td>\n",
              "      <td>...</td>\n",
              "      <td>-0.024612</td>\n",
              "      <td>0.196002</td>\n",
              "      <td>0.013802</td>\n",
              "      <td>0.103758</td>\n",
              "      <td>0.364298</td>\n",
              "      <td>-0.382261</td>\n",
              "      <td>0.092809</td>\n",
              "      <td>0.037051</td>\n",
              "      <td>12.99</td>\n",
              "      <td>0</td>\n",
              "    </tr>\n",
              "  </tbody>\n",
              "</table>\n",
              "<p>5 rows × 31 columns</p>\n",
              "</div>\n",
              "      <button class=\"colab-df-convert\" onclick=\"convertToInteractive('df-15d45a36-7b7a-491e-9d75-32d0ebaf5a02')\"\n",
              "              title=\"Convert this dataframe to an interactive table.\"\n",
              "              style=\"display:none;\">\n",
              "        \n",
              "  <svg xmlns=\"http://www.w3.org/2000/svg\" height=\"24px\"viewBox=\"0 0 24 24\"\n",
              "       width=\"24px\">\n",
              "    <path d=\"M0 0h24v24H0V0z\" fill=\"none\"/>\n",
              "    <path d=\"M18.56 5.44l.94 2.06.94-2.06 2.06-.94-2.06-.94-.94-2.06-.94 2.06-2.06.94zm-11 1L8.5 8.5l.94-2.06 2.06-.94-2.06-.94L8.5 2.5l-.94 2.06-2.06.94zm10 10l.94 2.06.94-2.06 2.06-.94-2.06-.94-.94-2.06-.94 2.06-2.06.94z\"/><path d=\"M17.41 7.96l-1.37-1.37c-.4-.4-.92-.59-1.43-.59-.52 0-1.04.2-1.43.59L10.3 9.45l-7.72 7.72c-.78.78-.78 2.05 0 2.83L4 21.41c.39.39.9.59 1.41.59.51 0 1.02-.2 1.41-.59l7.78-7.78 2.81-2.81c.8-.78.8-2.07 0-2.86zM5.41 20L4 18.59l7.72-7.72 1.47 1.35L5.41 20z\"/>\n",
              "  </svg>\n",
              "      </button>\n",
              "      \n",
              "  <style>\n",
              "    .colab-df-container {\n",
              "      display:flex;\n",
              "      flex-wrap:wrap;\n",
              "      gap: 12px;\n",
              "    }\n",
              "\n",
              "    .colab-df-convert {\n",
              "      background-color: #E8F0FE;\n",
              "      border: none;\n",
              "      border-radius: 50%;\n",
              "      cursor: pointer;\n",
              "      display: none;\n",
              "      fill: #1967D2;\n",
              "      height: 32px;\n",
              "      padding: 0 0 0 0;\n",
              "      width: 32px;\n",
              "    }\n",
              "\n",
              "    .colab-df-convert:hover {\n",
              "      background-color: #E2EBFA;\n",
              "      box-shadow: 0px 1px 2px rgba(60, 64, 67, 0.3), 0px 1px 3px 1px rgba(60, 64, 67, 0.15);\n",
              "      fill: #174EA6;\n",
              "    }\n",
              "\n",
              "    [theme=dark] .colab-df-convert {\n",
              "      background-color: #3B4455;\n",
              "      fill: #D2E3FC;\n",
              "    }\n",
              "\n",
              "    [theme=dark] .colab-df-convert:hover {\n",
              "      background-color: #434B5C;\n",
              "      box-shadow: 0px 1px 3px 1px rgba(0, 0, 0, 0.15);\n",
              "      filter: drop-shadow(0px 1px 2px rgba(0, 0, 0, 0.3));\n",
              "      fill: #FFFFFF;\n",
              "    }\n",
              "  </style>\n",
              "\n",
              "      <script>\n",
              "        const buttonEl =\n",
              "          document.querySelector('#df-15d45a36-7b7a-491e-9d75-32d0ebaf5a02 button.colab-df-convert');\n",
              "        buttonEl.style.display =\n",
              "          google.colab.kernel.accessAllowed ? 'block' : 'none';\n",
              "\n",
              "        async function convertToInteractive(key) {\n",
              "          const element = document.querySelector('#df-15d45a36-7b7a-491e-9d75-32d0ebaf5a02');\n",
              "          const dataTable =\n",
              "            await google.colab.kernel.invokeFunction('convertToInteractive',\n",
              "                                                     [key], {});\n",
              "          if (!dataTable) return;\n",
              "\n",
              "          const docLinkHtml = 'Like what you see? Visit the ' +\n",
              "            '<a target=\"_blank\" href=https://colab.research.google.com/notebooks/data_table.ipynb>data table notebook</a>'\n",
              "            + ' to learn more about interactive tables.';\n",
              "          element.innerHTML = '';\n",
              "          dataTable['output_type'] = 'display_data';\n",
              "          await google.colab.output.renderOutput(dataTable, element);\n",
              "          const docLink = document.createElement('div');\n",
              "          docLink.innerHTML = docLinkHtml;\n",
              "          element.appendChild(docLink);\n",
              "        }\n",
              "      </script>\n",
              "    </div>\n",
              "  </div>\n",
              "  "
            ]
          },
          "metadata": {},
          "execution_count": 34
        }
      ],
      "source": [
        "# cargar datos\n",
        "df = pd.read_csv(\"https://raw.githubusercontent.com/fralfaro/MAT281_2022/main/labs/lab_07/data/creditcard.csv\",sep=';')\n",
        "df.head()"
      ]
    },
    {
      "cell_type": "markdown",
      "metadata": {
        "id": "GONSMYH0tq1S"
      },
      "source": [
        "Analicemos el total de fraudes respecto a los casos que nos son fraudes:\n"
      ]
    },
    {
      "cell_type": "code",
      "execution_count": 35,
      "metadata": {
        "colab": {
          "base_uri": "https://localhost:8080/",
          "height": 112
        },
        "id": "5EaORCX_tq1U",
        "outputId": "4f901f9f-6aed-4d62-ce79-49b550865b94"
      },
      "outputs": [
        {
          "output_type": "execute_result",
          "data": {
            "text/plain": [
              "  fraude  total  porcentaje\n",
              "0     no  50000   99.025588\n",
              "1     si    492    0.974412"
            ],
            "text/html": [
              "\n",
              "  <div id=\"df-ec523c41-4fe1-41fb-baf0-2e66b27d631c\">\n",
              "    <div class=\"colab-df-container\">\n",
              "      <div>\n",
              "<style scoped>\n",
              "    .dataframe tbody tr th:only-of-type {\n",
              "        vertical-align: middle;\n",
              "    }\n",
              "\n",
              "    .dataframe tbody tr th {\n",
              "        vertical-align: top;\n",
              "    }\n",
              "\n",
              "    .dataframe thead th {\n",
              "        text-align: right;\n",
              "    }\n",
              "</style>\n",
              "<table border=\"1\" class=\"dataframe\">\n",
              "  <thead>\n",
              "    <tr style=\"text-align: right;\">\n",
              "      <th></th>\n",
              "      <th>fraude</th>\n",
              "      <th>total</th>\n",
              "      <th>porcentaje</th>\n",
              "    </tr>\n",
              "  </thead>\n",
              "  <tbody>\n",
              "    <tr>\n",
              "      <th>0</th>\n",
              "      <td>no</td>\n",
              "      <td>50000</td>\n",
              "      <td>99.025588</td>\n",
              "    </tr>\n",
              "    <tr>\n",
              "      <th>1</th>\n",
              "      <td>si</td>\n",
              "      <td>492</td>\n",
              "      <td>0.974412</td>\n",
              "    </tr>\n",
              "  </tbody>\n",
              "</table>\n",
              "</div>\n",
              "      <button class=\"colab-df-convert\" onclick=\"convertToInteractive('df-ec523c41-4fe1-41fb-baf0-2e66b27d631c')\"\n",
              "              title=\"Convert this dataframe to an interactive table.\"\n",
              "              style=\"display:none;\">\n",
              "        \n",
              "  <svg xmlns=\"http://www.w3.org/2000/svg\" height=\"24px\"viewBox=\"0 0 24 24\"\n",
              "       width=\"24px\">\n",
              "    <path d=\"M0 0h24v24H0V0z\" fill=\"none\"/>\n",
              "    <path d=\"M18.56 5.44l.94 2.06.94-2.06 2.06-.94-2.06-.94-.94-2.06-.94 2.06-2.06.94zm-11 1L8.5 8.5l.94-2.06 2.06-.94-2.06-.94L8.5 2.5l-.94 2.06-2.06.94zm10 10l.94 2.06.94-2.06 2.06-.94-2.06-.94-.94-2.06-.94 2.06-2.06.94z\"/><path d=\"M17.41 7.96l-1.37-1.37c-.4-.4-.92-.59-1.43-.59-.52 0-1.04.2-1.43.59L10.3 9.45l-7.72 7.72c-.78.78-.78 2.05 0 2.83L4 21.41c.39.39.9.59 1.41.59.51 0 1.02-.2 1.41-.59l7.78-7.78 2.81-2.81c.8-.78.8-2.07 0-2.86zM5.41 20L4 18.59l7.72-7.72 1.47 1.35L5.41 20z\"/>\n",
              "  </svg>\n",
              "      </button>\n",
              "      \n",
              "  <style>\n",
              "    .colab-df-container {\n",
              "      display:flex;\n",
              "      flex-wrap:wrap;\n",
              "      gap: 12px;\n",
              "    }\n",
              "\n",
              "    .colab-df-convert {\n",
              "      background-color: #E8F0FE;\n",
              "      border: none;\n",
              "      border-radius: 50%;\n",
              "      cursor: pointer;\n",
              "      display: none;\n",
              "      fill: #1967D2;\n",
              "      height: 32px;\n",
              "      padding: 0 0 0 0;\n",
              "      width: 32px;\n",
              "    }\n",
              "\n",
              "    .colab-df-convert:hover {\n",
              "      background-color: #E2EBFA;\n",
              "      box-shadow: 0px 1px 2px rgba(60, 64, 67, 0.3), 0px 1px 3px 1px rgba(60, 64, 67, 0.15);\n",
              "      fill: #174EA6;\n",
              "    }\n",
              "\n",
              "    [theme=dark] .colab-df-convert {\n",
              "      background-color: #3B4455;\n",
              "      fill: #D2E3FC;\n",
              "    }\n",
              "\n",
              "    [theme=dark] .colab-df-convert:hover {\n",
              "      background-color: #434B5C;\n",
              "      box-shadow: 0px 1px 3px 1px rgba(0, 0, 0, 0.15);\n",
              "      filter: drop-shadow(0px 1px 2px rgba(0, 0, 0, 0.3));\n",
              "      fill: #FFFFFF;\n",
              "    }\n",
              "  </style>\n",
              "\n",
              "      <script>\n",
              "        const buttonEl =\n",
              "          document.querySelector('#df-ec523c41-4fe1-41fb-baf0-2e66b27d631c button.colab-df-convert');\n",
              "        buttonEl.style.display =\n",
              "          google.colab.kernel.accessAllowed ? 'block' : 'none';\n",
              "\n",
              "        async function convertToInteractive(key) {\n",
              "          const element = document.querySelector('#df-ec523c41-4fe1-41fb-baf0-2e66b27d631c');\n",
              "          const dataTable =\n",
              "            await google.colab.kernel.invokeFunction('convertToInteractive',\n",
              "                                                     [key], {});\n",
              "          if (!dataTable) return;\n",
              "\n",
              "          const docLinkHtml = 'Like what you see? Visit the ' +\n",
              "            '<a target=\"_blank\" href=https://colab.research.google.com/notebooks/data_table.ipynb>data table notebook</a>'\n",
              "            + ' to learn more about interactive tables.';\n",
              "          element.innerHTML = '';\n",
              "          dataTable['output_type'] = 'display_data';\n",
              "          await google.colab.output.renderOutput(dataTable, element);\n",
              "          const docLink = document.createElement('div');\n",
              "          docLink.innerHTML = docLinkHtml;\n",
              "          element.appendChild(docLink);\n",
              "        }\n",
              "      </script>\n",
              "    </div>\n",
              "  </div>\n",
              "  "
            ]
          },
          "metadata": {},
          "execution_count": 35
        }
      ],
      "source": [
        "# calcular proporciones\n",
        "df_count = pd.DataFrame()\n",
        "df_count[\"fraude\"] =[\"no\",\"si\"]\n",
        "df_count[\"total\"] = df[\"Class\"].value_counts() \n",
        "df_count[\"porcentaje\"] = 100*df_count[\"total\"] /df_count[\"total\"] .sum()\n",
        "\n",
        "df_count"
      ]
    },
    {
      "cell_type": "markdown",
      "metadata": {
        "id": "1IYS8rQ9tq1W"
      },
      "source": [
        "Se observa que menos del 1% corresponde a registros frudulentos. La pregunta que surgen son:\n",
        "\n",
        "* ¿ Cómo deben ser el conjunto de entrenamiento y de testeo?\n",
        "* ¿ Qué modelos ocupar?\n",
        "* ¿ Qué métricas ocupar?\n",
        "\n",
        "Por ejemplo, analicemos el modelos de regresión logística y apliquemos el procedimiento estándar:"
      ]
    },
    {
      "cell_type": "code",
      "execution_count": 36,
      "metadata": {
        "colab": {
          "base_uri": "https://localhost:8080/"
        },
        "id": "vi_82dS0tq1Y",
        "outputId": "0e1c0521-bf50-47e5-cfe0-3109e31f596e"
      },
      "outputs": [
        {
          "output_type": "execute_result",
          "data": {
            "text/plain": [
              "0.9961181969420898"
            ]
          },
          "metadata": {},
          "execution_count": 36
        }
      ],
      "source": [
        "# datos \n",
        "y = df.Class\n",
        "X = df.drop('Class', axis=1)\n",
        "\n",
        "# split dataset\n",
        "X_train, X_test, y_train, y_test = train_test_split(X, y, test_size=0.25, random_state=27)\n",
        "\n",
        "\n",
        "# Creando el modelo\n",
        "lr = LogisticRegression(solver='liblinear').fit(X_train, y_train)\n",
        " \n",
        "# predecir\n",
        "lr_pred = lr.predict(X_test)\n",
        "\n",
        "# calcular accuracy\n",
        "accuracy_score(y_test, lr_pred)"
      ]
    },
    {
      "cell_type": "markdown",
      "metadata": {
        "id": "pQ8XfzQ8tq13"
      },
      "source": [
        "En general el modelo tiene un **accuracy** del 99,9%, es decir, un podría suponer que el modelo predice casi perfectamente, pero eso esta lejos de ser así.  Para ver por qué es necesario seguir los siguientes pasos:"
      ]
    },
    {
      "cell_type": "markdown",
      "metadata": {
        "id": "lDXoNEzJtq15"
      },
      "source": [
        "### 1. Cambiar la métrica de rendimiento\n",
        "\n",
        "El primer paso es comparar con distintas métricas, para eso ocupemos las 4 métricas clásicas abordadas en el curso:\n",
        "* accuracy\n",
        "* precision\n",
        "* recall\n",
        "* f-score\n",
        "\n",
        "En este punto deberá poner las métricas correspondientes y comentar sus resultados."
      ]
    },
    {
      "cell_type": "code",
      "execution_count": 37,
      "metadata": {
        "colab": {
          "base_uri": "https://localhost:8080/"
        },
        "id": "GyK9s-netq3R",
        "outputId": "444e3140-dc0a-4b40-bfc8-0db3282f2ca9"
      },
      "outputs": [
        {
          "output_type": "stream",
          "name": "stdout",
          "text": [
            "\n",
            "Matriz de confusion:\n",
            " \n",
            "[[12471    16]\n",
            " [   33   103]]\n",
            "\n",
            "Metricas:\n",
            " \n",
            "accuracy:    0.9961181969420898\n",
            "recall:      0.7573529411764706\n",
            "precision:   0.865546218487395\n",
            "f-score:     0.807843137254902\n",
            "\n"
          ]
        }
      ],
      "source": [
        "# metrics\n",
        "y_true =  list(y_test)\n",
        "y_pred = list(lr.predict(X_test))\n",
        "\n",
        "#Guardamos los datos para la comparativa final\n",
        "accuracy1=accuracy_score(y_test, lr_pred)\n",
        "recall1=recall_score(y_test, lr_pred)\n",
        "precision1=precision_score(y_test, lr_pred)\n",
        "fscore1=f1_score(y_test, lr_pred)\n",
        "\n",
        "print('\\nMatriz de confusion:\\n ')\n",
        "print(confusion_matrix(y_true,y_pred))\n",
        "\n",
        "print('\\nMetricas:\\n ')\n",
        "print('accuracy:   ',accuracy_score(y_test, lr_pred))\n",
        "print('recall:     ',recall_score(y_test, lr_pred))\n",
        "print('precision:  ',precision_score(y_test, lr_pred))\n",
        "print('f-score:    ',f1_score(y_test, lr_pred))\n",
        "print(\"\")"
      ]
    },
    {
      "cell_type": "markdown",
      "source": [
        "Como lo visto anteriormente, el accuracy que mide es muy bueno. Sin embargo, podemos ver que las otras medidas van distanciándose del 1. No obstante, sigue siendo un modelo que predice bien el comportamiento de la muestra, pero nosotros queremos ver los casos fraudulentos, y al haber tantos casos correctos, no es un muy bueno modelo para reconocer lo que se desea."
      ],
      "metadata": {
        "id": "YPpZ-HI2vLAj"
      }
    },
    {
      "cell_type": "markdown",
      "metadata": {
        "id": "OmkmWWjdtq3S"
      },
      "source": [
        "### 2. Cambiar algoritmo\n",
        "\n",
        "El segundo paso es comparar con distintos modelos. Debe tener en cuenta que el modelo ocupaod resuelva el problema supervisado de clasificación.\n",
        "\n",
        "En este punto deberá ajustar un modelo de **random forest**, aplicar las métricas y comparar con el modelo de regresión logística."
      ]
    },
    {
      "cell_type": "code",
      "execution_count": 38,
      "metadata": {
        "colab": {
          "base_uri": "https://localhost:8080/"
        },
        "id": "IBrBskMGtq3T",
        "outputId": "6db8ef4e-49cc-4d17-f1d9-0b9268dde43f"
      },
      "outputs": [
        {
          "output_type": "execute_result",
          "data": {
            "text/plain": [
              "RandomForestClassifier()"
            ]
          },
          "metadata": {},
          "execution_count": 38
        }
      ],
      "source": [
        "# train model\n",
        "\n",
        "rfc =  RandomForestClassifier(n_estimators=100)\n",
        "rfc.fit(X_train,y_train)"
      ]
    },
    {
      "cell_type": "code",
      "execution_count": 39,
      "metadata": {
        "colab": {
          "base_uri": "https://localhost:8080/"
        },
        "id": "DuCqP5Cntq3U",
        "outputId": "129868eb-4537-407d-cd94-04ab99d98700"
      },
      "outputs": [
        {
          "output_type": "stream",
          "name": "stdout",
          "text": [
            "\n",
            "Matriz de confusion:\n",
            " \n",
            "[[12484     3]\n",
            " [   24   112]]\n",
            "\n",
            "Metricas:\n",
            " \n",
            "accuracy:    0.9978610472946209\n",
            "recall:      0.8235294117647058\n",
            "precision:   0.9739130434782609\n",
            "f-score:     0.8924302788844622\n",
            "\n"
          ]
        }
      ],
      "source": [
        "# metrics\n",
        "\n",
        "y_true =  list(y_test)\n",
        "y_pred = list(rfc.predict(X_test)) # predicciones con random forest\n",
        "\n",
        "#Guardamos los datos para la comparativa final\n",
        "accuracy2=accuracy_score(y_true, y_pred)\n",
        "recall2=recall_score(y_true, y_pred)\n",
        "precision2=precision_score(y_true, y_pred)\n",
        "fscore2=f1_score(y_true, y_pred)\n",
        "\n",
        "print('\\nMatriz de confusion:\\n ')\n",
        "print(confusion_matrix(y_true,y_pred))\n",
        "\n",
        "print('\\nMetricas:\\n ')\n",
        "print('accuracy:   ',accuracy_score(y_true,y_pred))\n",
        "print('recall:     ',recall_score(y_true,y_pred))\n",
        "print('precision:  ',precision_score(y_true,y_pred))\n",
        "print('f-score:    ',f1_score(y_true,y_pred))\n",
        "print(\"\")"
      ]
    },
    {
      "cell_type": "markdown",
      "source": [
        "Notemos que el nuevo modelo tiene aún más precisión y pareciera acercarse más a la realidad que el anterior. Pero, por el funcionamiento de un RandomForest, es muy poco probable que los datos que haya tomado sean parte de los datos fraudulentos, por lo que, al igual que el anterior, a pesar de tener datos muy cercanos a 1, este no sirve para el objetivo buscado."
      ],
      "metadata": {
        "id": "6boyZOplxDcq"
      }
    },
    {
      "cell_type": "markdown",
      "metadata": {
        "id": "Hh8Sl0nDtq3V"
      },
      "source": [
        "### 3. Técnicas de remuestreo: sobremuestreo de clase minoritaria\n",
        "\n",
        "El tercer paso es ocupar ténicas de remuestreo, pero sobre la clase minoritaria. Esto significa que mediantes ténicas de remuestreo trataremos de equiparar el número de elementos de la clase minoritaria a la clase mayoritaria."
      ]
    },
    {
      "cell_type": "code",
      "execution_count": 40,
      "metadata": {
        "colab": {
          "base_uri": "https://localhost:8080/"
        },
        "id": "1PgF7HP-tq3V",
        "outputId": "8dc16c40-651a-4591-df23-6859bea829f6"
      },
      "outputs": [
        {
          "output_type": "execute_result",
          "data": {
            "text/plain": [
              "0    37513\n",
              "1    37513\n",
              "Name: Class, dtype: int64"
            ]
          },
          "metadata": {},
          "execution_count": 40
        }
      ],
      "source": [
        "from sklearn.utils import resample\n",
        "\n",
        "# concatenar el conjunto de entrenamiento\n",
        "X = pd.concat([X_train, y_train], axis=1)\n",
        "\n",
        "# separar las clases\n",
        "not_fraud = X[X.Class==0]\n",
        "fraud = X[X.Class==1]\n",
        "\n",
        "# remuestrear  clase minoritaria\n",
        "fraud_upsampled = resample(fraud,\n",
        "                          replace=True, # sample with replacement\n",
        "                          n_samples=len(not_fraud), # match number in majority class\n",
        "                          random_state=27) # reproducible results\n",
        "\n",
        "# recombinar resultados\n",
        "upsampled = pd.concat([not_fraud, fraud_upsampled])\n",
        "\n",
        "# chequear el número de elementos por clases\n",
        "upsampled.Class.value_counts()"
      ]
    },
    {
      "cell_type": "code",
      "execution_count": 41,
      "metadata": {
        "id": "B6qG-gFbtq3W"
      },
      "outputs": [],
      "source": [
        "# datos de entrenamiento sobre-balanceados\n",
        "y_train = upsampled.Class\n",
        "X_train = upsampled.drop('Class', axis=1)"
      ]
    },
    {
      "cell_type": "markdown",
      "metadata": {
        "id": "VHXcy8cOtq3W"
      },
      "source": [
        "Ocupando estos nuevos conjunto de entrenamientos, vuelva a aplicar el modelos de regresión logística y calcule las correspondientes métricas. Además, justifique las ventajas y desventjas de este procedimiento."
      ]
    },
    {
      "cell_type": "code",
      "execution_count": 42,
      "metadata": {
        "colab": {
          "base_uri": "https://localhost:8080/"
        },
        "id": "XIqjtvyntq3W",
        "outputId": "5e0500c1-19b3-4f3a-e3b9-6654156bc987"
      },
      "outputs": [
        {
          "output_type": "stream",
          "name": "stdout",
          "text": [
            "\n",
            "Matriz de confusion:\n",
            " \n",
            "[[12200   287]\n",
            " [   12   124]]\n",
            "\n",
            "Metricas:\n",
            " \n",
            "accuracy:    0.976313079299691\n",
            "recall:      0.9117647058823529\n",
            "precision:   0.30170316301703165\n",
            "f-score:     0.45338208409506403\n",
            "\n"
          ]
        }
      ],
      "source": [
        "upsampled = LogisticRegression(solver='liblinear') # algoritmo de regresion logistica, usando lo visto al inicio del lab\n",
        "upsampled.fit(X_train,y_train)\n",
        "\n",
        "# metrics\n",
        "\n",
        "y_true =  list(y_test)\n",
        "y_pred = list(upsampled.predict(X_test))\n",
        "\n",
        "#Guardamos los datos para la comparativa final\n",
        "accuracy3=accuracy_score(y_true, y_pred)\n",
        "recall3=recall_score(y_true, y_pred)\n",
        "precision3=precision_score(y_true, y_pred)\n",
        "fscore3=f1_score(y_true, y_pred)\n",
        "\n",
        "print('\\nMatriz de confusion:\\n ')\n",
        "print(confusion_matrix(y_true,y_pred))\n",
        "\n",
        "print('\\nMetricas:\\n ')\n",
        "print('accuracy:   ',accuracy_score(y_true,y_pred))\n",
        "print('recall:     ',recall_score(y_true,y_pred))\n",
        "print('precision:  ',precision_score(y_true,y_pred))\n",
        "print('f-score:    ',f1_score(y_true,y_pred))\n",
        "print(\"\")"
      ]
    },
    {
      "cell_type": "markdown",
      "source": [
        "El sobremuestreo hace que la cantidad de datos minoritaria (los fraudes) alcancen la cantidad de datos mayoritaria (los no fraudulentos), por lo que tiene la ventaja de no tener pérdida de información, sirve para comparativas de datos desbalanceados, y de desventaja, se puede tener una mala visión de la realidad de los datos por la réplica de datos minoritarios.\n",
        "\n",
        "A efectos de nuestro ejercicio, resulta ser un buen modelo. Se puede notar que la precisión y el f-score bajan mucho respecto a los otros modelos, lo que indica que los datos minoritarios están causando problemas, y es un buen modelo para buscar fraudes."
      ],
      "metadata": {
        "id": "FvVJn93c4e7z"
      }
    },
    {
      "cell_type": "markdown",
      "metadata": {
        "id": "_BGXxaKMtq3X"
      },
      "source": [
        "### 4. Técnicas de remuestreo - Ejemplo de clase mayoritaria\n",
        "\n",
        "El cuarto paso es ocupar ténicas de remuestreo, pero sobre la clase mayoritaria. Esto significa que mediantes ténicas de remuestreo trataremos de equiparar el número de elementos de la clase mayoritaria  a la clase minoritaria."
      ]
    },
    {
      "cell_type": "code",
      "execution_count": 43,
      "metadata": {
        "colab": {
          "base_uri": "https://localhost:8080/"
        },
        "id": "ckx81Hpwtq3X",
        "outputId": "9bfe2884-40a6-41d2-8e63-3001a8f2b911"
      },
      "outputs": [
        {
          "output_type": "execute_result",
          "data": {
            "text/plain": [
              "0    356\n",
              "1    356\n",
              "Name: Class, dtype: int64"
            ]
          },
          "metadata": {},
          "execution_count": 43
        }
      ],
      "source": [
        "# remuestreo clase mayoritaria\n",
        "not_fraud_downsampled = resample(not_fraud,\n",
        "                                replace = False, # sample without replacement\n",
        "                                n_samples = len(fraud), # match minority n\n",
        "                                random_state = 27) # reproducible results\n",
        "\n",
        "# recombinar resultados\n",
        "downsampled = pd.concat([not_fraud_downsampled, fraud])\n",
        "\n",
        "# chequear el número de elementos por clases\n",
        "downsampled.Class.value_counts()"
      ]
    },
    {
      "cell_type": "code",
      "execution_count": 44,
      "metadata": {
        "id": "BuC1epWStq3Y"
      },
      "outputs": [],
      "source": [
        "# datos de entrenamiento sub-balanceados\n",
        "\n",
        "y_train = downsampled.Class\n",
        "X_train = downsampled.drop('Class', axis=1)"
      ]
    },
    {
      "cell_type": "markdown",
      "metadata": {
        "id": "AqUWomwYtq3Y"
      },
      "source": [
        "Ocupando estos nuevos conjunto de entrenamientos, vuelva a aplicar el modelos de regresión logística y calcule las correspondientes métricas. Además, |justifique las ventajas y desventjas de este procedimiento."
      ]
    },
    {
      "cell_type": "code",
      "execution_count": 45,
      "metadata": {
        "colab": {
          "base_uri": "https://localhost:8080/"
        },
        "id": "FoDWe447tq3Z",
        "outputId": "0ed8187e-fdfa-4097-9d31-997e15da6024"
      },
      "outputs": [
        {
          "output_type": "stream",
          "name": "stdout",
          "text": [
            "\n",
            "Matriz de confusion:\n",
            " \n",
            "[[12216   271]\n",
            " [   16   120]]\n",
            "\n",
            "Metricas:\n",
            " \n",
            "accuracy:    0.9772637249465261\n",
            "recall:      0.8823529411764706\n",
            "precision:   0.3069053708439898\n",
            "f-score:     0.45540796963946867\n",
            "\n"
          ]
        }
      ],
      "source": [
        "undersampled = LogisticRegression(solver='liblinear') # algoritmo de regresion logistic\n",
        "undersampled.fit(X_train,y_train)\n",
        "# metrics\n",
        "\n",
        "y_true =  list(y_test)\n",
        "y_pred = list(undersampled.predict(X_test))\n",
        "\n",
        "#Guardamos los datos para la comparativa final\n",
        "accuracy4=accuracy_score(y_true, y_pred)\n",
        "recall4=recall_score(y_true, y_pred)\n",
        "precision4=precision_score(y_true, y_pred)\n",
        "fscore4=f1_score(y_true, y_pred)\n",
        "\n",
        "print('\\nMatriz de confusion:\\n ')\n",
        "print(confusion_matrix(y_true,y_pred))\n",
        "\n",
        "print('\\nMetricas:\\n ')\n",
        "print('accuracy:   ',accuracy_score(y_true,y_pred))\n",
        "print('recall:     ',recall_score(y_true,y_pred))\n",
        "print('precision:  ',precision_score(y_true,y_pred))\n",
        "print('f-score:    ',f1_score(y_true,y_pred))\n",
        "print(\"\")"
      ]
    },
    {
      "cell_type": "markdown",
      "source": [
        "El submuestreo hace que los datos mayoritarios se reduzcan hasta alcanzar los minoritarios. Esto tiene como clara desventaja una pérdida de información, y de ventaja que, de ser muchos datos, el tiempo de ejecución mejora mucho.\n",
        "\n",
        "A efectos de nuestro modelo, podemos ver lo mismo que en el modelo anterior, donde la precisión y el f-score bajan mucho respecto a modelos anteriores (sin contar el sobremuestreo), y sirve para medir datos fraudulentos por la misma razón que en el sobremuestreo."
      ],
      "metadata": {
        "id": "VKTl70LC5Obu"
      }
    },
    {
      "cell_type": "markdown",
      "metadata": {
        "id": "Eef43otvtq3a"
      },
      "source": [
        "### 5. Conclusiones\n",
        "\n",
        "Para finalizar el laboratorio, debe realizar un análisis comparativo con los disintos resultados obtenidos  en los pasos 1-4. Saque sus propias conclusiones del caso."
      ]
    },
    {
      "cell_type": "code",
      "source": [
        "Datos = {'n_modelo': ['1','2','3','4'],\n",
        "          'accuracy': [accuracy1,accuracy2,accuracy3,accuracy4],\n",
        "          'recall': [recall1,recall2,recall3,recall4],\n",
        "          'precision': [precision1,precision2,precision3,precision4],\n",
        "          'f-score': [fscore1,fscore2,fscore3,fscore4],\n",
        "}\n",
        "\n",
        "AnalisisDeDatos=pd.DataFrame(Datos)\n",
        "AnalisisDeDatos"
      ],
      "metadata": {
        "colab": {
          "base_uri": "https://localhost:8080/",
          "height": 175
        },
        "id": "odfMBtwE5ZYi",
        "outputId": "0ee9580b-bd4c-4efa-f4c7-a9858b9f1076"
      },
      "execution_count": 46,
      "outputs": [
        {
          "output_type": "execute_result",
          "data": {
            "text/plain": [
              "  n_modelo  accuracy    recall  precision   f-score\n",
              "0        1  0.996118  0.757353   0.865546  0.807843\n",
              "1        2  0.997861  0.823529   0.973913  0.892430\n",
              "2        3  0.976313  0.911765   0.301703  0.453382\n",
              "3        4  0.977264  0.882353   0.306905  0.455408"
            ],
            "text/html": [
              "\n",
              "  <div id=\"df-2f092967-8bbc-4b05-ac12-413c9820552c\">\n",
              "    <div class=\"colab-df-container\">\n",
              "      <div>\n",
              "<style scoped>\n",
              "    .dataframe tbody tr th:only-of-type {\n",
              "        vertical-align: middle;\n",
              "    }\n",
              "\n",
              "    .dataframe tbody tr th {\n",
              "        vertical-align: top;\n",
              "    }\n",
              "\n",
              "    .dataframe thead th {\n",
              "        text-align: right;\n",
              "    }\n",
              "</style>\n",
              "<table border=\"1\" class=\"dataframe\">\n",
              "  <thead>\n",
              "    <tr style=\"text-align: right;\">\n",
              "      <th></th>\n",
              "      <th>n_modelo</th>\n",
              "      <th>accuracy</th>\n",
              "      <th>recall</th>\n",
              "      <th>precision</th>\n",
              "      <th>f-score</th>\n",
              "    </tr>\n",
              "  </thead>\n",
              "  <tbody>\n",
              "    <tr>\n",
              "      <th>0</th>\n",
              "      <td>1</td>\n",
              "      <td>0.996118</td>\n",
              "      <td>0.757353</td>\n",
              "      <td>0.865546</td>\n",
              "      <td>0.807843</td>\n",
              "    </tr>\n",
              "    <tr>\n",
              "      <th>1</th>\n",
              "      <td>2</td>\n",
              "      <td>0.997861</td>\n",
              "      <td>0.823529</td>\n",
              "      <td>0.973913</td>\n",
              "      <td>0.892430</td>\n",
              "    </tr>\n",
              "    <tr>\n",
              "      <th>2</th>\n",
              "      <td>3</td>\n",
              "      <td>0.976313</td>\n",
              "      <td>0.911765</td>\n",
              "      <td>0.301703</td>\n",
              "      <td>0.453382</td>\n",
              "    </tr>\n",
              "    <tr>\n",
              "      <th>3</th>\n",
              "      <td>4</td>\n",
              "      <td>0.977264</td>\n",
              "      <td>0.882353</td>\n",
              "      <td>0.306905</td>\n",
              "      <td>0.455408</td>\n",
              "    </tr>\n",
              "  </tbody>\n",
              "</table>\n",
              "</div>\n",
              "      <button class=\"colab-df-convert\" onclick=\"convertToInteractive('df-2f092967-8bbc-4b05-ac12-413c9820552c')\"\n",
              "              title=\"Convert this dataframe to an interactive table.\"\n",
              "              style=\"display:none;\">\n",
              "        \n",
              "  <svg xmlns=\"http://www.w3.org/2000/svg\" height=\"24px\"viewBox=\"0 0 24 24\"\n",
              "       width=\"24px\">\n",
              "    <path d=\"M0 0h24v24H0V0z\" fill=\"none\"/>\n",
              "    <path d=\"M18.56 5.44l.94 2.06.94-2.06 2.06-.94-2.06-.94-.94-2.06-.94 2.06-2.06.94zm-11 1L8.5 8.5l.94-2.06 2.06-.94-2.06-.94L8.5 2.5l-.94 2.06-2.06.94zm10 10l.94 2.06.94-2.06 2.06-.94-2.06-.94-.94-2.06-.94 2.06-2.06.94z\"/><path d=\"M17.41 7.96l-1.37-1.37c-.4-.4-.92-.59-1.43-.59-.52 0-1.04.2-1.43.59L10.3 9.45l-7.72 7.72c-.78.78-.78 2.05 0 2.83L4 21.41c.39.39.9.59 1.41.59.51 0 1.02-.2 1.41-.59l7.78-7.78 2.81-2.81c.8-.78.8-2.07 0-2.86zM5.41 20L4 18.59l7.72-7.72 1.47 1.35L5.41 20z\"/>\n",
              "  </svg>\n",
              "      </button>\n",
              "      \n",
              "  <style>\n",
              "    .colab-df-container {\n",
              "      display:flex;\n",
              "      flex-wrap:wrap;\n",
              "      gap: 12px;\n",
              "    }\n",
              "\n",
              "    .colab-df-convert {\n",
              "      background-color: #E8F0FE;\n",
              "      border: none;\n",
              "      border-radius: 50%;\n",
              "      cursor: pointer;\n",
              "      display: none;\n",
              "      fill: #1967D2;\n",
              "      height: 32px;\n",
              "      padding: 0 0 0 0;\n",
              "      width: 32px;\n",
              "    }\n",
              "\n",
              "    .colab-df-convert:hover {\n",
              "      background-color: #E2EBFA;\n",
              "      box-shadow: 0px 1px 2px rgba(60, 64, 67, 0.3), 0px 1px 3px 1px rgba(60, 64, 67, 0.15);\n",
              "      fill: #174EA6;\n",
              "    }\n",
              "\n",
              "    [theme=dark] .colab-df-convert {\n",
              "      background-color: #3B4455;\n",
              "      fill: #D2E3FC;\n",
              "    }\n",
              "\n",
              "    [theme=dark] .colab-df-convert:hover {\n",
              "      background-color: #434B5C;\n",
              "      box-shadow: 0px 1px 3px 1px rgba(0, 0, 0, 0.15);\n",
              "      filter: drop-shadow(0px 1px 2px rgba(0, 0, 0, 0.3));\n",
              "      fill: #FFFFFF;\n",
              "    }\n",
              "  </style>\n",
              "\n",
              "      <script>\n",
              "        const buttonEl =\n",
              "          document.querySelector('#df-2f092967-8bbc-4b05-ac12-413c9820552c button.colab-df-convert');\n",
              "        buttonEl.style.display =\n",
              "          google.colab.kernel.accessAllowed ? 'block' : 'none';\n",
              "\n",
              "        async function convertToInteractive(key) {\n",
              "          const element = document.querySelector('#df-2f092967-8bbc-4b05-ac12-413c9820552c');\n",
              "          const dataTable =\n",
              "            await google.colab.kernel.invokeFunction('convertToInteractive',\n",
              "                                                     [key], {});\n",
              "          if (!dataTable) return;\n",
              "\n",
              "          const docLinkHtml = 'Like what you see? Visit the ' +\n",
              "            '<a target=\"_blank\" href=https://colab.research.google.com/notebooks/data_table.ipynb>data table notebook</a>'\n",
              "            + ' to learn more about interactive tables.';\n",
              "          element.innerHTML = '';\n",
              "          dataTable['output_type'] = 'display_data';\n",
              "          await google.colab.output.renderOutput(dataTable, element);\n",
              "          const docLink = document.createElement('div');\n",
              "          docLink.innerHTML = docLinkHtml;\n",
              "          element.appendChild(docLink);\n",
              "        }\n",
              "      </script>\n",
              "    </div>\n",
              "  </div>\n",
              "  "
            ]
          },
          "metadata": {},
          "execution_count": 46
        }
      ]
    },
    {
      "cell_type": "markdown",
      "source": [
        "Podemos comenzara  concluir.\n",
        "Ya vimos que, a pesar de que el primer y segundo modelo son muy buenos para predecir datos en lo general, estos no sirven, a efectos prácticos, en lo que nosotros buscamos, pues la cantidad de datos de interés (los fraudes) son tan despreciables, que el modelo es poco probable que los considere.\n",
        "\n",
        "Con esto, notemos que el tercer y cuarto modelo presentan datos similares en cuanto a precision y f-score, que están, además, alejados del 1, y un recall muy alto (junto con un accuracy). Esto es de suma importancia, un recall y un accuracy alto significan que el modelo, la mayor parte del tiempo, resulta fidedigno en cuanto a los datos verdaderos, y al tener un f1 y una precisión baja, implica que los datos fraudulentos hacen ruido en la muestra, y por ende, son buenos modelos para identificar casos fraudulentos, pues fueron entrenados con estos.\n",
        "\n",
        "Además, el tercer modelo pareciera ser el mejor, pues, además, no existe pérdida de información como en el cuarto."
      ],
      "metadata": {
        "id": "2MiL9tVjmXdi"
      }
    }
  ],
  "metadata": {
    "kernelspec": {
      "display_name": "Python 3",
      "language": "python",
      "name": "python3"
    },
    "language_info": {
      "codemirror_mode": {
        "name": "ipython",
        "version": 3
      },
      "file_extension": ".py",
      "mimetype": "text/x-python",
      "name": "python",
      "nbconvert_exporter": "python",
      "pygments_lexer": "ipython3",
      "version": "3.8.10"
    },
    "colab": {
      "provenance": []
    }
  },
  "nbformat": 4,
  "nbformat_minor": 0
}